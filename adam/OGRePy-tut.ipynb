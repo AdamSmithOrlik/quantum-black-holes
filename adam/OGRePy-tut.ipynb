{
 "cells": [
  {
   "cell_type": "markdown",
   "metadata": {},
   "source": [
    "Following the tutorial on the OGRePy github page [here](https://github.com/bshoshany/OGRePy)"
   ]
  },
  {
   "cell_type": "code",
   "execution_count": 12,
   "metadata": {},
   "outputs": [],
   "source": [
    "import numpy as np\n",
    "import matplotlib.pyplot as plt\n",
    "\n",
    "import OGRePy as gr"
   ]
  },
  {
   "cell_type": "markdown",
   "metadata": {},
   "source": [
    "# Basics, Metrics, Tensors, Displaying "
   ]
  },
  {
   "cell_type": "code",
   "execution_count": 13,
   "metadata": {},
   "outputs": [
    {
     "data": {
      "text/markdown": [
       "<div style=\"border: 1px solid; margin: auto; padding: 1em; width: 90%\">\n",
       "\n",
       "`Coordinates(*components: s.Symbol | str) -> None`\n",
       "\n",
       "Construct a new coordinate object.\n",
       "#### Parameters:\n",
       "* `components`: One or more strings or SymPy `Symbol` objects specifying the coordinates. Strings should be in the same format as the argument to SymPy's `symbols()`, e.g. `\"t x y z\"`, and it is possible to enter just one string for all the coordinates.\n",
       "\n",
       "</div>"
      ],
      "text/plain": [
       "<IPython.core.display.Markdown object>"
      ]
     },
     "metadata": {},
     "output_type": "display_data"
    }
   ],
   "source": [
    "gr.doc(gr.Coordinates)"
   ]
  },
  {
   "cell_type": "code",
   "execution_count": 14,
   "metadata": {},
   "outputs": [],
   "source": [
    "from OGRePy.abc import t, x, y, z"
   ]
  },
  {
   "cell_type": "code",
   "execution_count": 15,
   "metadata": {},
   "outputs": [],
   "source": [
    "Cartesian = gr.Coordinates(t,x, y, z)"
   ]
  },
  {
   "cell_type": "code",
   "execution_count": 16,
   "metadata": {},
   "outputs": [],
   "source": [
    "from OGRePy.abc import phi, theta\n",
    "\n",
    "r = gr.sym(\"r\", nonnegative=True)\n",
    "\n",
    "Spherical = gr.Coordinates(t, r, theta, phi)"
   ]
  },
  {
   "cell_type": "code",
   "execution_count": 17,
   "metadata": {},
   "outputs": [
    {
     "data": {
      "text/latex": [
       "$\\displaystyle \\left|{t}\\right|$"
      ],
      "text/plain": [
       "Abs(t)"
      ]
     },
     "execution_count": 17,
     "metadata": {},
     "output_type": "execute_result"
    }
   ],
   "source": [
    "gr.s.simplify(gr.s.sqrt(t**2))"
   ]
  },
  {
   "cell_type": "code",
   "execution_count": 18,
   "metadata": {},
   "outputs": [
    {
     "data": {
      "text/latex": [
       "$\\displaystyle r$"
      ],
      "text/plain": [
       "r"
      ]
     },
     "execution_count": 18,
     "metadata": {},
     "output_type": "execute_result"
    }
   ],
   "source": [
    "gr.s.simplify(gr.s.sqrt(r**2))"
   ]
  },
  {
   "cell_type": "code",
   "execution_count": 19,
   "metadata": {},
   "outputs": [
    {
     "data": {
      "text/markdown": [
       "<div style=\"border: 1px solid; margin: auto; padding: 1em; width: 90%\">\n",
       "\n",
       "`Metric(*, coords: Coordinates, components: list[Any] | s.NDimArray | s.Matrix, symbol: str | s.Symbol = g) -> None`\n",
       "\n",
       "Construct a new metric object.\n",
       "#### Parameters:\n",
       "* `coords`: An OGRePy `Coordinates` object specifying the coordinate system of the representation of the initialization components. Will also be designated the default coordinate system of the metric.\n",
       "* `components`: The components with which to initialize the metric. Can be a list, a SymPy `Array` object, or a SymPy `Matrix` object.\n",
       "* `symbol` (optional): A string or a SymPy `Symbol` object designating the symbol to be used when displaying the metric. The string can include any TeX symbols, e.g. `r\"\\hat{T}\"` (note the `r` in front of the string, indicating that the `\\` in the string is not an escape character).\n",
       "#### Exceptions:\n",
       "* `OGRePyError`: If the metric components are not an invertible symmetric matrix.\n",
       "\n",
       "</div>"
      ],
      "text/plain": [
       "<IPython.core.display.Markdown object>"
      ]
     },
     "metadata": {},
     "output_type": "display_data"
    }
   ],
   "source": [
    "gr.doc(gr.Metric)"
   ]
  },
  {
   "cell_type": "code",
   "execution_count": 20,
   "metadata": {},
   "outputs": [],
   "source": [
    "Minkowski = gr.Metric(\n",
    "    coords = Cartesian,\n",
    "    components = gr.diag(-1,1,1,1),\n",
    "    symbol = \"eta\"\n",
    ")"
   ]
  },
  {
   "cell_type": "code",
   "execution_count": 21,
   "metadata": {},
   "outputs": [
    {
     "data": {
      "text/markdown": [
       "$$\\eta{}_{\\mu}{}_{\\nu}\\Bigg|_{\\left(t, x, y, z\\right)} = \\left(\\begin{matrix}-1 & 0 & 0 & 0\\\\0 & 1 & 0 & 0\\\\0 & 0 & 1 & 0\\\\0 & 0 & 0 & 1\\end{matrix}\\right)$$"
      ],
      "text/plain": [
       "<IPython.core.display.Markdown object>"
      ]
     },
     "metadata": {},
     "output_type": "display_data"
    }
   ],
   "source": [
    "Minkowski.show()"
   ]
  },
  {
   "cell_type": "code",
   "execution_count": 22,
   "metadata": {},
   "outputs": [],
   "source": [
    "from OGRePy.abc import M\n",
    "\n",
    "Schwarzschild = gr.Metric(\n",
    "    coords=Spherical,\n",
    "    components=gr.diag(\n",
    "        -(1 - 2 * M / r),\n",
    "        1 / (1 - 2 * M / r),\n",
    "        r**2,\n",
    "        r**2 * gr.s.sin(theta) ** 2,\n",
    "    ),\n",
    ")"
   ]
  },
  {
   "cell_type": "code",
   "execution_count": 23,
   "metadata": {},
   "outputs": [
    {
     "data": {
      "text/markdown": [
       "$$g{}_{\\mu}{}_{\\nu}\\Bigg|_{\\left(t, r, \\theta, \\phi\\right)} = \\left(\\begin{matrix}\\frac{2 M}{r} - 1 & 0 & 0 & 0\\\\0 & \\frac{1}{- \\frac{2 M}{r} + 1} & 0 & 0\\\\0 & 0 & r^{2} & 0\\\\0 & 0 & 0 & r^{2} \\sin^{2}{\\left(\\theta \\right)}\\end{matrix}\\right)$$"
      ],
      "text/plain": [
       "<IPython.core.display.Markdown object>"
      ]
     },
     "metadata": {},
     "output_type": "display_data"
    }
   ],
   "source": [
    "Schwarzschild.show()"
   ]
  },
  {
   "cell_type": "code",
   "execution_count": 24,
   "metadata": {},
   "outputs": [
    {
     "data": {
      "text/markdown": [
       "$$\\left(\\begin{matrix}t & x & y & z\\end{matrix}\\right)$$"
      ],
      "text/plain": [
       "<IPython.core.display.Markdown object>"
      ]
     },
     "metadata": {},
     "output_type": "display_data"
    }
   ],
   "source": [
    "Cartesian.show()"
   ]
  },
  {
   "cell_type": "code",
   "execution_count": 25,
   "metadata": {},
   "outputs": [
    {
     "data": {
      "text/markdown": [
       "$$\\begin{align*}\n",
       "    \\eta{}_{t}{}_{t} = -\\eta{}_{x}{}_{x} = -\\eta{}_{y}{}_{y} = -\\eta{}_{z}{}_{z} &= -1 \n",
       "\\end{align*}$$"
      ],
      "text/plain": [
       "<IPython.core.display.Markdown object>"
      ]
     },
     "metadata": {},
     "output_type": "display_data"
    }
   ],
   "source": [
    "Minkowski.list()"
   ]
  },
  {
   "cell_type": "code",
   "execution_count": 26,
   "metadata": {},
   "outputs": [
    {
     "data": {
      "text/markdown": [
       "$$\\begin{align*}\n",
       "    g{}_{t}{}_{t} &= \\frac{2 M}{r} - 1 \\\\\n",
       "    g{}_{r}{}_{r} &= \\frac{1}{- \\frac{2 M}{r} + 1} \\\\\n",
       "    g{}_{\\theta}{}_{\\theta} &= r^{2} \\\\\n",
       "    g{}_{\\phi}{}_{\\phi} &= r^{2} \\sin^{2}{\\left(\\theta \\right)} \n",
       "\\end{align*}$$"
      ],
      "text/plain": [
       "<IPython.core.display.Markdown object>"
      ]
     },
     "metadata": {},
     "output_type": "display_data"
    }
   ],
   "source": [
    "~Schwarzschild"
   ]
  },
  {
   "cell_type": "code",
   "execution_count": 27,
   "metadata": {},
   "outputs": [
    {
     "data": {
      "text/latex": [
       "$\\displaystyle - \\mathrm{d}t^{2} + \\mathrm{d}x^{2} + \\mathrm{d}y^{2} + \\mathrm{d}z^{2}$"
      ],
      "text/plain": [
       "-\\mathrm{d}t**2 + \\mathrm{d}x**2 + \\mathrm{d}y**2 + \\mathrm{d}z**2"
      ]
     },
     "execution_count": 27,
     "metadata": {},
     "output_type": "execute_result"
    }
   ],
   "source": [
    "Minkowski.line_element()"
   ]
  },
  {
   "cell_type": "code",
   "execution_count": 28,
   "metadata": {},
   "outputs": [
    {
     "data": {
      "text/latex": [
       "$\\displaystyle \\mathrm{d}\\phi^{2} r^{2} \\sin^{2}{\\left(\\theta \\right)} + \\mathrm{d}\\theta^{2} r^{2} + \\frac{\\mathrm{d}r^{2}}{- \\frac{2 M}{r} + 1} + \\mathrm{d}t^{2} \\left(\\frac{2 M}{r} - 1\\right)$"
      ],
      "text/plain": [
       "\\mathrm{d}\\phi**2*r**2*sin(\\theta)**2 + \\mathrm{d}\\theta**2*r**2 + \\mathrm{d}r**2/(-2*M/r + 1) + \\mathrm{d}t**2*(2*M/r - 1)"
      ]
     },
     "execution_count": 28,
     "metadata": {},
     "output_type": "execute_result"
    }
   ],
   "source": [
    "Schwarzschild.line_element()"
   ]
  },
  {
   "cell_type": "code",
   "execution_count": 29,
   "metadata": {},
   "outputs": [],
   "source": [
    "v_t = gr.func(\"v\")(t)\n",
    "f_t_x_y_z = gr.func(\"f\")(t, x, y, z)\n",
    "Alcubierre = gr.Metric(\n",
    "    coords=Cartesian,\n",
    "    components=[\n",
    "        [-1 + f_t_x_y_z**2 * v_t**2, 0, 0, -f_t_x_y_z * v_t],\n",
    "        [0, 1, 0, 0],\n",
    "        [0, 0, 1, 0],\n",
    "        [-f_t_x_y_z * v_t, 0, 0, 1],\n",
    "    ],\n",
    ")"
   ]
  },
  {
   "cell_type": "code",
   "execution_count": 30,
   "metadata": {},
   "outputs": [
    {
     "data": {
      "text/markdown": [
       "$$g{}_{\\mu}{}_{\\nu}\\Bigg|_{\\left(t, x, y, z\\right)} = \\left(\\begin{matrix}f^{2} v^{2} - 1 & 0 & 0 & - f v\\\\0 & 1 & 0 & 0\\\\0 & 0 & 1 & 0\\\\- f v & 0 & 0 & 1\\end{matrix}\\right)$$"
      ],
      "text/plain": [
       "<IPython.core.display.Markdown object>"
      ]
     },
     "metadata": {},
     "output_type": "display_data"
    }
   ],
   "source": [
    "Alcubierre.show()"
   ]
  },
  {
   "cell_type": "code",
   "execution_count": 31,
   "metadata": {},
   "outputs": [
    {
     "data": {
      "text/markdown": [
       "$$\\begin{align*}\n",
       "    g{}_{t}{}_{t} &= f^{2} v^{2} - 1 \\\\\n",
       "    g{}_{t}{}_{z} = g{}_{z}{}_{t} &= - f v \\\\\n",
       "    g{}_{x}{}_{x} = g{}_{y}{}_{y} = g{}_{z}{}_{z} &= 1 \n",
       "\\end{align*}$$"
      ],
      "text/plain": [
       "<IPython.core.display.Markdown object>"
      ]
     },
     "metadata": {},
     "output_type": "display_data"
    }
   ],
   "source": [
    "Alcubierre.list()"
   ]
  },
  {
   "cell_type": "code",
   "execution_count": 32,
   "metadata": {},
   "outputs": [
    {
     "data": {
      "text/latex": [
       "$\\displaystyle \\mathrm{d}t^{2} \\left(f^{2}{\\left(t,x,y,z \\right)} v^{2}{\\left(t \\right)} - 1\\right) - 2 \\mathrm{d}t \\mathrm{d}z f{\\left(t,x,y,z \\right)} v{\\left(t \\right)} + \\mathrm{d}x^{2} + \\mathrm{d}y^{2} + \\mathrm{d}z^{2}$"
      ],
      "text/plain": [
       "\\mathrm{d}t**2*(f(t, x, y, z)**2*v(t)**2 - 1) - 2*\\mathrm{d}t*\\mathrm{d}z*f(t, x, y, z)*v(t) + \\mathrm{d}x**2 + \\mathrm{d}y**2 + \\mathrm{d}z**2"
      ]
     },
     "execution_count": 32,
     "metadata": {},
     "output_type": "execute_result"
    }
   ],
   "source": [
    "Alcubierre.line_element()"
   ]
  },
  {
   "cell_type": "code",
   "execution_count": 33,
   "metadata": {},
   "outputs": [
    {
     "data": {
      "text/latex": [
       "$\\displaystyle \\mathrm{d}t^{2} f^{2}{\\left(t,x,y,z \\right)} v^{2}{\\left(t \\right)} - \\mathrm{d}t^{2} - 2 \\mathrm{d}t \\mathrm{d}z f{\\left(t,x,y,z \\right)} v{\\left(t \\right)} + \\mathrm{d}x^{2} + \\mathrm{d}y^{2} + \\mathrm{d}z^{2}$"
      ],
      "text/plain": [
       "\\mathrm{d}t**2*f(t, x, y, z)**2*v(t)**2 - \\mathrm{d}t**2 - 2*\\mathrm{d}t*\\mathrm{d}z*f(t, x, y, z)*v(t) + \\mathrm{d}x**2 + \\mathrm{d}y**2 + \\mathrm{d}z**2"
      ]
     },
     "execution_count": 33,
     "metadata": {},
     "output_type": "execute_result"
    }
   ],
   "source": [
    "Alcubierre.line_element().expand()"
   ]
  },
  {
   "cell_type": "code",
   "execution_count": 34,
   "metadata": {},
   "outputs": [
    {
     "data": {
      "text/latex": [
       "$\\displaystyle \\left[\\begin{matrix}\\mathrm{d}x^{2} & \\mathrm{d}y^{2} & \\mathrm{d}z^{2} & - \\mathrm{d}t^{2} & \\mathrm{d}t^{2} f^{2}{\\left(t,x,y,z \\right)} v^{2}{\\left(t \\right)} & - 2 \\mathrm{d}t \\mathrm{d}z f{\\left(t,x,y,z \\right)} v{\\left(t \\right)}\\end{matrix}\\right]$"
      ],
      "text/plain": [
       "[\\mathrm{d}x**2, \\mathrm{d}y**2, \\mathrm{d}z**2, -\\mathrm{d}t**2, \\mathrm{d}t**2*f(t, x, y, z)**2*v(t)**2, -2*\\mathrm{d}t*\\mathrm{d}z*f(t, x, y, z)*v(t)]"
      ]
     },
     "execution_count": 34,
     "metadata": {},
     "output_type": "execute_result"
    }
   ],
   "source": [
    "args = Alcubierre.line_element().expand().args\n",
    "gr.s.Array(args)"
   ]
  },
  {
   "cell_type": "code",
   "execution_count": 35,
   "metadata": {},
   "outputs": [
    {
     "data": {
      "text/latex": [
       "$\\displaystyle - \\mathrm{d}t^{2} + \\mathrm{d}x^{2} + \\mathrm{d}y^{2} + \\left(\\mathrm{d}t f{\\left(t,x,y,z \\right)} v{\\left(t \\right)} - \\mathrm{d}z\\right)^{2}$"
      ],
      "text/plain": [
       "-\\mathrm{d}t**2 + \\mathrm{d}x**2 + \\mathrm{d}y**2 + (\\mathrm{d}t*f(t, x, y, z)*v(t) - \\mathrm{d}z)**2"
      ]
     },
     "execution_count": 35,
     "metadata": {},
     "output_type": "execute_result"
    }
   ],
   "source": [
    "args[0] + args[1] + args[3] + gr.s.factor(args[2] + args[4] + args[5])"
   ]
  },
  {
   "cell_type": "code",
   "execution_count": 36,
   "metadata": {},
   "outputs": [
    {
     "data": {
      "text/latex": [
       "$\\displaystyle -1$"
      ],
      "text/plain": [
       "-1"
      ]
     },
     "execution_count": 36,
     "metadata": {},
     "output_type": "execute_result"
    }
   ],
   "source": [
    "Minkowski.volume_element_squared()"
   ]
  },
  {
   "cell_type": "code",
   "execution_count": 37,
   "metadata": {},
   "outputs": [
    {
     "data": {
      "text/latex": [
       "$\\displaystyle - r^{4} \\sin^{2}{\\left(\\theta \\right)}$"
      ],
      "text/plain": [
       "-r**4*sin(\\theta)**2"
      ]
     },
     "execution_count": 37,
     "metadata": {},
     "output_type": "execute_result"
    }
   ],
   "source": [
    "Schwarzschild.volume_element_squared()"
   ]
  },
  {
   "cell_type": "code",
   "execution_count": 38,
   "metadata": {},
   "outputs": [
    {
     "data": {
      "text/latex": [
       "$\\displaystyle -1$"
      ],
      "text/plain": [
       "-1"
      ]
     },
     "execution_count": 38,
     "metadata": {},
     "output_type": "execute_result"
    }
   ],
   "source": [
    "Alcubierre.volume_element_squared()"
   ]
  },
  {
   "cell_type": "code",
   "execution_count": 39,
   "metadata": {},
   "outputs": [
    {
     "data": {
      "text/latex": [
       "$\\displaystyle r^{2} \\left|{\\sin{\\left(\\theta \\right)}}\\right|$"
      ],
      "text/plain": [
       "r**2*Abs(sin(\\theta))"
      ]
     },
     "execution_count": 39,
     "metadata": {},
     "output_type": "execute_result"
    }
   ],
   "source": [
    "gr.s.simplify(gr.s.sqrt(-Schwarzschild.volume_element_squared()))"
   ]
  },
  {
   "cell_type": "code",
   "execution_count": 40,
   "metadata": {},
   "outputs": [
    {
     "data": {
      "text/plain": [
       "['\\\\mu',\n",
       " '\\\\nu',\n",
       " '\\\\rho',\n",
       " '\\\\sigma',\n",
       " '\\\\kappa',\n",
       " '\\\\lambda',\n",
       " '\\\\alpha',\n",
       " '\\\\beta',\n",
       " '\\\\gamma',\n",
       " '\\\\delta',\n",
       " '\\\\epsilon',\n",
       " '\\\\zeta',\n",
       " '\\\\epsilon',\n",
       " '\\\\theta',\n",
       " '\\\\iota',\n",
       " '\\\\xi',\n",
       " '\\\\pi',\n",
       " '\\\\tau',\n",
       " '\\\\phi',\n",
       " '\\\\chi',\n",
       " '\\\\psi',\n",
       " '\\\\omega']"
      ]
     },
     "execution_count": 40,
     "metadata": {},
     "output_type": "execute_result"
    }
   ],
   "source": [
    "gr.options.index_letters"
   ]
  },
  {
   "cell_type": "code",
   "execution_count": 41,
   "metadata": {},
   "outputs": [
    {
     "data": {
      "text/latex": [
       "$\\displaystyle \\mu,\\nu,\\rho,\\sigma,\\kappa,\\lambda,\\alpha,\\beta,\\gamma,\\delta,\\epsilon,\\zeta,\\epsilon,\\theta,\\iota,\\xi,\\pi,\\tau,\\phi,\\chi,\\psi,\\omega$"
      ],
      "text/plain": [
       "<IPython.core.display.Math object>"
      ]
     },
     "execution_count": 41,
     "metadata": {},
     "output_type": "execute_result"
    }
   ],
   "source": [
    "from IPython.display import Math\n",
    "\n",
    "Math(\",\".join(gr.options.index_letters))"
   ]
  },
  {
   "cell_type": "code",
   "execution_count": 42,
   "metadata": {},
   "outputs": [
    {
     "data": {
      "text/markdown": [
       "<div style=\"border: 1px solid; margin: auto; padding: 1em; width: 90%\">\n",
       "\n",
       "`Tensor(*, metric: Metric, indices: IndexConfiguration, coords: Coordinates, components: list[Any] | s.NDimArray | s.Matrix, symbol: str | s.Symbol = \\\\square, simplify: bool = False) -> None`\n",
       "\n",
       "Construct a new tensor object.\n",
       "#### Parameters:\n",
       "* `metric`: An OGRePy `Metric` object specifying the metric which will be used to raise and lower indices for this tensor.\n",
       "* `indices`: A tuple of integers specifying the index configuration of the representation of the initialization components. Each integer in the tuple can be either +1 for an upper index or -1 for a lower index. Will also be designated the default index configuration of the tensor.\n",
       "* `coords`: An OGRePy `Coordinates` object specifying the coordinate system of the representation of the initialization components. Will also be designated the default coordinate system of the tensor.\n",
       "* `components`: The components with which to initialize the tensor. Can be a list, a SymPy `Array` object, or (for rank 2 tensors) a SymPy `Matrix` object.\n",
       "* `symbol` (optional): A string or a SymPy `Symbol` object designating the symbol to be used when displaying the tensor. The string can include any TeX symbols, e.g. `r\"\\hat{T}\"` (note the `r` in front of the string, indicating that the `\\` in the string is not an escape character). If omitted, the placeholder $\\square$ (`r\"\\square\"`) will be used.\n",
       "* `simplify` (optional): Whether to simplify (`True`) or not simplify (`False`, the default) the components before storing them.\n",
       "\n",
       "</div>"
      ],
      "text/plain": [
       "<IPython.core.display.Markdown object>"
      ]
     },
     "metadata": {},
     "output_type": "display_data"
    }
   ],
   "source": [
    "gr.doc(gr.Tensor)"
   ]
  },
  {
   "cell_type": "code",
   "execution_count": 43,
   "metadata": {},
   "outputs": [
    {
     "data": {
      "text/markdown": [
       "$$\\begin{align*}\n",
       "    K &= \\frac{48 M^{2}}{r^{6}} \n",
       "\\end{align*}$$"
      ],
      "text/plain": [
       "<IPython.core.display.Markdown object>"
      ]
     },
     "metadata": {},
     "output_type": "display_data"
    }
   ],
   "source": [
    "SchwarzschildKretschmann = gr.Tensor(\n",
    "    metric=Schwarzschild,\n",
    "    coords=Spherical,\n",
    "    indices=(),\n",
    "    components=[(48 * M**2) / r**6],\n",
    "    symbol=\"K\",\n",
    ")\n",
    "\n",
    "SchwarzschildKretschmann.list()"
   ]
  },
  {
   "cell_type": "code",
   "execution_count": 44,
   "metadata": {},
   "outputs": [
    {
     "data": {
      "text/markdown": [
       "$$u{}^{\\mu}\\Bigg|_{\\left(t, x, y, z\\right)} = \\left(\\begin{matrix}\\frac{1}{\\sqrt{1 - v^{2}}}\\\\\\frac{v}{\\sqrt{1 - v^{2}}}\\\\0\\\\0\\end{matrix}\\right)$$"
      ],
      "text/plain": [
       "<IPython.core.display.Markdown object>"
      ]
     },
     "metadata": {},
     "output_type": "display_data"
    }
   ],
   "source": [
    "from OGRePy.abc import v\n",
    "\n",
    "FourVelocity = gr.Tensor(\n",
    "    metric=Minkowski,\n",
    "    coords=Cartesian,\n",
    "    indices=(1,),\n",
    "    components=gr.s.Array([1, v, 0, 0]) / gr.s.sqrt(1 - v**2),\n",
    "    symbol=\"u\"\n",
    ")\n",
    "\n",
    "FourVelocity.show()"
   ]
  },
  {
   "cell_type": "code",
   "execution_count": 45,
   "metadata": {},
   "outputs": [
    {
     "data": {
      "text/markdown": [
       "$$T{}^{\\mu}{}^{\\nu}\\Bigg|_{\\left(t, x, y, z\\right)} = \\left(\\begin{matrix}\\rho & 0 & 0 & 0\\\\0 & p & 0 & 0\\\\0 & 0 & p & 0\\\\0 & 0 & 0 & p\\end{matrix}\\right)$$"
      ],
      "text/plain": [
       "<IPython.core.display.Markdown object>"
      ]
     },
     "metadata": {},
     "output_type": "display_data"
    }
   ],
   "source": [
    "from OGRePy.abc import p, rho\n",
    "\n",
    "PerfectFluid = gr.Tensor(\n",
    "    metric=Minkowski,\n",
    "    coords=Cartesian,\n",
    "    indices=(1, 1),\n",
    "    components=gr.diag(rho, p, p, p),\n",
    "    symbol=\"T\",\n",
    ")\n",
    "\n",
    "PerfectFluid.show()"
   ]
  },
  {
   "cell_type": "markdown",
   "metadata": {},
   "source": [
    "# Operations on Tensors"
   ]
  },
  {
   "cell_type": "code",
   "execution_count": 46,
   "metadata": {},
   "outputs": [
    {
     "data": {
      "text/markdown": [
       "$$u{}^{\\mu}\\Bigg|_{\\left(t, x, y, z\\right)} = \\left(\\begin{matrix}\\frac{1}{\\sqrt{1 - v^{2}}}\\\\\\frac{v}{\\sqrt{1 - v^{2}}}\\\\0\\\\0\\end{matrix}\\right)$$"
      ],
      "text/plain": [
       "<OGRePy._core.Tensor at 0x10bbca8e0>"
      ]
     },
     "execution_count": 46,
     "metadata": {},
     "output_type": "execute_result"
    }
   ],
   "source": [
    "FourVelocity"
   ]
  },
  {
   "cell_type": "code",
   "execution_count": 47,
   "metadata": {},
   "outputs": [
    {
     "data": {
      "text/markdown": [
       "$$u{}_{\\mu}\\Bigg|_{\\left(t, x, y, z\\right)} = \\left(\\begin{matrix}- \\frac{1}{\\sqrt{1 - v^{2}}}\\\\\\frac{v}{\\sqrt{1 - v^{2}}}\\\\0\\\\0\\end{matrix}\\right)$$"
      ],
      "text/plain": [
       "<IPython.core.display.Markdown object>"
      ]
     },
     "metadata": {},
     "output_type": "display_data"
    }
   ],
   "source": [
    "# raising and lowering indicies \n",
    "\n",
    "# lowering the four velocity index \n",
    "FourVelocity.show(indices=(-1,))"
   ]
  },
  {
   "cell_type": "code",
   "execution_count": 48,
   "metadata": {},
   "outputs": [
    {
     "data": {
      "text/markdown": [
       "$$\\begin{align*}\n",
       "    T{}^{t}{}^{t} &= \\rho \\\\\n",
       "    T{}^{x}{}^{x} = T{}^{y}{}^{y} = T{}^{z}{}^{z} &= p \n",
       "\\end{align*}$$"
      ],
      "text/plain": [
       "<IPython.core.display.Markdown object>"
      ]
     },
     "metadata": {},
     "output_type": "display_data"
    }
   ],
   "source": [
    "PerfectFluid.list()"
   ]
  },
  {
   "cell_type": "code",
   "execution_count": 49,
   "metadata": {},
   "outputs": [
    {
     "data": {
      "text/markdown": [
       "$$\\begin{align*}\n",
       "    T{}^{t}{}_{t} &= - \\rho \\\\\n",
       "    T{}^{x}{}_{x} = T{}^{y}{}_{y} = T{}^{z}{}_{z} &= p \n",
       "\\end{align*}$$"
      ],
      "text/plain": [
       "<IPython.core.display.Markdown object>"
      ]
     },
     "metadata": {},
     "output_type": "display_data"
    }
   ],
   "source": [
    "PerfectFluid.list(indices=(1, -1))"
   ]
  },
  {
   "cell_type": "code",
   "execution_count": 50,
   "metadata": {},
   "outputs": [
    {
     "data": {
      "text/markdown": [
       "$$g{}^{\\mu}{}^{\\nu}\\Bigg|_{\\left(t, r, \\theta, \\phi\\right)} = \\left(\\begin{matrix}- \\frac{r}{- 2 M + r} & 0 & 0 & 0\\\\0 & \\frac{- 2 M + r}{r} & 0 & 0\\\\0 & 0 & \\frac{1}{r^{2}} & 0\\\\0 & 0 & 0 & \\frac{1}{r^{2} \\sin^{2}{\\left(\\theta \\right)}}\\end{matrix}\\right)$$"
      ],
      "text/plain": [
       "<IPython.core.display.Markdown object>"
      ]
     },
     "metadata": {},
     "output_type": "display_data"
    }
   ],
   "source": [
    "Schwarzschild.show(indices=(1, 1))"
   ]
  },
  {
   "cell_type": "code",
   "execution_count": 51,
   "metadata": {},
   "outputs": [
    {
     "data": {
      "text/markdown": [
       "$$g{}^{\\mu}{}_{\\nu}\\Bigg|_{\\left(t, r, \\theta, \\phi\\right)} = \\left(\\begin{matrix}1 & 0 & 0 & 0\\\\0 & 1 & 0 & 0\\\\0 & 0 & 1 & 0\\\\0 & 0 & 0 & 1\\end{matrix}\\right)$$"
      ],
      "text/plain": [
       "<IPython.core.display.Markdown object>"
      ]
     },
     "metadata": {},
     "output_type": "display_data"
    }
   ],
   "source": [
    "Schwarzschild.show(indices=(1, -1))"
   ]
  },
  {
   "cell_type": "code",
   "execution_count": 52,
   "metadata": {},
   "outputs": [],
   "source": [
    "Cartesian.set_coord_transformation(\n",
    "    target=Spherical,\n",
    "    rules={\n",
    "        x: r * gr.s.sin(theta) * gr.s.cos(phi),\n",
    "        y: r * gr.s.sin(theta) * gr.s.sin(phi),\n",
    "        z: r * gr.s.cos(theta),\n",
    "    },\n",
    ")\n",
    "\n",
    "Spherical.set_coord_transformation(\n",
    "    target=Cartesian,\n",
    "    rules={\n",
    "        r: gr.s.sqrt(x**2 + y**2 + z**2),\n",
    "        theta: gr.s.acos(z / gr.s.sqrt(x**2 + y**2 + z**2)),\n",
    "        phi: gr.s.atan2(y, x),\n",
    "    },\n",
    ")"
   ]
  },
  {
   "cell_type": "code",
   "execution_count": 53,
   "metadata": {},
   "outputs": [
    {
     "data": {
      "text/markdown": [
       "$$\\eta{}_{\\mu}{}_{\\nu}\\Bigg|_{\\left(t, r, \\theta, \\phi\\right)} = \\left(\\begin{matrix}-1 & 0 & 0 & 0\\\\0 & 1 & 0 & 0\\\\0 & 0 & r^{2} & 0\\\\0 & 0 & 0 & r^{2} \\sin^{2}{\\left(\\theta \\right)}\\end{matrix}\\right)$$"
      ],
      "text/plain": [
       "<IPython.core.display.Markdown object>"
      ]
     },
     "metadata": {},
     "output_type": "display_data"
    }
   ],
   "source": [
    "Minkowski.show(coords=Spherical)"
   ]
  },
  {
   "cell_type": "code",
   "execution_count": 54,
   "metadata": {},
   "outputs": [
    {
     "data": {
      "text/markdown": [
       "$$T{}^{\\mu}{}^{\\nu}\\Bigg|_{\\left(t, r, \\theta, \\phi\\right)} = \\left(\\begin{matrix}\\rho & 0 & 0 & 0\\\\0 & p & 0 & 0\\\\0 & 0 & \\frac{p}{r^{2}} & 0\\\\0 & 0 & 0 & \\frac{p}{r^{2} \\sin^{2}{\\left(\\theta \\right)}}\\end{matrix}\\right)$$"
      ],
      "text/plain": [
       "<IPython.core.display.Markdown object>"
      ]
     },
     "metadata": {},
     "output_type": "display_data"
    }
   ],
   "source": [
    "PerfectFluid.show(coords=Spherical, indices=(1, 1))"
   ]
  },
  {
   "cell_type": "code",
   "execution_count": 55,
   "metadata": {},
   "outputs": [
    {
     "data": {
      "text/markdown": [
       "$$\\begin{align*}\n",
       "    K &= \\frac{48 M^{2}}{\\left(x^{2} + y^{2} + z^{2}\\right)^{3}} \n",
       "\\end{align*}$$"
      ],
      "text/plain": [
       "<IPython.core.display.Markdown object>"
      ]
     },
     "metadata": {},
     "output_type": "display_data"
    }
   ],
   "source": [
    "SchwarzschildKretschmann.list(coords=Cartesian)"
   ]
  },
  {
   "cell_type": "code",
   "execution_count": 56,
   "metadata": {},
   "outputs": [
    {
     "data": {
      "text/markdown": [
       "$$d\\Bigg|_{\\left(t, x, y, z\\right)} = \\sqrt{x^{2} + y^{2} + z^{2}}$$"
      ],
      "text/plain": [
       "<IPython.core.display.Markdown object>"
      ]
     },
     "metadata": {},
     "output_type": "display_data"
    }
   ],
   "source": [
    "SpatialDistance = gr.Tensor(\n",
    "    metric=Minkowski,\n",
    "    coords=Cartesian,\n",
    "    indices=(),\n",
    "    components=[gr.s.sqrt(x**2 + y**2 + z**2)],\n",
    "    symbol=\"d\",\n",
    ")\n",
    "\n",
    "SpatialDistance.show()"
   ]
  },
  {
   "cell_type": "code",
   "execution_count": 57,
   "metadata": {},
   "outputs": [
    {
     "data": {
      "text/markdown": [
       "$$d\\Bigg|_{\\left(t, r, \\theta, \\phi\\right)} = r$$"
      ],
      "text/plain": [
       "<IPython.core.display.Markdown object>"
      ]
     },
     "metadata": {},
     "output_type": "display_data"
    }
   ],
   "source": [
    "SpatialDistance.show(coords=Spherical)"
   ]
  },
  {
   "cell_type": "code",
   "execution_count": 58,
   "metadata": {},
   "outputs": [
    {
     "data": {
      "text/markdown": [
       "$$K\\Bigg|_{\\left(t, r, \\theta, \\phi\\right)} = \\frac{3}{62500}$$"
      ],
      "text/plain": [
       "<IPython.core.display.Markdown object>"
      ]
     },
     "metadata": {},
     "output_type": "display_data"
    }
   ],
   "source": [
    "SchwarzschildKretschmann.show(replace={M: 1, r: 10})"
   ]
  },
  {
   "cell_type": "code",
   "execution_count": 59,
   "metadata": {},
   "outputs": [
    {
     "data": {
      "text/markdown": [
       "$$\\begin{align*}\n",
       "    T{}^{t}{}^{t} = T{}^{x}{}^{x} = T{}^{y}{}^{y} = T{}^{z}{}^{z} &= \\rho \n",
       "\\end{align*}$$"
      ],
      "text/plain": [
       "<IPython.core.display.Markdown object>"
      ]
     },
     "metadata": {},
     "output_type": "display_data"
    }
   ],
   "source": [
    "PerfectFluid.list(replace={p: rho})"
   ]
  },
  {
   "cell_type": "code",
   "execution_count": 60,
   "metadata": {},
   "outputs": [
    {
     "data": {
      "text/markdown": [
       "$$\\begin{align*}\n",
       "    T{}^{t}{}^{t} = T{}^{x}{}^{x} = T{}^{y}{}^{y} = T{}^{z}{}^{z} &= \\rho \n",
       "\\end{align*}$$"
      ],
      "text/plain": [
       "<IPython.core.display.Markdown object>"
      ]
     },
     "metadata": {},
     "output_type": "display_data"
    }
   ],
   "source": [
    "PerfectFluid.list(coords=Cartesian, indices=(1, 1), replace={p: rho})"
   ]
  },
  {
   "cell_type": "markdown",
   "metadata": {},
   "source": [
    "# Tensor Information "
   ]
  },
  {
   "cell_type": "code",
   "execution_count": 61,
   "metadata": {},
   "outputs": [
    {
     "data": {
      "text/markdown": [
       "* **Name**: `Minkowski`\n",
       "* **Class**: `Metric`\n",
       "* **Symbol**: $\\eta{}_{\\mu}{}_{\\nu}$\n",
       "* **Rank**: 2\n",
       "* **Dimensions**: 4\n",
       "* **Default Coordinates**: `Cartesian`\n",
       "* **Default Indices**: (-1, -1)\n",
       "* **Associated Metric For**: `FourVelocity`, `PerfectFluid`, `SpatialDistance`\n"
      ],
      "text/plain": [
       "<IPython.core.display.Markdown object>"
      ]
     },
     "metadata": {},
     "output_type": "display_data"
    }
   ],
   "source": [
    "Minkowski.info()"
   ]
  },
  {
   "cell_type": "code",
   "execution_count": 62,
   "metadata": {},
   "outputs": [
    {
     "data": {
      "text/markdown": [
       "* **Name**: `PerfectFluid`\n",
       "* **Class**: `Tensor`\n",
       "* **Symbol**: $T{}^{\\mu}{}^{\\nu}$\n",
       "* **Rank**: 2\n",
       "* **Dimensions**: 4\n",
       "* **Default Coordinates**: `Cartesian`\n",
       "* **Default Indices**: (1, 1)\n",
       "* **Metric**: `Minkowski`\n"
      ],
      "text/plain": [
       "<IPython.core.display.Markdown object>"
      ]
     },
     "metadata": {},
     "output_type": "display_data"
    }
   ],
   "source": [
    "+PerfectFluid"
   ]
  },
  {
   "cell_type": "code",
   "execution_count": 63,
   "metadata": {},
   "outputs": [
    {
     "data": {
      "text/markdown": [
       "* **Name**: `Cartesian`\n",
       "* **Class**: Coordinates\n",
       "* **Dimensions**: 4\n",
       "* **Default Coordinates For**: `Minkowski`, `Alcubierre`, `FourVelocity`, `PerfectFluid`, `SpatialDistance`\n"
      ],
      "text/plain": [
       "<IPython.core.display.Markdown object>"
      ]
     },
     "metadata": {},
     "output_type": "display_data"
    }
   ],
   "source": [
    "+Cartesian"
   ]
  },
  {
   "cell_type": "code",
   "execution_count": 64,
   "metadata": {},
   "outputs": [
    {
     "data": {
      "text/plain": [
       "'T[0][1]'"
      ]
     },
     "execution_count": 64,
     "metadata": {},
     "output_type": "execute_result"
    }
   ],
   "source": [
    "PerfectFluid.symbol"
   ]
  },
  {
   "cell_type": "code",
   "execution_count": 65,
   "metadata": {},
   "outputs": [
    {
     "data": {
      "text/latex": [
       "$\\displaystyle T{}^{\\mu}{}^{\\nu}$"
      ],
      "text/plain": [
       "<IPython.core.display.Math object>"
      ]
     },
     "execution_count": 65,
     "metadata": {},
     "output_type": "execute_result"
    }
   ],
   "source": [
    "Math(PerfectFluid.tex_symbol())"
   ]
  },
  {
   "cell_type": "code",
   "execution_count": 66,
   "metadata": {},
   "outputs": [
    {
     "data": {
      "text/plain": [
       "(1, 1)"
      ]
     },
     "execution_count": 66,
     "metadata": {},
     "output_type": "execute_result"
    }
   ],
   "source": [
    "PerfectFluid.default_indices"
   ]
  },
  {
   "cell_type": "code",
   "execution_count": 67,
   "metadata": {},
   "outputs": [
    {
     "data": {
      "text/markdown": [
       "$$\\left(\\begin{matrix}t & x & y & z\\end{matrix}\\right)$$"
      ],
      "text/plain": [
       "<OGRePy._core.Coordinates at 0x10aec1490>"
      ]
     },
     "execution_count": 67,
     "metadata": {},
     "output_type": "execute_result"
    }
   ],
   "source": [
    "PerfectFluid.default_coords"
   ]
  },
  {
   "cell_type": "code",
   "execution_count": 68,
   "metadata": {},
   "outputs": [
    {
     "data": {
      "text/markdown": [
       "$$\\eta{}_{\\mu}{}_{\\nu}\\Bigg|_{\\left(t, x, y, z\\right)} = \\left(\\begin{matrix}-1 & 0 & 0 & 0\\\\0 & 1 & 0 & 0\\\\0 & 0 & 1 & 0\\\\0 & 0 & 0 & 1\\end{matrix}\\right)$$"
      ],
      "text/plain": [
       "<OGRePy._core.Metric at 0x10b5e1b20>"
      ]
     },
     "execution_count": 68,
     "metadata": {},
     "output_type": "execute_result"
    }
   ],
   "source": [
    "PerfectFluid.metric()"
   ]
  },
  {
   "cell_type": "code",
   "execution_count": 69,
   "metadata": {},
   "outputs": [
    {
     "data": {
      "text/plain": [
       "'Cartesian'"
      ]
     },
     "execution_count": 69,
     "metadata": {},
     "output_type": "execute_result"
    }
   ],
   "source": [
    "str(PerfectFluid.default_coords)"
   ]
  },
  {
   "cell_type": "code",
   "execution_count": 70,
   "metadata": {},
   "outputs": [
    {
     "data": {
      "text/markdown": [
       "9 tensor objects created: 2 coordinates, 3 metrics, 4 tensors.\n",
       "\n",
       "Coordinate systems:\n",
       "1. `Cartesian` (id: `0x10aec1490`), default for: ``Minkowski``, ``Alcubierre``, ``FourVelocity``, ``PerfectFluid``, ``SpatialDistance``\n",
       "2. `Spherical` (id: `0x10b022e30`), default for: ``Schwarzschild``, ``SchwarzschildKretschmann``\n",
       "\n",
       "Metrics and associated tensors:\n",
       "1. `Minkowski` (symbol: $\\eta{}_{\\mu}{}_{\\nu}$) (id: `0x10b5e1b20`), used by: ``FourVelocity``, ``PerfectFluid``, ``SpatialDistance``\n",
       "2. `Schwarzschild` (symbol: $g{}_{\\mu}{}_{\\nu}$) (id: `0x10b7a20a0`), used by: ``SchwarzschildKretschmann``\n",
       "3. `Alcubierre` (symbol: $g{}_{\\mu}{}_{\\nu}$) (id: `0x10b5e1de0`)\n",
       "\n",
       "Tensors:\n",
       "1. `SchwarzschildKretschmann` (symbol: $K$) (id: `0x10bbc9f80`)\n",
       "2. `FourVelocity` (symbol: $u{}^{\\mu}$) (id: `0x10bbca8e0`)\n",
       "3. `PerfectFluid` (symbol: $T{}^{\\mu}{}^{\\nu}$) (id: `0x10bbcad90`)\n",
       "4. `SpatialDistance` (symbol: $d$) (id: `0x10bfc89a0`)\n"
      ],
      "text/plain": [
       "<IPython.core.display.Markdown object>"
      ]
     },
     "metadata": {},
     "output_type": "display_data"
    }
   ],
   "source": [
    "gr.info()"
   ]
  },
  {
   "cell_type": "code",
   "execution_count": 71,
   "metadata": {},
   "outputs": [
    {
     "data": {
      "text/latex": [
       "$\\displaystyle - \\frac{r}{- 2 M + r}$"
      ],
      "text/plain": [
       "-r/(-2*M + r)"
      ]
     },
     "execution_count": 71,
     "metadata": {},
     "output_type": "execute_result"
    }
   ],
   "source": [
    "InverseSchwarzschild = Schwarzschild.components(coords=Spherical, indices=(1, 1))\n",
    "\n",
    "InverseSchwarzschild[0, 0]"
   ]
  },
  {
   "cell_type": "code",
   "execution_count": 72,
   "metadata": {},
   "outputs": [
    {
     "data": {
      "text/markdown": [
       "**OGRePy**: Using default coordinate system `Spherical` and default index configuration (-1, -1)."
      ],
      "text/plain": [
       "<IPython.core.display.Markdown object>"
      ]
     },
     "metadata": {},
     "output_type": "display_data"
    },
    {
     "data": {
      "text/latex": [
       "$\\displaystyle \\left[\\begin{matrix}\\frac{2 M}{r} - 1 & 0 & 0 & 0\\\\0 & \\frac{1}{- \\frac{2 M}{r} + 1} & 0 & 0\\\\0 & 0 & r^{2} & 0\\\\0 & 0 & 0 & r^{2} \\sin^{2}{\\left(\\theta \\right)}\\end{matrix}\\right]$"
      ],
      "text/plain": [
       "[[2*M/r - 1, 0, 0, 0], [0, 1/(-2*M/r + 1), 0, 0], [0, 0, r**2, 0], [0, 0, 0, r**2*sin(\\theta)**2]]"
      ]
     },
     "execution_count": 72,
     "metadata": {},
     "output_type": "execute_result"
    }
   ],
   "source": [
    "Schwarzschild.components()"
   ]
  },
  {
   "cell_type": "code",
   "execution_count": 73,
   "metadata": {},
   "outputs": [
    {
     "data": {
      "text/markdown": [
       "**OGRePy**: Using default coordinate system `Spherical` and default index configuration (-1, -1)."
      ],
      "text/plain": [
       "<IPython.core.display.Markdown object>"
      ]
     },
     "metadata": {},
     "output_type": "display_data"
    },
    {
     "data": {
      "text/latex": [
       "$\\displaystyle \\left[\\begin{matrix}\\frac{2 M}{r} - 1 & 0 & 0 & 0\\\\0 & \\frac{1}{- \\frac{2 M}{r} + 1} & 0 & 0\\\\0 & 0 & r^{2} & 0\\\\0 & 0 & 0 & r^{2}\\end{matrix}\\right]$"
      ],
      "text/plain": [
       "[[2*M/r - 1, 0, 0, 0], [0, 1/(-2*M/r + 1), 0, 0], [0, 0, r**2, 0], [0, 0, 0, r**2]]"
      ]
     },
     "execution_count": 73,
     "metadata": {},
     "output_type": "execute_result"
    }
   ],
   "source": [
    "Schwarzschild.components().subs({theta: gr.s.pi / 2})"
   ]
  },
  {
   "cell_type": "code",
   "execution_count": 74,
   "metadata": {},
   "outputs": [
    {
     "data": {
      "text/latex": [
       "$\\displaystyle \\left[\\begin{matrix}t & r & \\theta & \\phi\\end{matrix}\\right]$"
      ],
      "text/plain": [
       "[t, r, \\theta, \\phi]"
      ]
     },
     "execution_count": 74,
     "metadata": {},
     "output_type": "execute_result"
    }
   ],
   "source": [
    "Spherical.components()"
   ]
  },
  {
   "cell_type": "markdown",
   "metadata": {},
   "source": [
    "# Comparing Tensors"
   ]
  },
  {
   "cell_type": "code",
   "execution_count": 75,
   "metadata": {},
   "outputs": [
    {
     "data": {
      "text/plain": [
       "True"
      ]
     },
     "execution_count": 75,
     "metadata": {},
     "output_type": "execute_result"
    }
   ],
   "source": [
    "Minkowski2 = gr.Metric(\n",
    "    coords=Cartesian,\n",
    "    components=gr.diag(-1, 1, 1, 1),\n",
    "    symbol=\"eta\",\n",
    ")\n",
    "\n",
    "PerfectFluid2 = gr.Tensor(\n",
    "    metric=Minkowski2,\n",
    "    coords=Cartesian,\n",
    "    indices=(1, 1),\n",
    "    components=gr.diag(rho, p, p, p),\n",
    "    symbol=\"T\",\n",
    ")\n",
    "\n",
    "gr.compare(PerfectFluid, PerfectFluid2)"
   ]
  },
  {
   "cell_type": "code",
   "execution_count": 76,
   "metadata": {},
   "outputs": [
    {
     "data": {
      "text/plain": [
       "False"
      ]
     },
     "execution_count": 76,
     "metadata": {},
     "output_type": "execute_result"
    }
   ],
   "source": [
    "PerfectFluid == PerfectFluid2"
   ]
  },
  {
   "cell_type": "code",
   "execution_count": 77,
   "metadata": {},
   "outputs": [
    {
     "data": {
      "text/plain": [
       "False"
      ]
     },
     "execution_count": 77,
     "metadata": {},
     "output_type": "execute_result"
    }
   ],
   "source": [
    "PerfectFluid is PerfectFluid2"
   ]
  },
  {
   "cell_type": "markdown",
   "metadata": {},
   "source": [
    "# Tensor Calculations"
   ]
  },
  {
   "cell_type": "markdown",
   "metadata": {},
   "source": [
    "## Addition "
   ]
  },
  {
   "cell_type": "code",
   "execution_count": 78,
   "metadata": {},
   "outputs": [],
   "source": [
    "from OGRePy.abc import mu, nu\n",
    "\n",
    "result = Minkowski(mu, nu) + PerfectFluid(mu, nu)"
   ]
  },
  {
   "cell_type": "code",
   "execution_count": 79,
   "metadata": {},
   "outputs": [
    {
     "data": {
      "text/markdown": [
       "$$S{}_{\\mu}{}_{\\nu}\\Bigg|_{\\left(t, x, y, z\\right)} = \\left(\\begin{matrix}\\rho - 1 & 0 & 0 & 0\\\\0 & p + 1 & 0 & 0\\\\0 & 0 & p + 1 & 0\\\\0 & 0 & 0 & p + 1\\end{matrix}\\right)$$"
      ],
      "text/plain": [
       "<OGRePy._core.Tensor at 0x10bf49da0>"
      ]
     },
     "execution_count": 79,
     "metadata": {},
     "output_type": "execute_result"
    }
   ],
   "source": [
    "result.symbol = \"S\"\n",
    "result"
   ]
  },
  {
   "cell_type": "code",
   "execution_count": 80,
   "metadata": {},
   "outputs": [
    {
     "data": {
      "text/markdown": [
       "$$N{}_{\\mu}{}_{\\nu}\\Bigg|_{\\left(t, x, y, z\\right)} = \\left(\\begin{matrix}0 & 0 & 0 & 1\\\\0 & 0 & 0 & 0\\\\0 & 0 & 0 & 0\\\\0 & 0 & 0 & 0\\end{matrix}\\right)$$"
      ],
      "text/plain": [
       "<OGRePy._core.Tensor at 0x10bfea340>"
      ]
     },
     "execution_count": 80,
     "metadata": {},
     "output_type": "execute_result"
    }
   ],
   "source": [
    "NonSymmetric = gr.Tensor(\n",
    "    metric=Minkowski,\n",
    "    coords=Cartesian,\n",
    "    indices=(-1, -1),\n",
    "    components=[[0, 0, 0, 1], [0, 0, 0, 0], [0, 0, 0, 0], [0, 0, 0, 0]],\n",
    "    symbol=\"N\",\n",
    ")\n",
    "\n",
    "NonSymmetric"
   ]
  },
  {
   "cell_type": "code",
   "execution_count": 81,
   "metadata": {},
   "outputs": [
    {
     "data": {
      "text/markdown": [
       "$$\\eta{}_{\\mu}{}_{\\nu} + N{}_{\\mu}{}_{\\nu}\\Bigg|_{\\left(t, x, y, z\\right)} = \\left(\\begin{matrix}-1 & 0 & 0 & 1\\\\0 & 1 & 0 & 0\\\\0 & 0 & 1 & 0\\\\0 & 0 & 0 & 1\\end{matrix}\\right)$$"
      ],
      "text/plain": [
       "<OGRePy._core.Tensor at 0x10bfe9580>"
      ]
     },
     "execution_count": 81,
     "metadata": {},
     "output_type": "execute_result"
    }
   ],
   "source": [
    "Minkowski(mu, nu) + NonSymmetric(mu, nu)"
   ]
  },
  {
   "cell_type": "code",
   "execution_count": 82,
   "metadata": {},
   "outputs": [
    {
     "data": {
      "text/markdown": [
       "$$\\eta{}_{\\mu}{}_{\\nu} + N{}_{\\nu}{}_{\\mu}\\Bigg|_{\\left(t, x, y, z\\right)} = \\left(\\begin{matrix}-1 & 0 & 0 & 0\\\\0 & 1 & 0 & 0\\\\0 & 0 & 1 & 0\\\\1 & 0 & 0 & 1\\end{matrix}\\right)$$"
      ],
      "text/plain": [
       "<OGRePy._core.Tensor at 0x10bfeb150>"
      ]
     },
     "execution_count": 82,
     "metadata": {},
     "output_type": "execute_result"
    }
   ],
   "source": [
    "# flipping the indices\n",
    "Minkowski(mu, nu) + NonSymmetric(nu, mu)"
   ]
  },
  {
   "cell_type": "code",
   "execution_count": 83,
   "metadata": {},
   "outputs": [
    {
     "data": {
      "text/markdown": [
       "$$\\eta{}_{\\mu}{}_{\\nu} + T{}_{\\mu}{}_{\\nu} + N{}_{\\mu}{}_{\\nu} + N{}_{\\nu}{}_{\\mu}\\Bigg|_{\\left(t, x, y, z\\right)} = \\left(\\begin{matrix}\\rho - 1 & 0 & 0 & 1\\\\0 & p + 1 & 0 & 0\\\\0 & 0 & p + 1 & 0\\\\1 & 0 & 0 & p + 1\\end{matrix}\\right)$$"
      ],
      "text/plain": [
       "<OGRePy._core.Tensor at 0x10bfea9d0>"
      ]
     },
     "execution_count": 83,
     "metadata": {},
     "output_type": "execute_result"
    }
   ],
   "source": [
    "Minkowski(mu, nu) + PerfectFluid(mu, nu) + NonSymmetric(mu, nu) + NonSymmetric(nu, mu)"
   ]
  },
  {
   "cell_type": "code",
   "execution_count": 84,
   "metadata": {},
   "outputs": [
    {
     "data": {
      "text/markdown": [
       "$$\\eta{}_{\\mu}{}_{\\nu} + T{}_{\\mu}{}_{\\nu} + N{}_{\\mu}{}_{\\nu} + N{}_{\\nu}{}_{\\mu}\\Bigg|_{\\left(t, x, y, z\\right)} = \\left(\\begin{matrix}\\rho - 1 & 0 & 0 & 1\\\\0 & p + 1 & 0 & 0\\\\0 & 0 & p + 1 & 0\\\\1 & 0 & 0 & p + 1\\end{matrix}\\right)$$"
      ],
      "text/plain": [
       "<OGRePy._core.Tensor at 0x10bfeb830>"
      ]
     },
     "execution_count": 84,
     "metadata": {},
     "output_type": "execute_result"
    }
   ],
   "source": [
    "Minkowski(mu, nu) + PerfectFluid(\"mu nu\") + NonSymmetric(\"mu\", nu) + NonSymmetric(\"nu\", \"mu\")"
   ]
  },
  {
   "cell_type": "code",
   "execution_count": 85,
   "metadata": {},
   "outputs": [
    {
     "data": {
      "text/markdown": [
       "$$N{}_{\\mu}{}_{\\nu}\\Bigg|_{\\left(t, x, y, z\\right)} = \\left(\\begin{matrix}0 & 0 & 0 & 1\\\\0 & 0 & 0 & 0\\\\0 & 0 & 0 & 0\\\\0 & 0 & 0 & 0\\end{matrix}\\right)$$"
      ],
      "text/plain": [
       "<OGRePy._core.Tensor at 0x10bfea340>"
      ]
     },
     "execution_count": 85,
     "metadata": {},
     "output_type": "execute_result"
    }
   ],
   "source": [
    "NonSymmetric"
   ]
  },
  {
   "cell_type": "code",
   "execution_count": 86,
   "metadata": {},
   "outputs": [
    {
     "data": {
      "text/markdown": [
       "$$N{}_{\\alpha}{}_{\\beta}\\Bigg|_{\\left(t, x, y, z\\right)} = \\left(\\begin{matrix}0 & 0 & 0 & 1\\\\0 & 0 & 0 & 0\\\\0 & 0 & 0 & 0\\\\0 & 0 & 0 & 0\\end{matrix}\\right)$$"
      ],
      "text/plain": [
       "<OGRePy._core.Tensor at 0x10bff4040>"
      ]
     },
     "execution_count": 86,
     "metadata": {},
     "output_type": "execute_result"
    }
   ],
   "source": [
    "NonSymmetric(\"alpha beta\")"
   ]
  },
  {
   "cell_type": "code",
   "execution_count": 87,
   "metadata": {},
   "outputs": [
    {
     "data": {
      "text/markdown": [
       "$$N{}_{a}{}_{b}\\Bigg|_{\\left(t, x, y, z\\right)} = \\left(\\begin{matrix}0 & 0 & 0 & 1\\\\0 & 0 & 0 & 0\\\\0 & 0 & 0 & 0\\\\0 & 0 & 0 & 0\\end{matrix}\\right)$$"
      ],
      "text/plain": [
       "<OGRePy._core.Tensor at 0x10bff4220>"
      ]
     },
     "execution_count": 87,
     "metadata": {},
     "output_type": "execute_result"
    }
   ],
   "source": [
    "NonSymmetric[\"ab\"]"
   ]
  },
  {
   "cell_type": "markdown",
   "metadata": {},
   "source": [
    "# Multiplication by Scalars"
   ]
  },
  {
   "cell_type": "code",
   "execution_count": 88,
   "metadata": {},
   "outputs": [
    {
     "data": {
      "text/markdown": [
       "$$2 \\eta{}_{\\mu}{}_{\\nu}\\Bigg|_{\\left(t, x, y, z\\right)} = \\left(\\begin{matrix}-2 & 0 & 0 & 0\\\\0 & 2 & 0 & 0\\\\0 & 0 & 2 & 0\\\\0 & 0 & 0 & 2\\end{matrix}\\right)$$"
      ],
      "text/plain": [
       "<OGRePy._core.Tensor at 0x10bae13a0>"
      ]
     },
     "execution_count": 88,
     "metadata": {},
     "output_type": "execute_result"
    }
   ],
   "source": [
    "2 * Minkowski(mu, nu)"
   ]
  },
  {
   "cell_type": "code",
   "execution_count": 89,
   "metadata": {},
   "outputs": [
    {
     "data": {
      "text/markdown": [
       "$$2  t \\eta{}_{\\mu}{}_{\\nu} - 3  x T{}_{\\mu}{}_{\\nu} + 4  y N{}_{\\mu}{}_{\\nu} - 5  z N{}_{\\nu}{}_{\\mu}\\Bigg|_{\\left(t, x, y, z\\right)} = \\left(\\begin{matrix}- 3 \\rho x - 2 t & 0 & 0 & 4 y\\\\0 & - 3 p x + 2 t & 0 & 0\\\\0 & 0 & - 3 p x + 2 t & 0\\\\- 5 z & 0 & 0 & - 3 p x + 2 t\\end{matrix}\\right)$$"
      ],
      "text/plain": [
       "<OGRePy._core.Tensor at 0x10bff6070>"
      ]
     },
     "execution_count": 89,
     "metadata": {},
     "output_type": "execute_result"
    }
   ],
   "source": [
    "2 * t * Minkowski(mu, nu) - 3 * x * PerfectFluid(mu, nu) + 4 * y * NonSymmetric(mu, nu) - 5 * z * NonSymmetric(nu, mu)"
   ]
  },
  {
   "cell_type": "markdown",
   "metadata": {},
   "source": [
    "# Traces and Contractions"
   ]
  },
  {
   "cell_type": "code",
   "execution_count": 90,
   "metadata": {},
   "outputs": [
    {
     "data": {
      "text/markdown": [
       "$$T{}^{\\mu}{}^{\\nu}\\Bigg|_{\\left(t, x, y, z\\right)} = \\left(\\begin{matrix}\\frac{- \\rho - p v^{2}}{v^{2} - 1} & - \\frac{v \\left(\\rho + p\\right)}{v^{2} - 1} & 0 & 0\\\\- \\frac{v \\left(\\rho + p\\right)}{v^{2} - 1} & \\frac{- \\rho v^{2} - p}{v^{2} - 1} & 0 & 0\\\\0 & 0 & p & 0\\\\0 & 0 & 0 & p\\end{matrix}\\right)$$"
      ],
      "text/plain": [
       "<OGRePy._core.Tensor at 0x10bff6e30>"
      ]
     },
     "execution_count": 90,
     "metadata": {},
     "output_type": "execute_result"
    }
   ],
   "source": [
    "PerfectFluidFromVelocity = (rho + p) * FourVelocity(mu) @ FourVelocity(nu) + p * Minkowski(mu, nu)\n",
    "PerfectFluidFromVelocity.symbol = \"T\"\n",
    "PerfectFluidFromVelocity"
   ]
  },
  {
   "cell_type": "code",
   "execution_count": 91,
   "metadata": {},
   "outputs": [
    {
     "data": {
      "text/markdown": [
       "$$u{}^{\\mu} u{}^{\\nu}\\Bigg|_{\\left(t, x, y, z\\right)} = \\left(\\begin{matrix}- \\frac{1}{v^{2} - 1} & - \\frac{v}{v^{2} - 1} & 0 & 0\\\\- \\frac{v}{v^{2} - 1} & - \\frac{v^{2}}{v^{2} - 1} & 0 & 0\\\\0 & 0 & 0 & 0\\\\0 & 0 & 0 & 0\\end{matrix}\\right)$$"
      ],
      "text/plain": [
       "<OGRePy._core.Tensor at 0x10bfc8a90>"
      ]
     },
     "execution_count": 91,
     "metadata": {},
     "output_type": "execute_result"
    }
   ],
   "source": [
    "# this is an outer product \n",
    "FourVelocity(mu) @ FourVelocity(nu)"
   ]
  },
  {
   "cell_type": "code",
   "execution_count": 92,
   "metadata": {},
   "outputs": [
    {
     "data": {
      "text/markdown": [
       "$$T{}^{\\mu}{}^{\\nu}\\Bigg|_{\\left(t, x, y, z\\right)} = \\left(\\begin{matrix}\\rho & 0 & 0 & 0\\\\0 & p & 0 & 0\\\\0 & 0 & p & 0\\\\0 & 0 & 0 & p\\end{matrix}\\right)$$"
      ],
      "text/plain": [
       "<IPython.core.display.Markdown object>"
      ]
     },
     "metadata": {},
     "output_type": "display_data"
    }
   ],
   "source": [
    "PerfectFluidFromVelocity.show(replace={v: 0})"
   ]
  },
  {
   "cell_type": "code",
   "execution_count": 93,
   "metadata": {},
   "outputs": [
    {
     "data": {
      "text/markdown": [
       "$$d \\eta{}_{\\mu}{}_{\\nu}\\Bigg|_{\\left(t, r, \\theta, \\phi\\right)} = \\left(\\begin{matrix}- r & 0 & 0 & 0\\\\0 & r & 0 & 0\\\\0 & 0 & r^{3} & 0\\\\0 & 0 & 0 & r^{3} \\sin^{2}{\\left(\\theta \\right)}\\end{matrix}\\right)$$"
      ],
      "text/plain": [
       "<IPython.core.display.Markdown object>"
      ]
     },
     "metadata": {},
     "output_type": "display_data"
    }
   ],
   "source": [
    "(SpatialDistance() @ Minkowski(mu, nu)).show(coords=Spherical)"
   ]
  },
  {
   "cell_type": "code",
   "execution_count": 94,
   "metadata": {},
   "outputs": [
    {
     "data": {
      "text/markdown": [
       "$$d d\\Bigg|_{\\left(t, x, y, z\\right)} = x^{2} + y^{2} + z^{2}$$"
      ],
      "text/plain": [
       "<OGRePy._core.Tensor at 0x10c029df0>"
      ]
     },
     "execution_count": 94,
     "metadata": {},
     "output_type": "execute_result"
    }
   ],
   "source": [
    "SpatialDistance() @ SpatialDistance()"
   ]
  },
  {
   "cell_type": "code",
   "execution_count": 95,
   "metadata": {},
   "outputs": [
    {
     "data": {
      "text/markdown": [
       "$$u{}_{\\mu} u{}^{\\mu}\\Bigg|_{\\left(t, x, y, z\\right)} = -1$$"
      ],
      "text/plain": [
       "<OGRePy._core.Tensor at 0x10bff7970>"
      ]
     },
     "execution_count": 95,
     "metadata": {},
     "output_type": "execute_result"
    }
   ],
   "source": [
    "FourVelocity(mu) @ FourVelocity(mu)"
   ]
  },
  {
   "cell_type": "code",
   "execution_count": 96,
   "metadata": {},
   "outputs": [
    {
     "data": {
      "text/markdown": [
       "$$u{}_{\\mu} T{}^{\\mu}{}_{\\nu} N{}^{\\nu}{}_{\\rho}\\Bigg|_{\\left(t, x, y, z\\right)} = \\left(\\begin{matrix}0\\\\0\\\\0\\\\- \\frac{\\rho}{\\sqrt{1 - v^{2}}}\\end{matrix}\\right)$$"
      ],
      "text/plain": [
       "<OGRePy._core.Tensor at 0x10c02aa70>"
      ]
     },
     "execution_count": 96,
     "metadata": {},
     "output_type": "execute_result"
    }
   ],
   "source": [
    "FourVelocity(mu) @ PerfectFluidFromVelocity(mu, nu) @ NonSymmetric(nu, rho)"
   ]
  },
  {
   "cell_type": "code",
   "execution_count": 97,
   "metadata": {},
   "outputs": [
    {
     "data": {
      "text/markdown": [
       "$$\\eta{}_{\\mu}{}^{\\mu}\\Bigg|_{\\left(t, x, y, z\\right)} = 4$$"
      ],
      "text/plain": [
       "<OGRePy._core.Tensor at 0x10c054ea0>"
      ]
     },
     "execution_count": 97,
     "metadata": {},
     "output_type": "execute_result"
    }
   ],
   "source": [
    "Minkowski(mu, mu)"
   ]
  },
  {
   "cell_type": "code",
   "execution_count": 98,
   "metadata": {},
   "outputs": [
    {
     "data": {
      "text/markdown": [
       "$$T{}_{\\mu}{}^{\\mu}\\Bigg|_{\\left(t, x, y, z\\right)} = - \\rho + 3 p$$"
      ],
      "text/plain": [
       "<OGRePy._core.Tensor at 0x10c0281d0>"
      ]
     },
     "execution_count": 98,
     "metadata": {},
     "output_type": "execute_result"
    }
   ],
   "source": [
    "PerfectFluid(\"mu mu\")"
   ]
  },
  {
   "cell_type": "markdown",
   "metadata": {},
   "source": [
    "# Derivatives and Curvature Tensors"
   ]
  },
  {
   "cell_type": "code",
   "execution_count": 99,
   "metadata": {},
   "outputs": [
    {
     "data": {
      "text/markdown": [
       "$$K\\Bigg|_{\\left(t, r, \\theta, \\phi\\right)} = \\frac{48 M^{2}}{r^{6}}$$"
      ],
      "text/plain": [
       "<OGRePy._core.Tensor at 0x10c02a2f0>"
      ]
     },
     "execution_count": 99,
     "metadata": {},
     "output_type": "execute_result"
    }
   ],
   "source": [
    "SchwarzschildKretschmann()"
   ]
  },
  {
   "cell_type": "markdown",
   "metadata": {},
   "source": [
    "## gradient"
   ]
  },
  {
   "cell_type": "code",
   "execution_count": 100,
   "metadata": {},
   "outputs": [
    {
     "data": {
      "text/markdown": [
       "$$\\partial{}_{\\mu} K\\Bigg|_{\\left(t, r, \\theta, \\phi\\right)} = \\left(\\begin{matrix}0\\\\- \\frac{288 M^{2}}{r^{7}}\\\\0\\\\0\\end{matrix}\\right)$$"
      ],
      "text/plain": [
       "<OGRePy._core.Tensor at 0x10c055800>"
      ]
     },
     "execution_count": 100,
     "metadata": {},
     "output_type": "execute_result"
    }
   ],
   "source": [
    "gr.PartialD(mu) @ SchwarzschildKretschmann()"
   ]
  },
  {
   "cell_type": "code",
   "execution_count": 101,
   "metadata": {},
   "outputs": [
    {
     "data": {
      "text/markdown": [
       "$$\\partial{}_{\\mu} g{}_{\\alpha}{}_{\\beta}\\Bigg|_{\\left(t, r, \\theta, \\phi\\right)} = \\left(\\begin{matrix}\\left(\\begin{matrix}0 & 0 & 0 & 0\\\\0 & 0 & 0 & 0\\\\0 & 0 & 0 & 0\\\\0 & 0 & 0 & 0\\end{matrix}\\right) & \\left(\\begin{matrix}- \\frac{2 M}{r^{2}} & 0 & 0 & 0\\\\0 & - \\frac{2 M}{r^{2} \\left(- \\frac{2 M}{r} + 1\\right)^{2}} & 0 & 0\\\\0 & 0 & 2 r & 0\\\\0 & 0 & 0 & 2 r \\sin^{2}{\\left(\\theta \\right)}\\end{matrix}\\right) & \\left(\\begin{matrix}0 & 0 & 0 & 0\\\\0 & 0 & 0 & 0\\\\0 & 0 & 0 & 0\\\\0 & 0 & 0 & 2 r^{2} \\sin{\\left(\\theta \\right)} \\cos{\\left(\\theta \\right)}\\end{matrix}\\right) & \\left(\\begin{matrix}0 & 0 & 0 & 0\\\\0 & 0 & 0 & 0\\\\0 & 0 & 0 & 0\\\\0 & 0 & 0 & 0\\end{matrix}\\right)\\end{matrix}\\right)$$"
      ],
      "text/plain": [
       "<OGRePy._core.Tensor at 0x10c055f30>"
      ]
     },
     "execution_count": 101,
     "metadata": {},
     "output_type": "execute_result"
    }
   ],
   "source": [
    "gr.PartialD(mu) @ Schwarzschild(\"alpha beta\")"
   ]
  },
  {
   "cell_type": "code",
   "execution_count": 102,
   "metadata": {},
   "outputs": [
    {
     "data": {
      "text/markdown": [
       "$$\\begin{align*}\n",
       "    \\partial{}_{r} g{}_{t}{}_{t} &= - \\frac{2 M}{r^{2}} \\\\\n",
       "    \\partial{}_{r} g{}_{r}{}_{r} &= - \\frac{2 M}{r^{2} \\left(- \\frac{2 M}{r} + 1\\right)^{2}} \\\\\n",
       "    \\partial{}_{r} g{}_{\\theta}{}_{\\theta} &= 2 r \\\\\n",
       "    \\partial{}_{r} g{}_{\\phi}{}_{\\phi} &= 2 r \\sin^{2}{\\left(\\theta \\right)} \\\\\n",
       "    \\partial{}_{\\theta} g{}_{\\phi}{}_{\\phi} &= 2 r^{2} \\sin{\\left(\\theta \\right)} \\cos{\\left(\\theta \\right)} \n",
       "\\end{align*}$$"
      ],
      "text/plain": [
       "<IPython.core.display.Markdown object>"
      ]
     },
     "metadata": {},
     "output_type": "display_data"
    }
   ],
   "source": [
    "~(gr.PartialD(mu) @ Schwarzschild(\"alpha beta\"))"
   ]
  },
  {
   "cell_type": "markdown",
   "metadata": {},
   "source": [
    "## divergence"
   ]
  },
  {
   "cell_type": "code",
   "execution_count": 103,
   "metadata": {},
   "outputs": [
    {
     "data": {
      "text/markdown": [
       "$$x{}^{\\mu}\\Bigg|_{\\left(t, x, y, z\\right)} = \\left(\\begin{matrix}t\\\\x\\\\y\\\\z\\end{matrix}\\right)$$"
      ],
      "text/plain": [
       "<OGRePy._core.Tensor at 0x10c0564d0>"
      ]
     },
     "execution_count": 103,
     "metadata": {},
     "output_type": "execute_result"
    }
   ],
   "source": [
    "Position = gr.Tensor(\n",
    "    metric=Minkowski,\n",
    "    coords=Cartesian,\n",
    "    indices=(1,),\n",
    "    components=[t, x, y, z],\n",
    "    symbol=\"x\",\n",
    ")\n",
    "Position"
   ]
  },
  {
   "cell_type": "code",
   "execution_count": 104,
   "metadata": {},
   "outputs": [
    {
     "data": {
      "text/markdown": [
       "$$\\partial{}_{\\mu} x{}^{\\nu}\\Bigg|_{\\left(t, x, y, z\\right)} = \\left(\\begin{matrix}1 & 0 & 0 & 0\\\\0 & 1 & 0 & 0\\\\0 & 0 & 1 & 0\\\\0 & 0 & 0 & 1\\end{matrix}\\right)$$"
      ],
      "text/plain": [
       "<OGRePy._core.Tensor at 0x10c057240>"
      ]
     },
     "execution_count": 104,
     "metadata": {},
     "output_type": "execute_result"
    }
   ],
   "source": [
    "# gradient, different indicies\n",
    "gr.PartialD(mu) @ Position(nu)"
   ]
  },
  {
   "cell_type": "code",
   "execution_count": 105,
   "metadata": {},
   "outputs": [
    {
     "data": {
      "text/markdown": [
       "$$\\partial{}_{\\mu} x{}^{\\mu}\\Bigg|_{\\left(t, x, y, z\\right)} = 4$$"
      ],
      "text/plain": [
       "<OGRePy._core.Tensor at 0x10c057a10>"
      ]
     },
     "execution_count": 105,
     "metadata": {},
     "output_type": "execute_result"
    }
   ],
   "source": [
    "gr.PartialD(mu) @ Position(mu)"
   ]
  },
  {
   "cell_type": "markdown",
   "metadata": {},
   "source": [
    "WARNING: When applying partial derivatives to tensors, the result generally does not transform like a tensor under a coordinate transformation. For this reason, in general relativity we normally use the covariant derivative instead of a partial derivative. However, there are three important exceptions, where partial derivatives must be used: in the covariant derivative itself, the Levi-Civita connection, and the Riemann tensor, all of which will be discussed below."
   ]
  },
  {
   "cell_type": "markdown",
   "metadata": {},
   "source": [
    "# The Chistoffel Symbols"
   ]
  },
  {
   "cell_type": "code",
   "execution_count": 106,
   "metadata": {},
   "outputs": [
    {
     "data": {
      "text/markdown": [
       "$$\\begin{align*}\n",
       "    \\Gamma{}^{t}{}_{t}{}_{r} = \\Gamma{}^{t}{}_{r}{}_{t} &= \\frac{M}{r \\left(- 2 M + r\\right)} \\\\\n",
       "    \\Gamma{}^{r}{}_{t}{}_{t} &= \\frac{M \\left(- 2 M + r\\right)}{r^{3}} \\\\\n",
       "    \\Gamma{}^{r}{}_{r}{}_{r} &= \\frac{M}{r \\left(2 M - r\\right)} \\\\\n",
       "    \\Gamma{}^{r}{}_{\\theta}{}_{\\theta} &= 2 M - r \\\\\n",
       "    \\Gamma{}^{r}{}_{\\phi}{}_{\\phi} &= \\left(2 M - r\\right) \\sin^{2}{\\left(\\theta \\right)} \\\\\n",
       "    \\Gamma{}^{\\theta}{}_{r}{}_{\\theta} = \\Gamma{}^{\\theta}{}_{\\theta}{}_{r} = \\Gamma{}^{\\phi}{}_{r}{}_{\\phi} = \\Gamma{}^{\\phi}{}_{\\phi}{}_{r} &= \\frac{1}{r} \\\\\n",
       "    \\Gamma{}^{\\theta}{}_{\\phi}{}_{\\phi} &= - \\frac{\\sin{\\left(2 \\theta \\right)}}{2} \\\\\n",
       "    \\Gamma{}^{\\phi}{}_{\\theta}{}_{\\phi} = \\Gamma{}^{\\phi}{}_{\\phi}{}_{\\theta} &= \\frac{1}{\\tan{\\left(\\theta \\right)}} \n",
       "\\end{align*}$$"
      ],
      "text/plain": [
       "<IPython.core.display.Markdown object>"
      ]
     },
     "metadata": {},
     "output_type": "display_data"
    }
   ],
   "source": [
    "from OGRePy.abc import lamda, sigma\n",
    "\n",
    "WrongSchwarzschildChristoffel = gr.s.Rational(1, 2) * Schwarzschild(lamda, sigma) @ (gr.PartialD(mu) @ Schwarzschild(nu, sigma) + gr.PartialD(nu) @ Schwarzschild(sigma, mu) - gr.PartialD(sigma) @ Schwarzschild(mu, nu))\n",
    "WrongSchwarzschildChristoffel.symbol = \"Gamma\"\n",
    "WrongSchwarzschildChristoffel.default_indices = (1, -1, -1)\n",
    "~WrongSchwarzschildChristoffel"
   ]
  },
  {
   "cell_type": "code",
   "execution_count": 107,
   "metadata": {},
   "outputs": [
    {
     "data": {
      "text/markdown": [
       "$$\\begin{align*}\n",
       "    \\Gamma{}^{t}{}_{t}{}_{r} = \\Gamma{}^{t}{}_{r}{}_{t} &= \\frac{M}{r \\left(- 2 M + r\\right)} \\\\\n",
       "    \\Gamma{}^{r}{}_{t}{}_{t} &= \\frac{M \\left(- 2 M + r\\right)}{r^{3}} \\\\\n",
       "    \\Gamma{}^{r}{}_{r}{}_{r} &= \\frac{M}{r \\left(2 M - r\\right)} \\\\\n",
       "    \\Gamma{}^{r}{}_{\\theta}{}_{\\theta} &= 2 M - r \\\\\n",
       "    \\Gamma{}^{r}{}_{\\phi}{}_{\\phi} &= \\left(2 M - r\\right) \\sin^{2}{\\left(\\theta \\right)} \\\\\n",
       "    \\Gamma{}^{\\theta}{}_{r}{}_{\\theta} = \\Gamma{}^{\\theta}{}_{\\theta}{}_{r} = \\Gamma{}^{\\phi}{}_{r}{}_{\\phi} = \\Gamma{}^{\\phi}{}_{\\phi}{}_{r} &= \\frac{1}{r} \\\\\n",
       "    \\Gamma{}^{\\theta}{}_{\\phi}{}_{\\phi} &= - \\frac{\\sin{\\left(2 \\theta \\right)}}{2} \\\\\n",
       "    \\Gamma{}^{\\phi}{}_{\\theta}{}_{\\phi} = \\Gamma{}^{\\phi}{}_{\\phi}{}_{\\theta} &= \\frac{1}{\\tan{\\left(\\theta \\right)}} \n",
       "\\end{align*}$$"
      ],
      "text/plain": [
       "<IPython.core.display.Markdown object>"
      ]
     },
     "metadata": {},
     "output_type": "display_data"
    }
   ],
   "source": [
    "~Schwarzschild.christoffel()"
   ]
  },
  {
   "cell_type": "code",
   "execution_count": 108,
   "metadata": {},
   "outputs": [
    {
     "data": {
      "text/plain": [
       "True"
      ]
     },
     "execution_count": 108,
     "metadata": {},
     "output_type": "execute_result"
    }
   ],
   "source": [
    "gr.compare(Schwarzschild.christoffel(), WrongSchwarzschildChristoffel)"
   ]
  },
  {
   "cell_type": "code",
   "execution_count": 110,
   "metadata": {},
   "outputs": [
    {
     "data": {
      "text/markdown": [
       "$$g{}_{\\mu}{}_{\\nu}\\Bigg|_{\\left(t, x, y, z\\right)} = \\left(\\begin{matrix}- x & 0 & 0 & 0\\\\0 & 1 & 0 & 0\\\\0 & 0 & 1 & 0\\\\0 & 0 & 0 & 1\\end{matrix}\\right)$$"
      ],
      "text/plain": [
       "<IPython.core.display.Markdown object>"
      ]
     },
     "metadata": {},
     "output_type": "display_data"
    }
   ],
   "source": [
    "SimpleMetric = gr.Metric(\n",
    "    coords=Cartesian,\n",
    "    components=gr.diag(-x, 1, 1, 1),\n",
    ")\n",
    "\n",
    "SimpleMetric.show()"
   ]
  },
  {
   "cell_type": "code",
   "execution_count": 112,
   "metadata": {},
   "outputs": [
    {
     "data": {
      "text/markdown": [
       "$$\\begin{align*}\n",
       "    \\Gamma{}^{t}{}_{t}{}_{x} = \\Gamma{}^{t}{}_{x}{}_{t} &= \\frac{1}{2 x} \\\\\n",
       "    \\Gamma{}^{x}{}_{t}{}_{t} &= \\frac{1}{2} \n",
       "\\end{align*}$$"
      ],
      "text/plain": [
       "<IPython.core.display.Markdown object>"
      ]
     },
     "metadata": {},
     "output_type": "display_data"
    }
   ],
   "source": [
    "WrongSimpleMetricChristoffel = gr.s.Rational(1, 2) * SimpleMetric(lamda, sigma) @ (gr.PartialD(mu) @ SimpleMetric(nu, sigma) + gr.PartialD(nu) @ SimpleMetric(sigma, mu) - gr.PartialD(sigma) @ SimpleMetric(mu, nu))\n",
    "WrongSimpleMetricChristoffel.symbol = \"Gamma\"\n",
    "WrongSimpleMetricChristoffel.default_indices = (1, -1, -1)\n",
    "~WrongSimpleMetricChristoffel"
   ]
  },
  {
   "cell_type": "code",
   "execution_count": null,
   "metadata": {},
   "outputs": [
    {
     "data": {
      "text/markdown": [
       "$$\\begin{align*}\n",
       "    \\Gamma{}^{t}{}_{t}{}_{x} = \\Gamma{}^{t}{}_{x}{}_{t} &= \\frac{1}{2 x} \\\\\n",
       "    \\Gamma{}^{x}{}_{t}{}_{t} &= \\frac{1}{2} \n",
       "\\end{align*}$$"
      ],
      "text/plain": [
       "<IPython.core.display.Markdown object>"
      ]
     },
     "metadata": {},
     "output_type": "display_data"
    }
   ],
   "source": [
    "~(SimpleMetricChristoffel := SimpleMetric.christoffel())"
   ]
  },
  {
   "cell_type": "code",
   "execution_count": 116,
   "metadata": {},
   "outputs": [
    {
     "data": {
      "text/markdown": [
       "$$\\begin{align*}\n",
       "    \\Gamma{}^{t}{}_{t}{}_{r} = \\Gamma{}^{t}{}_{r}{}_{t} &= \\frac{1}{2 r} \\\\\n",
       "    \\Gamma{}^{t}{}_{t}{}_{\\theta} = \\Gamma{}^{t}{}_{\\theta}{}_{t} &= \\frac{1}{2 \\tan{\\left(\\theta \\right)}} \\\\\n",
       "    \\Gamma{}^{t}{}_{t}{}_{\\phi} = \\Gamma{}^{t}{}_{\\phi}{}_{t} &= - \\frac{\\tan{\\left(\\phi \\right)}}{2} \\\\\n",
       "    \\Gamma{}^{r}{}_{t}{}_{t} &= \\frac{\\sin{\\left(\\theta \\right)} \\cos{\\left(\\phi \\right)}}{2} \\\\\n",
       "    \\Gamma{}^{r}{}_{\\theta}{}_{\\theta} &= - r \\\\\n",
       "    \\Gamma{}^{r}{}_{\\phi}{}_{\\phi} &= - r \\sin^{2}{\\left(\\theta \\right)} \\\\\n",
       "    \\Gamma{}^{\\theta}{}_{t}{}_{t} &= \\frac{\\cos{\\left(\\phi \\right)} \\cos{\\left(\\theta \\right)}}{2 r} \\\\\n",
       "    \\Gamma{}^{\\theta}{}_{r}{}_{\\theta} = \\Gamma{}^{\\theta}{}_{\\theta}{}_{r} = \\Gamma{}^{\\phi}{}_{r}{}_{\\phi} = \\Gamma{}^{\\phi}{}_{\\phi}{}_{r} &= \\frac{1}{r} \\\\\n",
       "    \\Gamma{}^{\\theta}{}_{\\phi}{}_{\\phi} &= - \\frac{\\sin{\\left(2 \\theta \\right)}}{2} \\\\\n",
       "    \\Gamma{}^{\\phi}{}_{t}{}_{t} &= - \\frac{\\sin{\\left(\\phi \\right)}}{2 r \\sin{\\left(\\theta \\right)}} \\\\\n",
       "    \\Gamma{}^{\\phi}{}_{\\theta}{}_{\\phi} = \\Gamma{}^{\\phi}{}_{\\phi}{}_{\\theta} &= \\frac{1}{\\tan{\\left(\\theta \\right)}} \n",
       "\\end{align*}$$"
      ],
      "text/plain": [
       "<IPython.core.display.Markdown object>"
      ]
     },
     "metadata": {},
     "output_type": "display_data"
    }
   ],
   "source": [
    "SimpleMetricChristoffel.list(coords=Spherical)"
   ]
  },
  {
   "cell_type": "code",
   "execution_count": 117,
   "metadata": {},
   "outputs": [
    {
     "data": {
      "text/markdown": [
       "$$\\begin{align*}\n",
       "    \\Gamma{}^{t}{}_{t}{}_{r} = \\Gamma{}^{t}{}_{r}{}_{t} &= \\frac{1}{2 r} \\\\\n",
       "    \\Gamma{}^{t}{}_{t}{}_{\\theta} = \\Gamma{}^{t}{}_{\\theta}{}_{t} &= \\frac{1}{2 \\tan{\\left(\\theta \\right)}} \\\\\n",
       "    \\Gamma{}^{t}{}_{t}{}_{\\phi} = \\Gamma{}^{t}{}_{\\phi}{}_{t} &= - \\frac{\\tan{\\left(\\phi \\right)}}{2} \\\\\n",
       "    \\Gamma{}^{r}{}_{t}{}_{t} &= \\frac{\\sin{\\left(\\theta \\right)} \\cos{\\left(\\phi \\right)}}{2} \\\\\n",
       "    \\Gamma{}^{\\theta}{}_{t}{}_{t} &= \\frac{\\cos{\\left(\\phi \\right)} \\cos{\\left(\\theta \\right)}}{2 r} \\\\\n",
       "    \\Gamma{}^{\\phi}{}_{t}{}_{t} &= - \\frac{\\sin{\\left(\\phi \\right)}}{2 r \\sin{\\left(\\theta \\right)}} \n",
       "\\end{align*}$$"
      ],
      "text/plain": [
       "<IPython.core.display.Markdown object>"
      ]
     },
     "metadata": {},
     "output_type": "display_data"
    }
   ],
   "source": [
    "WrongSimpleMetricChristoffel.list(coords=Spherical)"
   ]
  },
  {
   "cell_type": "markdown",
   "metadata": {},
   "source": [
    "# FLRW Metric"
   ]
  },
  {
   "cell_type": "code",
   "execution_count": 121,
   "metadata": {},
   "outputs": [
    {
     "data": {
      "text/markdown": [
       "$$g{}_{\\mu}{}_{\\nu}\\Bigg|_{\\left(t, r, \\theta, \\phi\\right)} = \\left(\\begin{matrix}-1 & 0 & 0 & 0\\\\0 & a^{2} & 0 & 0\\\\0 & 0 & a^{2} r^{2} & 0\\\\0 & 0 & 0 & a^{2} r^{2} \\sin^{2}{\\left(\\theta \\right)}\\end{matrix}\\right)$$"
      ],
      "text/plain": [
       "<IPython.core.display.Markdown object>"
      ]
     },
     "metadata": {},
     "output_type": "display_data"
    }
   ],
   "source": [
    "a_t = gr.func(\"a\")(t)\n",
    "FLRW = gr.Metric(\n",
    "    coords=Spherical,\n",
    "    components=gr.diag(-1, a_t**2, a_t**2 * r**2, a_t**2 * r**2 * gr.s.sin(theta) ** 2),\n",
    ")\n",
    "\n",
    "FLRW.show()"
   ]
  },
  {
   "cell_type": "code",
   "execution_count": 122,
   "metadata": {},
   "outputs": [
    {
     "data": {
      "text/latex": [
       "$\\displaystyle \\mathrm{d}\\phi^{2} r^{2} a^{2}{\\left(t \\right)} \\sin^{2}{\\left(\\theta \\right)} + \\mathrm{d}\\theta^{2} r^{2} a^{2}{\\left(t \\right)} + \\mathrm{d}r^{2} a^{2}{\\left(t \\right)} - \\mathrm{d}t^{2}$"
      ],
      "text/plain": [
       "\\mathrm{d}\\phi**2*r**2*a(t)**2*sin(\\theta)**2 + \\mathrm{d}\\theta**2*r**2*a(t)**2 + \\mathrm{d}r**2*a(t)**2 - \\mathrm{d}t**2"
      ]
     },
     "execution_count": 122,
     "metadata": {},
     "output_type": "execute_result"
    }
   ],
   "source": [
    "FLRW.line_element()"
   ]
  },
  {
   "cell_type": "code",
   "execution_count": 123,
   "metadata": {},
   "outputs": [
    {
     "data": {
      "text/latex": [
       "$\\displaystyle - r^{4} a^{6}{\\left(t \\right)} \\sin^{2}{\\left(\\theta \\right)}$"
      ],
      "text/plain": [
       "-r**4*a(t)**6*sin(\\theta)**2"
      ]
     },
     "execution_count": 123,
     "metadata": {},
     "output_type": "execute_result"
    }
   ],
   "source": [
    "FLRW.volume_element_squared()"
   ]
  },
  {
   "cell_type": "code",
   "execution_count": 124,
   "metadata": {},
   "outputs": [
    {
     "data": {
      "text/markdown": [
       "$$\\begin{align*}\n",
       "    \\Gamma{}^{t}{}_{r}{}_{r} &= \\partial_{t} a a \\\\\n",
       "    \\Gamma{}^{t}{}_{\\theta}{}_{\\theta} &= \\partial_{t} a a r^{2} \\\\\n",
       "    \\Gamma{}^{t}{}_{\\phi}{}_{\\phi} &= \\partial_{t} a a r^{2} \\sin^{2}{\\left(\\theta \\right)} \\\\\n",
       "    \\Gamma{}^{r}{}_{t}{}_{r} = \\Gamma{}^{r}{}_{r}{}_{t} = \\Gamma{}^{\\theta}{}_{t}{}_{\\theta} = \\Gamma{}^{\\theta}{}_{\\theta}{}_{t} = \\Gamma{}^{\\phi}{}_{t}{}_{\\phi} = \\Gamma{}^{\\phi}{}_{\\phi}{}_{t} &= \\frac{\\partial_{t} a}{a} \\\\\n",
       "    \\Gamma{}^{r}{}_{\\theta}{}_{\\theta} &= - r \\\\\n",
       "    \\Gamma{}^{r}{}_{\\phi}{}_{\\phi} &= - r \\sin^{2}{\\left(\\theta \\right)} \\\\\n",
       "    \\Gamma{}^{\\theta}{}_{r}{}_{\\theta} = \\Gamma{}^{\\theta}{}_{\\theta}{}_{r} = \\Gamma{}^{\\phi}{}_{r}{}_{\\phi} = \\Gamma{}^{\\phi}{}_{\\phi}{}_{r} &= \\frac{1}{r} \\\\\n",
       "    \\Gamma{}^{\\theta}{}_{\\phi}{}_{\\phi} &= - \\frac{\\sin{\\left(2 \\theta \\right)}}{2} \\\\\n",
       "    \\Gamma{}^{\\phi}{}_{\\theta}{}_{\\phi} = \\Gamma{}^{\\phi}{}_{\\phi}{}_{\\theta} &= \\frac{1}{\\tan{\\left(\\theta \\right)}} \n",
       "\\end{align*}$$"
      ],
      "text/plain": [
       "<IPython.core.display.Markdown object>"
      ]
     },
     "metadata": {},
     "output_type": "display_data"
    }
   ],
   "source": [
    "~FLRW.christoffel()"
   ]
  },
  {
   "cell_type": "markdown",
   "metadata": {},
   "source": [
    "# Riemann Tensor"
   ]
  },
  {
   "cell_type": "code",
   "execution_count": 125,
   "metadata": {},
   "outputs": [
    {
     "data": {
      "text/markdown": [
       "$$\\begin{align*}\n",
       "    \\partial{}_{t} \\Gamma{}^{t}{}_{r}{}_{r} - \\partial{}_{r} \\Gamma{}^{t}{}_{t}{}_{r} + \\Gamma{}^{t}{}_{t}{}_{\\mu} \\Gamma{}^{\\mu}{}_{r}{}_{r} - \\Gamma{}^{t}{}_{r}{}_{\\mu} \\Gamma{}^{\\mu}{}_{t}{}_{r} &= \\frac{2 M}{r^{2} \\left(- 2 M + r\\right)} \\\\\n",
       "    \\partial{}_{t} \\Gamma{}^{t}{}_{\\theta}{}_{\\theta} - \\partial{}_{\\theta} \\Gamma{}^{t}{}_{t}{}_{\\theta} + \\Gamma{}^{t}{}_{t}{}_{\\mu} \\Gamma{}^{\\mu}{}_{\\theta}{}_{\\theta} - \\Gamma{}^{t}{}_{\\theta}{}_{\\mu} \\Gamma{}^{\\mu}{}_{t}{}_{\\theta} = \\partial{}_{r} \\Gamma{}^{r}{}_{\\theta}{}_{\\theta} - \\partial{}_{\\theta} \\Gamma{}^{r}{}_{r}{}_{\\theta} + \\Gamma{}^{r}{}_{r}{}_{\\mu} \\Gamma{}^{\\mu}{}_{\\theta}{}_{\\theta} - \\Gamma{}^{r}{}_{\\theta}{}_{\\mu} \\Gamma{}^{\\mu}{}_{r}{}_{\\theta} = -\\partial{}_{\\theta} \\Gamma{}^{t}{}_{t}{}_{\\theta} - \\partial{}_{t} \\Gamma{}^{t}{}_{\\theta}{}_{\\theta} + \\Gamma{}^{t}{}_{\\theta}{}_{\\mu} \\Gamma{}^{\\mu}{}_{t}{}_{\\theta} - \\Gamma{}^{t}{}_{t}{}_{\\mu} \\Gamma{}^{\\mu}{}_{\\theta}{}_{\\theta} = -\\partial{}_{\\theta} \\Gamma{}^{r}{}_{r}{}_{\\theta} - \\partial{}_{r} \\Gamma{}^{r}{}_{\\theta}{}_{\\theta} + \\Gamma{}^{r}{}_{\\theta}{}_{\\mu} \\Gamma{}^{\\mu}{}_{r}{}_{\\theta} - \\Gamma{}^{r}{}_{r}{}_{\\mu} \\Gamma{}^{\\mu}{}_{\\theta}{}_{\\theta} &= - \\frac{M}{r} \\\\\n",
       "    \\partial{}_{t} \\Gamma{}^{t}{}_{\\phi}{}_{\\phi} - \\partial{}_{\\phi} \\Gamma{}^{t}{}_{t}{}_{\\phi} + \\Gamma{}^{t}{}_{t}{}_{\\mu} \\Gamma{}^{\\mu}{}_{\\phi}{}_{\\phi} - \\Gamma{}^{t}{}_{\\phi}{}_{\\mu} \\Gamma{}^{\\mu}{}_{t}{}_{\\phi} = \\partial{}_{r} \\Gamma{}^{r}{}_{\\phi}{}_{\\phi} - \\partial{}_{\\phi} \\Gamma{}^{r}{}_{r}{}_{\\phi} + \\Gamma{}^{r}{}_{r}{}_{\\mu} \\Gamma{}^{\\mu}{}_{\\phi}{}_{\\phi} - \\Gamma{}^{r}{}_{\\phi}{}_{\\mu} \\Gamma{}^{\\mu}{}_{r}{}_{\\phi} = -\\partial{}_{\\phi} \\Gamma{}^{t}{}_{t}{}_{\\phi} - \\partial{}_{t} \\Gamma{}^{t}{}_{\\phi}{}_{\\phi} + \\Gamma{}^{t}{}_{\\phi}{}_{\\mu} \\Gamma{}^{\\mu}{}_{t}{}_{\\phi} - \\Gamma{}^{t}{}_{t}{}_{\\mu} \\Gamma{}^{\\mu}{}_{\\phi}{}_{\\phi} = -\\partial{}_{\\phi} \\Gamma{}^{r}{}_{r}{}_{\\phi} - \\partial{}_{r} \\Gamma{}^{r}{}_{\\phi}{}_{\\phi} + \\Gamma{}^{r}{}_{\\phi}{}_{\\mu} \\Gamma{}^{\\mu}{}_{r}{}_{\\phi} - \\Gamma{}^{r}{}_{r}{}_{\\mu} \\Gamma{}^{\\mu}{}_{\\phi}{}_{\\phi} &= - \\frac{M \\sin^{2}{\\left(\\theta \\right)}}{r} \\\\\n",
       "    \\partial{}_{t} \\Gamma{}^{r}{}_{r}{}_{t} - \\partial{}_{r} \\Gamma{}^{r}{}_{t}{}_{t} + \\Gamma{}^{r}{}_{t}{}_{\\mu} \\Gamma{}^{\\mu}{}_{r}{}_{t} - \\Gamma{}^{r}{}_{r}{}_{\\mu} \\Gamma{}^{\\mu}{}_{t}{}_{t} &= \\frac{2 M \\left(- 2 M + r\\right)}{r^{4}} \\\\\n",
       "    \\partial{}_{t} \\Gamma{}^{\\theta}{}_{\\theta}{}_{t} - \\partial{}_{\\theta} \\Gamma{}^{\\theta}{}_{t}{}_{t} + \\Gamma{}^{\\theta}{}_{t}{}_{\\mu} \\Gamma{}^{\\mu}{}_{\\theta}{}_{t} - \\Gamma{}^{\\theta}{}_{\\theta}{}_{\\mu} \\Gamma{}^{\\mu}{}_{t}{}_{t} = \\partial{}_{t} \\Gamma{}^{\\phi}{}_{\\phi}{}_{t} - \\partial{}_{\\phi} \\Gamma{}^{\\phi}{}_{t}{}_{t} + \\Gamma{}^{\\phi}{}_{t}{}_{\\mu} \\Gamma{}^{\\mu}{}_{\\phi}{}_{t} - \\Gamma{}^{\\phi}{}_{\\phi}{}_{\\mu} \\Gamma{}^{\\mu}{}_{t}{}_{t} &= \\frac{M \\left(2 M - r\\right)}{r^{4}} \\\\\n",
       "    \\partial{}_{r} \\Gamma{}^{t}{}_{t}{}_{r} - \\partial{}_{t} \\Gamma{}^{t}{}_{r}{}_{r} + \\Gamma{}^{t}{}_{r}{}_{\\mu} \\Gamma{}^{\\mu}{}_{t}{}_{r} - \\Gamma{}^{t}{}_{t}{}_{\\mu} \\Gamma{}^{\\mu}{}_{r}{}_{r} &= \\frac{2 M}{r^{2} \\left(2 M - r\\right)} \\\\\n",
       "    \\partial{}_{r} \\Gamma{}^{r}{}_{t}{}_{t} - \\partial{}_{t} \\Gamma{}^{r}{}_{r}{}_{t} + \\Gamma{}^{r}{}_{r}{}_{\\mu} \\Gamma{}^{\\mu}{}_{t}{}_{t} - \\Gamma{}^{r}{}_{t}{}_{\\mu} \\Gamma{}^{\\mu}{}_{r}{}_{t} &= \\frac{2 M \\left(2 M - r\\right)}{r^{4}} \\\\\n",
       "    \\partial{}_{r} \\Gamma{}^{\\theta}{}_{\\theta}{}_{r} - \\partial{}_{\\theta} \\Gamma{}^{\\theta}{}_{r}{}_{r} + \\Gamma{}^{\\theta}{}_{r}{}_{\\mu} \\Gamma{}^{\\mu}{}_{\\theta}{}_{r} - \\Gamma{}^{\\theta}{}_{\\theta}{}_{\\mu} \\Gamma{}^{\\mu}{}_{r}{}_{r} = \\partial{}_{r} \\Gamma{}^{\\phi}{}_{\\phi}{}_{r} - \\partial{}_{\\phi} \\Gamma{}^{\\phi}{}_{r}{}_{r} + \\Gamma{}^{\\phi}{}_{r}{}_{\\mu} \\Gamma{}^{\\mu}{}_{\\phi}{}_{r} - \\Gamma{}^{\\phi}{}_{\\phi}{}_{\\mu} \\Gamma{}^{\\mu}{}_{r}{}_{r} &= \\frac{M}{r^{2} \\left(- 2 M + r\\right)} \\\\\n",
       "    \\partial{}_{\\theta} \\Gamma{}^{\\theta}{}_{t}{}_{t} - \\partial{}_{t} \\Gamma{}^{\\theta}{}_{\\theta}{}_{t} + \\Gamma{}^{\\theta}{}_{\\theta}{}_{\\mu} \\Gamma{}^{\\mu}{}_{t}{}_{t} - \\Gamma{}^{\\theta}{}_{t}{}_{\\mu} \\Gamma{}^{\\mu}{}_{\\theta}{}_{t} = \\partial{}_{\\phi} \\Gamma{}^{\\phi}{}_{t}{}_{t} - \\partial{}_{t} \\Gamma{}^{\\phi}{}_{\\phi}{}_{t} + \\Gamma{}^{\\phi}{}_{\\phi}{}_{\\mu} \\Gamma{}^{\\mu}{}_{t}{}_{t} - \\Gamma{}^{\\phi}{}_{t}{}_{\\mu} \\Gamma{}^{\\mu}{}_{\\phi}{}_{t} &= \\frac{M \\left(- 2 M + r\\right)}{r^{4}} \\\\\n",
       "    \\partial{}_{\\theta} \\Gamma{}^{\\theta}{}_{r}{}_{r} - \\partial{}_{r} \\Gamma{}^{\\theta}{}_{\\theta}{}_{r} + \\Gamma{}^{\\theta}{}_{\\theta}{}_{\\mu} \\Gamma{}^{\\mu}{}_{r}{}_{r} - \\Gamma{}^{\\theta}{}_{r}{}_{\\mu} \\Gamma{}^{\\mu}{}_{\\theta}{}_{r} = \\partial{}_{\\phi} \\Gamma{}^{\\phi}{}_{r}{}_{r} - \\partial{}_{r} \\Gamma{}^{\\phi}{}_{\\phi}{}_{r} + \\Gamma{}^{\\phi}{}_{\\phi}{}_{\\mu} \\Gamma{}^{\\mu}{}_{r}{}_{r} - \\Gamma{}^{\\phi}{}_{r}{}_{\\mu} \\Gamma{}^{\\mu}{}_{\\phi}{}_{r} &= \\frac{M}{r^{2} \\left(2 M - r\\right)} \\\\\n",
       "    \\partial{}_{\\theta} \\Gamma{}^{\\theta}{}_{\\phi}{}_{\\phi} - \\partial{}_{\\phi} \\Gamma{}^{\\theta}{}_{\\theta}{}_{\\phi} + \\Gamma{}^{\\theta}{}_{\\theta}{}_{\\mu} \\Gamma{}^{\\mu}{}_{\\phi}{}_{\\phi} - \\Gamma{}^{\\theta}{}_{\\phi}{}_{\\mu} \\Gamma{}^{\\mu}{}_{\\theta}{}_{\\phi} = -\\partial{}_{\\phi} \\Gamma{}^{\\theta}{}_{\\theta}{}_{\\phi} - \\partial{}_{\\theta} \\Gamma{}^{\\theta}{}_{\\phi}{}_{\\phi} + \\Gamma{}^{\\theta}{}_{\\phi}{}_{\\mu} \\Gamma{}^{\\mu}{}_{\\theta}{}_{\\phi} - \\Gamma{}^{\\theta}{}_{\\theta}{}_{\\mu} \\Gamma{}^{\\mu}{}_{\\phi}{}_{\\phi} &= \\frac{2 M \\sin^{2}{\\left(\\theta \\right)}}{r} \\\\\n",
       "    \\partial{}_{\\theta} \\Gamma{}^{\\phi}{}_{\\phi}{}_{\\theta} - \\partial{}_{\\phi} \\Gamma{}^{\\phi}{}_{\\theta}{}_{\\theta} + \\Gamma{}^{\\phi}{}_{\\theta}{}_{\\mu} \\Gamma{}^{\\mu}{}_{\\phi}{}_{\\theta} - \\Gamma{}^{\\phi}{}_{\\phi}{}_{\\mu} \\Gamma{}^{\\mu}{}_{\\theta}{}_{\\theta} = -\\partial{}_{\\phi} \\Gamma{}^{\\phi}{}_{\\theta}{}_{\\theta} - \\partial{}_{\\theta} \\Gamma{}^{\\phi}{}_{\\phi}{}_{\\theta} + \\Gamma{}^{\\phi}{}_{\\phi}{}_{\\mu} \\Gamma{}^{\\mu}{}_{\\theta}{}_{\\theta} - \\Gamma{}^{\\phi}{}_{\\theta}{}_{\\mu} \\Gamma{}^{\\mu}{}_{\\phi}{}_{\\theta} &= - \\frac{2 M}{r} \n",
       "\\end{align*}$$"
      ],
      "text/plain": [
       "<IPython.core.display.Markdown object>"
      ]
     },
     "metadata": {},
     "output_type": "display_data"
    }
   ],
   "source": [
    "~(SchwarzschildRiemann := (\n",
    "    gr.PartialD(mu) @ Schwarzschild.christoffel(rho, nu, sigma) - gr.PartialD(nu) @ Schwarzschild.christoffel(rho, mu, sigma) + Schwarzschild.christoffel(rho, mu, lamda) @ Schwarzschild.christoffel(lamda, nu, sigma) - Schwarzschild.christoffel(rho, nu, lamda) @ Schwarzschild.christoffel(lamda, mu, sigma)\n",
    "))"
   ]
  },
  {
   "cell_type": "code",
   "execution_count": 126,
   "metadata": {},
   "outputs": [
    {
     "data": {
      "text/markdown": [
       "$$\\begin{align*}\n",
       "    R{}_{t}{}^{t}{}_{r}{}_{r} &= \\frac{2 M}{r^{2} \\left(- 2 M + r\\right)} \\\\\n",
       "    R{}_{t}{}^{t}{}_{\\theta}{}_{\\theta} = R{}_{r}{}^{r}{}_{\\theta}{}_{\\theta} = -R{}_{\\theta}{}^{t}{}_{t}{}_{\\theta} = -R{}_{\\theta}{}^{r}{}_{r}{}_{\\theta} &= - \\frac{M}{r} \\\\\n",
       "    R{}_{t}{}^{t}{}_{\\phi}{}_{\\phi} = R{}_{r}{}^{r}{}_{\\phi}{}_{\\phi} = -R{}_{\\phi}{}^{t}{}_{t}{}_{\\phi} = -R{}_{\\phi}{}^{r}{}_{r}{}_{\\phi} &= - \\frac{M \\sin^{2}{\\left(\\theta \\right)}}{r} \\\\\n",
       "    R{}_{t}{}^{r}{}_{r}{}_{t} &= \\frac{2 M \\left(- 2 M + r\\right)}{r^{4}} \\\\\n",
       "    R{}_{t}{}^{\\theta}{}_{\\theta}{}_{t} = R{}_{t}{}^{\\phi}{}_{\\phi}{}_{t} &= \\frac{M \\left(2 M - r\\right)}{r^{4}} \\\\\n",
       "    R{}_{r}{}^{t}{}_{t}{}_{r} &= \\frac{2 M}{r^{2} \\left(2 M - r\\right)} \\\\\n",
       "    R{}_{r}{}^{r}{}_{t}{}_{t} &= \\frac{2 M \\left(2 M - r\\right)}{r^{4}} \\\\\n",
       "    R{}_{r}{}^{\\theta}{}_{\\theta}{}_{r} = R{}_{r}{}^{\\phi}{}_{\\phi}{}_{r} &= \\frac{M}{r^{2} \\left(- 2 M + r\\right)} \\\\\n",
       "    R{}_{\\theta}{}^{\\theta}{}_{t}{}_{t} = R{}_{\\phi}{}^{\\phi}{}_{t}{}_{t} &= \\frac{M \\left(- 2 M + r\\right)}{r^{4}} \\\\\n",
       "    R{}_{\\theta}{}^{\\theta}{}_{r}{}_{r} = R{}_{\\phi}{}^{\\phi}{}_{r}{}_{r} &= \\frac{M}{r^{2} \\left(2 M - r\\right)} \\\\\n",
       "    R{}_{\\theta}{}^{\\theta}{}_{\\phi}{}_{\\phi} = -R{}_{\\phi}{}^{\\theta}{}_{\\theta}{}_{\\phi} &= \\frac{2 M \\sin^{2}{\\left(\\theta \\right)}}{r} \\\\\n",
       "    R{}_{\\theta}{}^{\\phi}{}_{\\phi}{}_{\\theta} = -R{}_{\\phi}{}^{\\phi}{}_{\\theta}{}_{\\theta} &= - \\frac{2 M}{r} \n",
       "\\end{align*}$$"
      ],
      "text/plain": [
       "<IPython.core.display.Markdown object>"
      ]
     },
     "metadata": {},
     "output_type": "display_data"
    }
   ],
   "source": [
    "SchwarzschildRiemann.symbol = \"R\"\n",
    "~SchwarzschildRiemann"
   ]
  },
  {
   "cell_type": "code",
   "execution_count": 127,
   "metadata": {},
   "outputs": [
    {
     "data": {
      "text/markdown": [
       "$$\\begin{align*}\n",
       "    R{}^{t}{}_{r}{}_{t}{}_{r} &= \\frac{2 M}{r^{2} \\left(- 2 M + r\\right)} \\\\\n",
       "    R{}^{t}{}_{r}{}_{r}{}_{t} &= \\frac{2 M}{r^{2} \\left(2 M - r\\right)} \\\\\n",
       "    R{}^{t}{}_{\\theta}{}_{t}{}_{\\theta} = -R{}^{t}{}_{\\theta}{}_{\\theta}{}_{t} = R{}^{r}{}_{\\theta}{}_{r}{}_{\\theta} = -R{}^{r}{}_{\\theta}{}_{\\theta}{}_{r} &= - \\frac{M}{r} \\\\\n",
       "    R{}^{t}{}_{\\phi}{}_{t}{}_{\\phi} = -R{}^{t}{}_{\\phi}{}_{\\phi}{}_{t} = R{}^{r}{}_{\\phi}{}_{r}{}_{\\phi} = -R{}^{r}{}_{\\phi}{}_{\\phi}{}_{r} &= - \\frac{M \\sin^{2}{\\left(\\theta \\right)}}{r} \\\\\n",
       "    R{}^{r}{}_{t}{}_{t}{}_{r} &= \\frac{2 M \\left(- 2 M + r\\right)}{r^{4}} \\\\\n",
       "    R{}^{r}{}_{t}{}_{r}{}_{t} &= \\frac{2 M \\left(2 M - r\\right)}{r^{4}} \\\\\n",
       "    R{}^{\\theta}{}_{t}{}_{t}{}_{\\theta} = R{}^{\\phi}{}_{t}{}_{t}{}_{\\phi} &= \\frac{M \\left(2 M - r\\right)}{r^{4}} \\\\\n",
       "    R{}^{\\theta}{}_{t}{}_{\\theta}{}_{t} = R{}^{\\phi}{}_{t}{}_{\\phi}{}_{t} &= \\frac{M \\left(- 2 M + r\\right)}{r^{4}} \\\\\n",
       "    R{}^{\\theta}{}_{r}{}_{r}{}_{\\theta} = R{}^{\\phi}{}_{r}{}_{r}{}_{\\phi} &= \\frac{M}{r^{2} \\left(- 2 M + r\\right)} \\\\\n",
       "    R{}^{\\theta}{}_{r}{}_{\\theta}{}_{r} = R{}^{\\phi}{}_{r}{}_{\\phi}{}_{r} &= \\frac{M}{r^{2} \\left(2 M - r\\right)} \\\\\n",
       "    R{}^{\\theta}{}_{\\phi}{}_{\\theta}{}_{\\phi} = -R{}^{\\theta}{}_{\\phi}{}_{\\phi}{}_{\\theta} &= \\frac{2 M \\sin^{2}{\\left(\\theta \\right)}}{r} \\\\\n",
       "    R{}^{\\phi}{}_{\\theta}{}_{\\theta}{}_{\\phi} = -R{}^{\\phi}{}_{\\theta}{}_{\\phi}{}_{\\theta} &= - \\frac{2 M}{r} \n",
       "\\end{align*}$$"
      ],
      "text/plain": [
       "<IPython.core.display.Markdown object>"
      ]
     },
     "metadata": {},
     "output_type": "display_data"
    }
   ],
   "source": [
    "SchwarzschildRiemann = SchwarzschildRiemann.permute(old=[mu, rho, nu, sigma], new=[rho, sigma, mu, nu])\n",
    "~SchwarzschildRiemann"
   ]
  },
  {
   "cell_type": "code",
   "execution_count": 128,
   "metadata": {},
   "outputs": [
    {
     "data": {
      "text/markdown": [
       "$$\\begin{align*}\n",
       "    R{}^{t}{}_{r}{}_{t}{}_{r} = -R{}^{t}{}_{r}{}_{r}{}_{t} &= \\frac{2 M}{r^{2} \\left(- 2 M + r\\right)} \\\\\n",
       "    R{}^{t}{}_{\\theta}{}_{t}{}_{\\theta} = -R{}^{t}{}_{\\theta}{}_{\\theta}{}_{t} = R{}^{r}{}_{\\theta}{}_{r}{}_{\\theta} = -R{}^{r}{}_{\\theta}{}_{\\theta}{}_{r} &= - \\frac{M}{r} \\\\\n",
       "    R{}^{t}{}_{\\phi}{}_{t}{}_{\\phi} = -R{}^{t}{}_{\\phi}{}_{\\phi}{}_{t} = R{}^{r}{}_{\\phi}{}_{r}{}_{\\phi} = -R{}^{r}{}_{\\phi}{}_{\\phi}{}_{r} &= - \\frac{M \\sin^{2}{\\left(\\theta \\right)}}{r} \\\\\n",
       "    R{}^{r}{}_{t}{}_{t}{}_{r} = -R{}^{r}{}_{t}{}_{r}{}_{t} &= \\frac{2 M \\left(- 2 M + r\\right)}{r^{4}} \\\\\n",
       "    R{}^{\\theta}{}_{t}{}_{t}{}_{\\theta} = -R{}^{\\theta}{}_{t}{}_{\\theta}{}_{t} = R{}^{\\phi}{}_{t}{}_{t}{}_{\\phi} = -R{}^{\\phi}{}_{t}{}_{\\phi}{}_{t} &= \\frac{M \\left(2 M - r\\right)}{r^{4}} \\\\\n",
       "    R{}^{\\theta}{}_{r}{}_{r}{}_{\\theta} = -R{}^{\\theta}{}_{r}{}_{\\theta}{}_{r} = R{}^{\\phi}{}_{r}{}_{r}{}_{\\phi} = -R{}^{\\phi}{}_{r}{}_{\\phi}{}_{r} &= \\frac{M}{r^{2} \\left(- 2 M + r\\right)} \\\\\n",
       "    R{}^{\\theta}{}_{\\phi}{}_{\\theta}{}_{\\phi} = -R{}^{\\theta}{}_{\\phi}{}_{\\phi}{}_{\\theta} &= \\frac{2 M \\sin^{2}{\\left(\\theta \\right)}}{r} \\\\\n",
       "    R{}^{\\phi}{}_{\\theta}{}_{\\theta}{}_{\\phi} = -R{}^{\\phi}{}_{\\theta}{}_{\\phi}{}_{\\theta} &= - \\frac{2 M}{r} \n",
       "\\end{align*}$$"
      ],
      "text/plain": [
       "<IPython.core.display.Markdown object>"
      ]
     },
     "metadata": {},
     "output_type": "display_data"
    }
   ],
   "source": [
    "SchwarzschildRiemann.list(exact=True)"
   ]
  },
  {
   "cell_type": "code",
   "execution_count": 129,
   "metadata": {},
   "outputs": [
    {
     "data": {
      "text/markdown": [
       "$$\\begin{align*}\n",
       "    R{}_{t}{}_{r}{}_{t}{}_{r} = -R{}_{t}{}_{r}{}_{r}{}_{t} = -R{}_{r}{}_{t}{}_{t}{}_{r} = R{}_{r}{}_{t}{}_{r}{}_{t} &= - \\frac{2 M}{r^{3}} \\\\\n",
       "    R{}_{t}{}_{\\theta}{}_{t}{}_{\\theta} = -R{}_{t}{}_{\\theta}{}_{\\theta}{}_{t} = -R{}_{\\theta}{}_{t}{}_{t}{}_{\\theta} = R{}_{\\theta}{}_{t}{}_{\\theta}{}_{t} &= \\frac{M \\left(- 2 M + r\\right)}{r^{2}} \\\\\n",
       "    R{}_{t}{}_{\\phi}{}_{t}{}_{\\phi} = -R{}_{t}{}_{\\phi}{}_{\\phi}{}_{t} = -R{}_{\\phi}{}_{t}{}_{t}{}_{\\phi} = R{}_{\\phi}{}_{t}{}_{\\phi}{}_{t} &= \\frac{M \\left(- 2 M + r\\right) \\sin^{2}{\\left(\\theta \\right)}}{r^{2}} \\\\\n",
       "    R{}_{r}{}_{\\theta}{}_{r}{}_{\\theta} = -R{}_{r}{}_{\\theta}{}_{\\theta}{}_{r} = -R{}_{\\theta}{}_{r}{}_{r}{}_{\\theta} = R{}_{\\theta}{}_{r}{}_{\\theta}{}_{r} &= \\frac{M}{2 M - r} \\\\\n",
       "    R{}_{r}{}_{\\phi}{}_{r}{}_{\\phi} = -R{}_{r}{}_{\\phi}{}_{\\phi}{}_{r} = -R{}_{\\phi}{}_{r}{}_{r}{}_{\\phi} = R{}_{\\phi}{}_{r}{}_{\\phi}{}_{r} &= \\frac{M \\sin^{2}{\\left(\\theta \\right)}}{2 M - r} \\\\\n",
       "    R{}_{\\theta}{}_{\\phi}{}_{\\theta}{}_{\\phi} = -R{}_{\\theta}{}_{\\phi}{}_{\\phi}{}_{\\theta} = -R{}_{\\phi}{}_{\\theta}{}_{\\theta}{}_{\\phi} = R{}_{\\phi}{}_{\\theta}{}_{\\phi}{}_{\\theta} &= 2 M r \\sin^{2}{\\left(\\theta \\right)} \n",
       "\\end{align*}$$"
      ],
      "text/plain": [
       "<IPython.core.display.Markdown object>"
      ]
     },
     "metadata": {},
     "output_type": "display_data"
    }
   ],
   "source": [
    "SchwarzschildRiemann.list(indices=(-1, -1, -1, -1), exact=True)"
   ]
  },
  {
   "cell_type": "code",
   "execution_count": 130,
   "metadata": {},
   "outputs": [
    {
     "data": {
      "text/markdown": [
       "$$\\begin{align*}\n",
       "    R{}^{t}{}_{r}{}_{t}{}_{r} = -R{}^{t}{}_{r}{}_{r}{}_{t} = -R{}^{t}{}_{\\theta}{}_{t}{}_{\\theta} = -R{}^{t}{}_{\\theta}{}_{\\theta}{}_{t} = -R{}^{t}{}_{\\phi}{}_{t}{}_{\\phi} = -R{}^{t}{}_{\\phi}{}_{\\phi}{}_{t} = -R{}^{r}{}_{t}{}_{t}{}_{r} = -R{}^{r}{}_{t}{}_{r}{}_{t} = -R{}^{\\theta}{}_{t}{}_{t}{}_{\\theta} = -R{}^{\\theta}{}_{t}{}_{\\theta}{}_{t} = -R{}^{\\phi}{}_{t}{}_{t}{}_{\\phi} = -R{}^{\\phi}{}_{t}{}_{\\phi}{}_{t} &= a \\frac{\\mathrm{d}}{\\mathrm{d} t} \\partial_{t} a \\\\\n",
       "    R{}^{r}{}_{\\theta}{}_{r}{}_{\\theta} = -R{}^{r}{}_{\\theta}{}_{\\theta}{}_{r} = -R{}^{\\phi}{}_{\\theta}{}_{\\theta}{}_{\\phi} = R{}^{\\phi}{}_{\\theta}{}_{\\phi}{}_{\\theta} &= \\partial_{t} a^{2} r^{2} \\\\\n",
       "    R{}^{r}{}_{\\phi}{}_{r}{}_{\\phi} = -R{}^{r}{}_{\\phi}{}_{\\phi}{}_{r} = R{}^{\\theta}{}_{\\phi}{}_{\\theta}{}_{\\phi} = -R{}^{\\theta}{}_{\\phi}{}_{\\phi}{}_{\\theta} &= \\partial_{t} a^{2} r^{2} \\sin^{2}{\\left(\\theta \\right)} \\\\\n",
       "    R{}^{\\theta}{}_{r}{}_{r}{}_{\\theta} = -R{}^{\\theta}{}_{r}{}_{\\theta}{}_{r} = R{}^{\\phi}{}_{r}{}_{r}{}_{\\phi} = -R{}^{\\phi}{}_{r}{}_{\\phi}{}_{r} &= - \\partial_{t} a^{2} \n",
       "\\end{align*}$$"
      ],
      "text/plain": [
       "<IPython.core.display.Markdown object>"
      ]
     },
     "metadata": {},
     "output_type": "display_data"
    }
   ],
   "source": [
    "FLRW.riemann().list(exact=True)"
   ]
  },
  {
   "cell_type": "code",
   "execution_count": 131,
   "metadata": {},
   "outputs": [
    {
     "data": {
      "text/markdown": [
       "$$\\begin{align*}\n",
       "    \\Gamma{}^{t}{}_{r}{}_{r} &= \\partial_{t} a a \\\\\n",
       "    \\Gamma{}^{t}{}_{\\theta}{}_{\\theta} &= \\partial_{t} a a r^{2} \\\\\n",
       "    \\Gamma{}^{t}{}_{\\phi}{}_{\\phi} &= \\partial_{t} a a r^{2} \\sin^{2}{\\left(\\theta \\right)} \\\\\n",
       "    \\Gamma{}^{r}{}_{t}{}_{r} = \\Gamma{}^{r}{}_{r}{}_{t} = \\Gamma{}^{\\theta}{}_{t}{}_{\\theta} = \\Gamma{}^{\\theta}{}_{\\theta}{}_{t} = \\Gamma{}^{\\phi}{}_{t}{}_{\\phi} = \\Gamma{}^{\\phi}{}_{\\phi}{}_{t} &= \\frac{\\partial_{t} a}{a} \\\\\n",
       "    \\Gamma{}^{r}{}_{\\theta}{}_{\\theta} &= - r \\\\\n",
       "    \\Gamma{}^{r}{}_{\\phi}{}_{\\phi} &= - r \\sin^{2}{\\left(\\theta \\right)} \\\\\n",
       "    \\Gamma{}^{\\theta}{}_{r}{}_{\\theta} = \\Gamma{}^{\\theta}{}_{\\theta}{}_{r} = \\Gamma{}^{\\phi}{}_{r}{}_{\\phi} = \\Gamma{}^{\\phi}{}_{\\phi}{}_{r} &= \\frac{1}{r} \\\\\n",
       "    \\Gamma{}^{\\theta}{}_{\\phi}{}_{\\phi} &= - \\frac{\\sin{\\left(2 \\theta \\right)}}{2} \\\\\n",
       "    \\Gamma{}^{\\phi}{}_{\\theta}{}_{\\phi} = \\Gamma{}^{\\phi}{}_{\\phi}{}_{\\theta} &= \\frac{1}{\\tan{\\left(\\theta \\right)}} \n",
       "\\end{align*}$$"
      ],
      "text/plain": [
       "<IPython.core.display.Markdown object>"
      ]
     },
     "metadata": {},
     "output_type": "display_data"
    }
   ],
   "source": [
    "~FLRW.christoffel()"
   ]
  },
  {
   "cell_type": "markdown",
   "metadata": {},
   "source": [
    "The Krestschmann Scalar"
   ]
  },
  {
   "cell_type": "code",
   "execution_count": 132,
   "metadata": {},
   "outputs": [
    {
     "data": {
      "text/markdown": [
       "$$R{}_{\\mu}{}_{\\nu}{}_{\\rho}{}_{\\sigma} R{}^{\\mu}{}^{\\nu}{}^{\\rho}{}^{\\sigma}\\Bigg|_{\\left(t, r, \\theta, \\phi\\right)} = \\frac{48 M^{2}}{r^{6}}$$"
      ],
      "text/plain": [
       "<OGRePy._core.Tensor at 0x10c71d620>"
      ]
     },
     "execution_count": 132,
     "metadata": {},
     "output_type": "execute_result"
    }
   ],
   "source": [
    "Schwarzschild.riemann(rho, sigma, mu, nu) @ Schwarzschild.riemann(rho, sigma, mu, nu)"
   ]
  },
  {
   "cell_type": "markdown",
   "metadata": {},
   "source": [
    "# Ricci tensor and scalar"
   ]
  },
  {
   "cell_type": "code",
   "execution_count": 133,
   "metadata": {},
   "outputs": [
    {
     "data": {
      "text/markdown": [
       "$$\\text{No non-zero elements.}$$"
      ],
      "text/plain": [
       "<IPython.core.display.Markdown object>"
      ]
     },
     "metadata": {},
     "output_type": "display_data"
    }
   ],
   "source": [
    "~Schwarzschild.riemann(lamda, mu, lamda, nu)"
   ]
  },
  {
   "cell_type": "code",
   "execution_count": 134,
   "metadata": {},
   "outputs": [
    {
     "data": {
      "text/markdown": [
       "$$\\begin{align*}\n",
       "    R{}_{t}{}_{t} &= - \\frac{3 \\frac{\\mathrm{d}}{\\mathrm{d} t} \\partial_{t} a}{a} \\\\\n",
       "    R{}_{r}{}_{r} &= 2 \\partial_{t} a^{2} + a \\frac{\\mathrm{d}}{\\mathrm{d} t} \\partial_{t} a \\\\\n",
       "    R{}_{\\theta}{}_{\\theta} &= r^{2} \\left(2 \\partial_{t} a^{2} + a \\frac{\\mathrm{d}}{\\mathrm{d} t} \\partial_{t} a\\right) \\\\\n",
       "    R{}_{\\phi}{}_{\\phi} &= r^{2} \\left(2 \\partial_{t} a^{2} + a \\frac{\\mathrm{d}}{\\mathrm{d} t} \\partial_{t} a\\right) \\sin^{2}{\\left(\\theta \\right)} \n",
       "\\end{align*}$$"
      ],
      "text/plain": [
       "<IPython.core.display.Markdown object>"
      ]
     },
     "metadata": {},
     "output_type": "display_data"
    }
   ],
   "source": [
    "~FLRW.ricci_tensor()"
   ]
  },
  {
   "cell_type": "code",
   "execution_count": 135,
   "metadata": {},
   "outputs": [
    {
     "data": {
      "text/markdown": [
       "$$R{}_{\\mu}{}^{\\mu}\\Bigg|_{\\left(t, r, \\theta, \\phi\\right)} = \\frac{6 \\left(\\partial_{t} a^{2} + a \\frac{\\mathrm{d}}{\\mathrm{d} t} \\partial_{t} a\\right)}{a^{2}}$$"
      ],
      "text/plain": [
       "<OGRePy._core.Tensor at 0x10beb0360>"
      ]
     },
     "execution_count": 135,
     "metadata": {},
     "output_type": "execute_result"
    }
   ],
   "source": [
    "FLRW.ricci_tensor(mu, mu)"
   ]
  },
  {
   "cell_type": "code",
   "execution_count": 136,
   "metadata": {},
   "outputs": [
    {
     "data": {
      "text/markdown": [
       "$$R\\Bigg|_{\\left(t, r, \\theta, \\phi\\right)} = \\frac{6 \\left(\\partial_{t} a^{2} + a \\frac{\\mathrm{d}}{\\mathrm{d} t} \\partial_{t} a\\right)}{a^{2}}$$"
      ],
      "text/plain": [
       "<OGRePy._core.RicciScalar at 0x10b8cf4d0>"
      ]
     },
     "execution_count": 136,
     "metadata": {},
     "output_type": "execute_result"
    }
   ],
   "source": [
    "FLRW.ricci_scalar()"
   ]
  },
  {
   "cell_type": "markdown",
   "metadata": {},
   "source": [
    "# The Einstein Tensor"
   ]
  },
  {
   "cell_type": "code",
   "execution_count": 137,
   "metadata": {},
   "outputs": [
    {
     "data": {
      "text/markdown": [
       "$$\\begin{align*}\n",
       "    R{}_{t}{}_{t} - \\frac{1}{2} R g{}_{t}{}_{t} &= \\frac{3 \\partial_{t} a^{2}}{a^{2}} \\\\\n",
       "    R{}_{r}{}_{r} - \\frac{1}{2} R g{}_{r}{}_{r} &= - \\partial_{t} a^{2} - 2 a \\frac{\\mathrm{d}}{\\mathrm{d} t} \\partial_{t} a \\\\\n",
       "    R{}_{\\theta}{}_{\\theta} - \\frac{1}{2} R g{}_{\\theta}{}_{\\theta} &= r^{2} \\left(- \\partial_{t} a^{2} - 2 a \\frac{\\mathrm{d}}{\\mathrm{d} t} \\partial_{t} a\\right) \\\\\n",
       "    R{}_{\\phi}{}_{\\phi} - \\frac{1}{2} R g{}_{\\phi}{}_{\\phi} &= r^{2} \\left(- \\partial_{t} a^{2} - 2 a \\frac{\\mathrm{d}}{\\mathrm{d} t} \\partial_{t} a\\right) \\sin^{2}{\\left(\\theta \\right)} \n",
       "\\end{align*}$$"
      ],
      "text/plain": [
       "<IPython.core.display.Markdown object>"
      ]
     },
     "metadata": {},
     "output_type": "display_data"
    }
   ],
   "source": [
    "~(FLRW.ricci_tensor(mu, nu) - gr.s.Rational(1, 2) * FLRW.ricci_scalar() @ FLRW(mu, nu))"
   ]
  },
  {
   "cell_type": "code",
   "execution_count": 138,
   "metadata": {},
   "outputs": [
    {
     "data": {
      "text/markdown": [
       "$$\\begin{align*}\n",
       "    G{}_{t}{}_{t} &= \\frac{3 \\partial_{t} a^{2}}{a^{2}} \\\\\n",
       "    G{}_{r}{}_{r} &= - \\partial_{t} a^{2} - 2 a \\frac{\\mathrm{d}}{\\mathrm{d} t} \\partial_{t} a \\\\\n",
       "    G{}_{\\theta}{}_{\\theta} &= r^{2} \\left(- \\partial_{t} a^{2} - 2 a \\frac{\\mathrm{d}}{\\mathrm{d} t} \\partial_{t} a\\right) \\\\\n",
       "    G{}_{\\phi}{}_{\\phi} &= r^{2} \\left(- \\partial_{t} a^{2} - 2 a \\frac{\\mathrm{d}}{\\mathrm{d} t} \\partial_{t} a\\right) \\sin^{2}{\\left(\\theta \\right)} \n",
       "\\end{align*}$$"
      ],
      "text/plain": [
       "<IPython.core.display.Markdown object>"
      ]
     },
     "metadata": {},
     "output_type": "display_data"
    }
   ],
   "source": [
    "~FLRW.einstein()"
   ]
  },
  {
   "cell_type": "markdown",
   "metadata": {},
   "source": [
    "# Covariant Derivatives"
   ]
  },
  {
   "cell_type": "code",
   "execution_count": 139,
   "metadata": {},
   "outputs": [
    {
     "data": {
      "text/markdown": [
       "$$\\text{No non-zero elements.}$$"
      ],
      "text/plain": [
       "<IPython.core.display.Markdown object>"
      ]
     },
     "metadata": {},
     "output_type": "display_data"
    }
   ],
   "source": [
    "from OGRePy.abc import alpha, beta\n",
    "\n",
    "~(gr.PartialD(mu) @ Schwarzschild(alpha, beta) - Schwarzschild.christoffel(lamda, mu, alpha) @ Schwarzschild(lamda, beta) - Schwarzschild.christoffel(lamda, mu, beta) @ Schwarzschild(alpha, lamda))"
   ]
  },
  {
   "cell_type": "code",
   "execution_count": 140,
   "metadata": {},
   "outputs": [
    {
     "data": {
      "text/markdown": [
       "$$\\text{No non-zero elements.}$$"
      ],
      "text/plain": [
       "<IPython.core.display.Markdown object>"
      ]
     },
     "metadata": {},
     "output_type": "display_data"
    }
   ],
   "source": [
    "~(gr.CovariantD(mu) @ FLRW(mu, nu))"
   ]
  },
  {
   "cell_type": "code",
   "execution_count": 141,
   "metadata": {},
   "outputs": [
    {
     "data": {
      "text/markdown": [
       "$$\\text{No non-zero elements.}$$"
      ],
      "text/plain": [
       "<IPython.core.display.Markdown object>"
      ]
     },
     "metadata": {},
     "output_type": "display_data"
    }
   ],
   "source": [
    "~(gr.CovariantD(mu) @ FLRW.einstein(mu, nu))"
   ]
  },
  {
   "cell_type": "code",
   "execution_count": 142,
   "metadata": {},
   "outputs": [
    {
     "data": {
      "text/markdown": [
       "$$u{}^{\\mu}\\Bigg|_{\\left(t, r, \\theta, \\phi\\right)} = \\left(\\begin{matrix}1\\\\0\\\\0\\\\0\\end{matrix}\\right)$$"
      ],
      "text/plain": [
       "<IPython.core.display.Markdown object>"
      ]
     },
     "metadata": {},
     "output_type": "display_data"
    }
   ],
   "source": [
    "RestVelocity = gr.Tensor(metric=FLRW,\n",
    "                coords=Spherical, \n",
    "                indices=(1,), \n",
    "                components=[1, 0, 0, 0], \n",
    "                symbol=\"u\")\n",
    "\n",
    "RestVelocity.show()"
   ]
  },
  {
   "cell_type": "code",
   "execution_count": 143,
   "metadata": {},
   "outputs": [
    {
     "data": {
      "text/markdown": [
       "$$T{}^{\\mu}{}^{\\nu}\\Bigg|_{\\left(t, r, \\theta, \\phi\\right)} = \\left(\\begin{matrix}\\rho{\\left(t,r,\\theta,\\phi \\right)} & 0 & 0 & 0\\\\0 & \\frac{p}{a^{2}} & 0 & 0\\\\0 & 0 & \\frac{p}{a^{2} r^{2}} & 0\\\\0 & 0 & 0 & \\frac{p}{a^{2} r^{2} \\sin^{2}{\\left(\\theta \\right)}}\\end{matrix}\\right)$$"
      ],
      "text/plain": [
       "<IPython.core.display.Markdown object>"
      ]
     },
     "metadata": {},
     "output_type": "display_data"
    }
   ],
   "source": [
    "rho_t_r_t_p = gr.func(\"rho\")(t, r, theta, phi)\n",
    "p_t_r_t_p = gr.func(\"p\")(t, r, theta, phi)\n",
    "PerfectFluidFLRW = gr.calc(\n",
    "    formula=(rho_t_r_t_p + p_t_r_t_p) * RestVelocity(mu) @ RestVelocity(nu) + p_t_r_t_p * FLRW(mu, nu),\n",
    "    symbol=\"T\",\n",
    ")\n",
    "\n",
    "PerfectFluidFLRW.show()"
   ]
  },
  {
   "cell_type": "code",
   "execution_count": 144,
   "metadata": {},
   "outputs": [
    {
     "data": {
      "text/markdown": [
       "$$\\begin{align*}\n",
       "    \\nabla{}_{\\mu} T{}^{\\mu}{}^{t} &= \\frac{\\partial_{t} \\rho{\\left(t,r,\\theta,\\phi \\right)} a + 3 \\partial_{t} a \\left(p + \\rho{\\left(t,r,\\theta,\\phi \\right)}\\right)}{a} \\\\\n",
       "    \\nabla{}_{\\mu} T{}^{\\mu}{}^{r} &= \\frac{\\partial_{r} p}{a^{2}} \\\\\n",
       "    \\nabla{}_{\\mu} T{}^{\\mu}{}^{\\theta} &= \\frac{\\partial_{\\theta} p}{a^{2} r^{2}} \\\\\n",
       "    \\nabla{}_{\\mu} T{}^{\\mu}{}^{\\phi} &= \\frac{\\partial_{\\phi} p}{a^{2} r^{2} \\sin^{2}{\\left(\\theta \\right)}} \n",
       "\\end{align*}$$"
      ],
      "text/plain": [
       "<IPython.core.display.Markdown object>"
      ]
     },
     "metadata": {},
     "output_type": "display_data"
    }
   ],
   "source": [
    "~(gr.CovariantD(mu) @ PerfectFluidFLRW(mu, nu))"
   ]
  },
  {
   "cell_type": "markdown",
   "metadata": {},
   "source": [
    "# Curves and geodesics"
   ]
  },
  {
   "cell_type": "code",
   "execution_count": 145,
   "metadata": {},
   "outputs": [
    {
     "data": {
      "text/markdown": [
       "$$L\\Bigg|_{\\left(t, x, y, z\\right)} = - \\dot{t}^{2} + \\dot{x}^{2} + \\dot{y}^{2} + \\dot{z}^{2}$$"
      ],
      "text/plain": [
       "<OGRePy._core.Lagrangian at 0x10bf902f0>"
      ]
     },
     "execution_count": 145,
     "metadata": {},
     "output_type": "execute_result"
    }
   ],
   "source": [
    "Minkowski.lagrangian()"
   ]
  },
  {
   "cell_type": "code",
   "execution_count": 146,
   "metadata": {},
   "outputs": [
    {
     "data": {
      "text/markdown": [
       "$$L\\Bigg|_{\\left(t, r, \\theta, \\phi\\right)} = \\frac{- \\dot{r}^{2} r^{2} + \\dot{t}^{2} \\left(2 M - r\\right)^{2} + r^{3} \\left(2 M - r\\right) \\left(\\dot{\\phi}^{2} \\sin^{2}{\\left(\\theta \\right)} + \\dot{\\theta}^{2}\\right)}{r \\left(2 M - r\\right)}$$"
      ],
      "text/plain": [
       "<OGRePy._core.Lagrangian at 0x10bf906b0>"
      ]
     },
     "execution_count": 146,
     "metadata": {},
     "output_type": "execute_result"
    }
   ],
   "source": [
    "Schwarzschild.lagrangian()"
   ]
  },
  {
   "cell_type": "code",
   "execution_count": 147,
   "metadata": {},
   "outputs": [
    {
     "data": {
      "text/markdown": [
       "$$L\\Bigg|_{\\left(t, r, \\theta, \\phi\\right)} = \\dot{\\phi}^{2} a^{2} r^{2} \\sin^{2}{\\left(\\theta \\right)} + \\dot{\\theta}^{2} a^{2} r^{2} + \\dot{r}^{2} a^{2} - \\dot{t}^{2}$$"
      ],
      "text/plain": [
       "<OGRePy._core.Lagrangian at 0x10c17d970>"
      ]
     },
     "execution_count": 147,
     "metadata": {},
     "output_type": "execute_result"
    }
   ],
   "source": [
    "FLRW.lagrangian()"
   ]
  },
  {
   "cell_type": "code",
   "execution_count": 148,
   "metadata": {},
   "outputs": [
    {
     "data": {
      "text/markdown": [
       "$$L\\Bigg|_{\\left(t, x, y, z\\right)} = \\dot{t}^{2} \\left(f^{2} v^{2} - 1\\right) - 2 \\dot{t} \\dot{z} f v + \\dot{x}^{2} + \\dot{y}^{2} + \\dot{z}^{2}$$"
      ],
      "text/plain": [
       "<OGRePy._core.Lagrangian at 0x10bfb8530>"
      ]
     },
     "execution_count": 148,
     "metadata": {},
     "output_type": "execute_result"
    }
   ],
   "source": [
    "Alcubierre.lagrangian()"
   ]
  },
  {
   "cell_type": "code",
   "execution_count": 149,
   "metadata": {},
   "outputs": [
    {
     "data": {
      "text/markdown": [
       "**OGRePy**: Using default coordinate system `Cartesian` and default index configuration ()."
      ],
      "text/plain": [
       "<IPython.core.display.Markdown object>"
      ]
     },
     "metadata": {},
     "output_type": "display_data"
    },
    {
     "data": {
      "text/latex": [
       "$\\displaystyle \\left[\\begin{matrix}- \\left(\\frac{d}{d \\lambda} t{\\left(\\lambda \\right)}\\right)^{2} + \\left(\\frac{d}{d \\lambda} x{\\left(\\lambda \\right)}\\right)^{2} + \\left(\\frac{d}{d \\lambda} y{\\left(\\lambda \\right)}\\right)^{2} + \\left(\\frac{d}{d \\lambda} z{\\left(\\lambda \\right)}\\right)^{2}\\end{matrix}\\right]$"
      ],
      "text/plain": [
       "[-Derivative(t(\\lambda), \\lambda)**2 + Derivative(x(\\lambda), \\lambda)**2 + Derivative(y(\\lambda), \\lambda)**2 + Derivative(z(\\lambda), \\lambda)**2]"
      ]
     },
     "execution_count": 149,
     "metadata": {},
     "output_type": "execute_result"
    }
   ],
   "source": [
    "Minkowski.lagrangian().components()"
   ]
  },
  {
   "cell_type": "code",
   "execution_count": 150,
   "metadata": {},
   "outputs": [
    {
     "data": {
      "text/markdown": [
       "$$\\begin{align*}\n",
       "    0{}^{t} &= - \\partial_{\\lambda} \\left(- \\dot{t}\\right) \\\\\n",
       "    0{}^{x} &= - \\ddot{x} \\\\\n",
       "    0{}^{y} &= - \\ddot{y} \\\\\n",
       "    0{}^{z} &= - \\ddot{z} \n",
       "\\end{align*}$$"
      ],
      "text/plain": [
       "<IPython.core.display.Markdown object>"
      ]
     },
     "metadata": {},
     "output_type": "display_data"
    }
   ],
   "source": [
    "~Minkowski.geodesic_from_lagrangian()"
   ]
  },
  {
   "cell_type": "code",
   "execution_count": 151,
   "metadata": {},
   "outputs": [
    {
     "data": {
      "text/markdown": [
       "$$\\begin{align*}\n",
       "    0{}^{t} &= \\ddot{t} \\\\\n",
       "    0{}^{x} &= - \\ddot{x} \\\\\n",
       "    0{}^{y} &= - \\ddot{y} \\\\\n",
       "    0{}^{z} &= - \\ddot{z} \n",
       "\\end{align*}$$"
      ],
      "text/plain": [
       "<IPython.core.display.Markdown object>"
      ]
     },
     "metadata": {},
     "output_type": "display_data"
    }
   ],
   "source": [
    "Minkowski.geodesic_from_lagrangian().list(function=lambda x: x.doit())"
   ]
  },
  {
   "cell_type": "code",
   "execution_count": 152,
   "metadata": {},
   "outputs": [
    {
     "data": {
      "text/markdown": [
       "**OGRePy**: Using default coordinate system `Cartesian` and default index configuration (1,)."
      ],
      "text/plain": [
       "<IPython.core.display.Markdown object>"
      ]
     },
     "metadata": {},
     "output_type": "display_data"
    },
    {
     "data": {
      "text/latex": [
       "$\\displaystyle \\left[\\begin{matrix}\\frac{d^{2}}{d \\lambda^{2}} t{\\left(\\lambda \\right)} & - \\frac{d^{2}}{d \\lambda^{2}} x{\\left(\\lambda \\right)} & - \\frac{d^{2}}{d \\lambda^{2}} y{\\left(\\lambda \\right)} & - \\frac{d^{2}}{d \\lambda^{2}} z{\\left(\\lambda \\right)}\\end{matrix}\\right]$"
      ],
      "text/plain": [
       "[Derivative(t(\\lambda), (\\lambda, 2)), -Derivative(x(\\lambda), (\\lambda, 2)), -Derivative(y(\\lambda), (\\lambda, 2)), -Derivative(z(\\lambda), (\\lambda, 2))]"
      ]
     },
     "execution_count": 152,
     "metadata": {},
     "output_type": "execute_result"
    }
   ],
   "source": [
    "Minkowski.geodesic_from_lagrangian().components().doit()"
   ]
  },
  {
   "cell_type": "code",
   "execution_count": 153,
   "metadata": {},
   "outputs": [
    {
     "data": {
      "text/markdown": [
       "**OGRePy**: Using default coordinate system `Cartesian` and default index configuration (1,)."
      ],
      "text/plain": [
       "<IPython.core.display.Markdown object>"
      ]
     },
     "metadata": {},
     "output_type": "display_data"
    },
    {
     "data": {
      "text/latex": [
       "$\\displaystyle \\left[\\begin{matrix}t{\\left(\\lambda \\right)} = C_{1} + C_{2} \\lambda & x{\\left(\\lambda \\right)} = C_{3} + C_{4} \\lambda & y{\\left(\\lambda \\right)} = C_{5} + C_{6} \\lambda & z{\\left(\\lambda \\right)} = C_{7} + C_{8} \\lambda\\end{matrix}\\right]$"
      ],
      "text/plain": [
       "[Eq(t(\\lambda), C1 + C2*\\lambda), Eq(x(\\lambda), C3 + C4*\\lambda), Eq(y(\\lambda), C5 + C6*\\lambda), Eq(z(\\lambda), C7 + C8*\\lambda)]"
      ]
     },
     "execution_count": 153,
     "metadata": {},
     "output_type": "execute_result"
    }
   ],
   "source": [
    "gr.s.Array(gr.s.dsolve(Minkowski.geodesic_from_lagrangian().components().doit()))"
   ]
  },
  {
   "cell_type": "code",
   "execution_count": 154,
   "metadata": {},
   "outputs": [
    {
     "data": {
      "text/markdown": [
       "$$\\begin{align*}\n",
       "    0{}^{t} &= - \\partial_{\\lambda} \\left(\\frac{\\dot{t} \\left(2 M - r\\right)}{r}\\right) \\\\\n",
       "    0{}^{r} &= \\frac{- 4 M^{3} \\dot{t}^{2} + 4 M^{2} \\dot{\\phi}^{2} r^{3} \\sin^{2}{\\left(\\theta \\right)} + 4 M^{2} \\dot{\\theta}^{2} r^{3} + 4 M^{2} \\dot{t}^{2} r - 4 M^{2} \\partial_{\\lambda} \\left(- \\frac{\\dot{r} r}{2 M - r}\\right) r^{2} - 4 M \\dot{\\phi}^{2} r^{4} \\sin^{2}{\\left(\\theta \\right)} - 4 M \\dot{\\theta}^{2} r^{4} - M \\dot{r}^{2} r^{2} - M \\dot{t}^{2} r^{2} + 4 M \\partial_{\\lambda} \\left(- \\frac{\\dot{r} r}{2 M - r}\\right) r^{3} + \\dot{\\phi}^{2} r^{5} \\sin^{2}{\\left(\\theta \\right)} + \\dot{\\theta}^{2} r^{5} - \\partial_{\\lambda} \\left(- \\frac{\\dot{r} r}{2 M - r}\\right) r^{4}}{r^{2} \\left(4 M^{2} - 4 M r + r^{2}\\right)} \\\\\n",
       "    0{}^{\\theta} &= \\frac{\\dot{\\phi}^{2} r^{2} \\sin{\\left(2 \\theta \\right)}}{2} - \\partial_{\\lambda} \\left(\\dot{\\theta} r^{2}\\right) \\\\\n",
       "    0{}^{\\phi} &= - \\partial_{\\lambda} \\left(\\dot{\\phi} r^{2} \\sin^{2}{\\left(\\theta \\right)}\\right) \n",
       "\\end{align*}$$"
      ],
      "text/plain": [
       "<IPython.core.display.Markdown object>"
      ]
     },
     "metadata": {},
     "output_type": "display_data"
    }
   ],
   "source": [
    "~Schwarzschild.geodesic_from_lagrangian()"
   ]
  },
  {
   "cell_type": "code",
   "execution_count": 155,
   "metadata": {},
   "outputs": [
    {
     "data": {
      "text/markdown": [
       "$$\\begin{align*}\n",
       "    0{}^{t} &= \\dot{\\phi}^{2} \\partial_{t} a a r^{2} \\sin^{2}{\\left(\\theta \\right)} + \\dot{\\theta}^{2} \\partial_{t} a a r^{2} + \\dot{r}^{2} \\partial_{t} a a - \\partial_{\\lambda} \\left(- \\dot{t}\\right) \\\\\n",
       "    0{}^{r} &= \\dot{\\phi}^{2} a^{2} r \\sin^{2}{\\left(\\theta \\right)} + \\dot{\\theta}^{2} a^{2} r - \\partial_{\\lambda} \\left(\\dot{r} a^{2}\\right) \\\\\n",
       "    0{}^{\\theta} &= \\frac{\\dot{\\phi}^{2} a^{2} r^{2} \\sin{\\left(2 \\theta \\right)}}{2} - \\partial_{\\lambda} \\left(\\dot{\\theta} a^{2} r^{2}\\right) \\\\\n",
       "    0{}^{\\phi} &= - \\partial_{\\lambda} \\left(\\dot{\\phi} a^{2} r^{2} \\sin^{2}{\\left(\\theta \\right)}\\right) \n",
       "\\end{align*}$$"
      ],
      "text/plain": [
       "<IPython.core.display.Markdown object>"
      ]
     },
     "metadata": {},
     "output_type": "display_data"
    }
   ],
   "source": [
    "~FLRW.geodesic_from_lagrangian()"
   ]
  },
  {
   "cell_type": "code",
   "execution_count": 156,
   "metadata": {},
   "outputs": [
    {
     "data": {
      "text/markdown": [
       "$$\\begin{align*}\n",
       "    0{}^{t} &= \\dot{t}^{2} f v \\left(\\partial_{t} f v + \\partial_{t} v f\\right) - \\dot{t} \\dot{z} \\partial_{t} f v - \\dot{t} \\dot{z} \\partial_{t} v f - \\partial_{\\lambda} \\left(\\dot{t} \\left(f^{2} v^{2} - 1\\right) - \\dot{z} f v\\right) \\\\\n",
       "    0{}^{x} &= - \\ddot{x} + \\dot{t}^{2} \\partial_{x} f f v^{2} - \\dot{t} \\dot{z} \\partial_{x} f v \\\\\n",
       "    0{}^{y} &= - \\ddot{y} + \\dot{t}^{2} \\partial_{y} f f v^{2} - \\dot{t} \\dot{z} \\partial_{y} f v \\\\\n",
       "    0{}^{z} &= \\dot{t}^{2} \\partial_{z} f f v^{2} - \\dot{t} \\dot{z} \\partial_{z} f v - \\partial_{\\lambda} \\left(- \\dot{t} f v + \\dot{z}\\right) \n",
       "\\end{align*}$$"
      ],
      "text/plain": [
       "<IPython.core.display.Markdown object>"
      ]
     },
     "metadata": {},
     "output_type": "display_data"
    }
   ],
   "source": [
    "~Alcubierre.geodesic_from_lagrangian()"
   ]
  },
  {
   "cell_type": "code",
   "execution_count": 157,
   "metadata": {},
   "outputs": [
    {
     "data": {
      "text/plain": [
       "[t(\\lambda), x(\\lambda), y(\\lambda), z(\\lambda)]"
      ]
     },
     "execution_count": 157,
     "metadata": {},
     "output_type": "execute_result"
    }
   ],
   "source": [
    "Cartesian.of_param()"
   ]
  },
  {
   "cell_type": "code",
   "execution_count": 158,
   "metadata": {},
   "outputs": [],
   "source": [
    "param = Cartesian.of_param_dict()"
   ]
  },
  {
   "cell_type": "code",
   "execution_count": 159,
   "metadata": {},
   "outputs": [
    {
     "data": {
      "text/plain": [
       "[Derivative(t(\\lambda), \\lambda),\n",
       " Derivative(x(\\lambda), \\lambda),\n",
       " Derivative(y(\\lambda), \\lambda),\n",
       " Derivative(z(\\lambda), \\lambda)]"
      ]
     },
     "execution_count": 159,
     "metadata": {},
     "output_type": "execute_result"
    }
   ],
   "source": [
    "Cartesian.of_param_dot()"
   ]
  },
  {
   "cell_type": "code",
   "execution_count": 167,
   "metadata": {},
   "outputs": [],
   "source": [
    "dot = Cartesian.of_param_dot_dict()"
   ]
  },
  {
   "cell_type": "code",
   "execution_count": 168,
   "metadata": {},
   "outputs": [
    {
     "data": {
      "text/latex": [
       "$\\displaystyle v{\\left(t{\\left(\\lambda \\right)} \\right)}$"
      ],
      "text/plain": [
       "v(t(\\lambda))"
      ]
     },
     "metadata": {},
     "output_type": "display_data"
    },
    {
     "data": {
      "text/latex": [
       "$\\displaystyle f{\\left(t{\\left(\\lambda \\right)},x{\\left(\\lambda \\right)},y{\\left(\\lambda \\right)},z{\\left(\\lambda \\right)} \\right)}$"
      ],
      "text/plain": [
       "f(t(\\lambda), x(\\lambda), y(\\lambda), z(\\lambda))"
      ]
     },
     "metadata": {},
     "output_type": "display_data"
    }
   ],
   "source": [
    "display(v_t.subs(param))\n",
    "display(f_t_x_y_z.subs(param))"
   ]
  },
  {
   "cell_type": "code",
   "execution_count": 169,
   "metadata": {},
   "outputs": [
    {
     "data": {
      "text/plain": [
       "{Derivative(t(\\lambda), \\lambda): 1,\n",
       " Derivative(x(\\lambda), \\lambda): 0,\n",
       " Derivative(y(\\lambda), \\lambda): 0,\n",
       " Derivative(z(\\lambda), \\lambda): f(t(\\lambda), x(\\lambda), y(\\lambda), z(\\lambda))*v(t(\\lambda))}"
      ]
     },
     "metadata": {},
     "output_type": "display_data"
    }
   ],
   "source": [
    "solution = {dot[t]: 1, dot[x]: 0, dot[y]: 0, dot[z]: v_t.subs(param) * f_t_x_y_z.subs(param)}\n",
    "\n",
    "display(solution)"
   ]
  },
  {
   "cell_type": "code",
   "execution_count": 170,
   "metadata": {},
   "outputs": [
    {
     "data": {
      "text/markdown": [
       "$$\\text{No non-zero elements.}$$"
      ],
      "text/plain": [
       "<IPython.core.display.Markdown object>"
      ]
     },
     "metadata": {},
     "output_type": "display_data"
    }
   ],
   "source": [
    "Alcubierre.geodesic_from_lagrangian().list(replace=solution, simplify=True)"
   ]
  },
  {
   "cell_type": "markdown",
   "metadata": {},
   "source": [
    "# Geodesic from the chirstoffel symbols"
   ]
  },
  {
   "cell_type": "code",
   "execution_count": 171,
   "metadata": {},
   "outputs": [
    {
     "data": {
      "text/markdown": [
       "$$\\begin{align*}\n",
       "    0{}^{t} &= \\ddot{t} \\\\\n",
       "    0{}^{x} &= \\ddot{x} \\\\\n",
       "    0{}^{y} &= \\ddot{y} \\\\\n",
       "    0{}^{z} &= \\ddot{z} \n",
       "\\end{align*}$$"
      ],
      "text/plain": [
       "<IPython.core.display.Markdown object>"
      ]
     },
     "metadata": {},
     "output_type": "display_data"
    },
    {
     "data": {
      "text/markdown": [
       "$$\\begin{align*}\n",
       "    0{}^{t} &= \\frac{- 2 M \\dot{r} \\dot{t} + \\ddot{t} r \\left(2 M - r\\right)}{r \\left(2 M - r\\right)} \\\\\n",
       "    0{}^{r} &= \\frac{M \\dot{r}^{2} r^{2} - M \\dot{t}^{2} \\left(2 M - r\\right)^{2} + r^{3} \\left(2 M - r\\right) \\left(\\ddot{r} + \\dot{\\phi}^{2} \\left(2 M - r\\right) \\sin^{2}{\\left(\\theta \\right)} + \\dot{\\theta}^{2} \\left(2 M - r\\right)\\right)}{r^{3} \\left(2 M - r\\right)} \\\\\n",
       "    0{}^{\\theta} &= \\ddot{\\theta} - \\frac{\\dot{\\phi}^{2} \\sin{\\left(2 \\theta \\right)}}{2} + \\frac{2 \\dot{\\theta} \\dot{r}}{r} \\\\\n",
       "    0{}^{\\phi} &= \\ddot{\\phi} + \\frac{2 \\dot{\\phi} \\dot{\\theta}}{\\tan{\\left(\\theta \\right)}} + \\frac{2 \\dot{\\phi} \\dot{r}}{r} \n",
       "\\end{align*}$$"
      ],
      "text/plain": [
       "<IPython.core.display.Markdown object>"
      ]
     },
     "metadata": {},
     "output_type": "display_data"
    },
    {
     "data": {
      "text/markdown": [
       "$$\\begin{align*}\n",
       "    0{}^{t} &= \\ddot{t} + \\dot{\\phi}^{2} \\partial_{t} a a r^{2} \\sin^{2}{\\left(\\theta \\right)} + \\dot{\\theta}^{2} \\partial_{t} a a r^{2} + \\dot{r}^{2} \\partial_{t} a a \\\\\n",
       "    0{}^{r} &= \\ddot{r} - \\dot{\\phi}^{2} r \\sin^{2}{\\left(\\theta \\right)} - \\dot{\\theta}^{2} r + \\frac{2 \\dot{r} \\dot{t} \\partial_{t} a}{a} \\\\\n",
       "    0{}^{\\theta} &= \\ddot{\\theta} - \\frac{\\dot{\\phi}^{2} \\sin{\\left(2 \\theta \\right)}}{2} + \\frac{2 \\dot{\\theta} \\dot{r}}{r} + \\frac{2 \\dot{\\theta} \\dot{t} \\partial_{t} a}{a} \\\\\n",
       "    0{}^{\\phi} &= \\ddot{\\phi} + \\frac{2 \\dot{\\phi} \\dot{\\theta}}{\\tan{\\left(\\theta \\right)}} + \\frac{2 \\dot{\\phi} \\dot{r}}{r} + \\frac{2 \\dot{\\phi} \\dot{t} \\partial_{t} a}{a} \n",
       "\\end{align*}$$"
      ],
      "text/plain": [
       "<IPython.core.display.Markdown object>"
      ]
     },
     "metadata": {},
     "output_type": "display_data"
    },
    {
     "data": {
      "text/markdown": [
       "$$\\begin{align*}\n",
       "    0{}^{t} &= \\ddot{t} + \\dot{t}^{2} \\partial_{z} f f^{2} v^{3} - \\dot{t} \\dot{x} \\partial_{x} f f v^{2} - \\dot{t} \\dot{y} \\partial_{y} f f v^{2} - 2 \\dot{t} \\dot{z} \\partial_{z} f f v^{2} + \\dot{x} \\dot{z} \\partial_{x} f v + \\dot{y} \\dot{z} \\partial_{y} f v + \\dot{z}^{2} \\partial_{z} f v \\\\\n",
       "    0{}^{x} &= \\ddot{x} - \\dot{t}^{2} \\partial_{x} f f v^{2} + \\dot{t} \\dot{z} \\partial_{x} f v \\\\\n",
       "    0{}^{y} &= \\ddot{y} - \\dot{t}^{2} \\partial_{y} f f v^{2} + \\dot{t} \\dot{z} \\partial_{y} f v \\\\\n",
       "    0{}^{z} &= \\ddot{z} + \\dot{t}^{2} \\left(- \\partial_{t} f v - \\partial_{t} v f + \\partial_{z} f f^{3} v^{4} - \\partial_{z} f f v^{2}\\right) - \\dot{t} \\dot{x} \\partial_{x} f v \\left(f^{2} v^{2} + 1\\right) - \\dot{t} \\dot{y} \\partial_{y} f v \\left(f^{2} v^{2} + 1\\right) - 2 \\dot{t} \\dot{z} \\partial_{z} f f^{2} v^{3} + \\dot{x} \\dot{z} \\partial_{x} f f v^{2} + \\dot{y} \\dot{z} \\partial_{y} f f v^{2} + \\dot{z}^{2} \\partial_{z} f f v^{2} \n",
       "\\end{align*}$$"
      ],
      "text/plain": [
       "<IPython.core.display.Markdown object>"
      ]
     },
     "metadata": {},
     "output_type": "display_data"
    }
   ],
   "source": [
    "~Minkowski.geodesic_from_christoffel()\n",
    "~Schwarzschild.geodesic_from_christoffel()\n",
    "~FLRW.geodesic_from_christoffel()\n",
    "~Alcubierre.geodesic_from_christoffel()"
   ]
  },
  {
   "cell_type": "markdown",
   "metadata": {},
   "source": [
    "There can be differences in the two solutions for the geodesic equation depending on whether you get it from the lagrangian or the christoffel symbols. It is best practice to simply try both to see which provides the cleaner sollution. "
   ]
  },
  {
   "cell_type": "markdown",
   "metadata": {},
   "source": [
    "# Geodesics in terms of time coordinate"
   ]
  },
  {
   "cell_type": "code",
   "execution_count": 172,
   "metadata": {},
   "outputs": [
    {
     "data": {
      "text/markdown": [
       "$$\\begin{align*}\n",
       "    0{}^{t} &= \\ddot{t} + \\dot{x}^{2} \\partial_{t} a a + \\dot{y}^{2} \\partial_{t} a a + \\dot{z}^{2} \\partial_{t} a a \\\\\n",
       "    0{}^{x} &= \\ddot{x} + \\frac{2 \\dot{t} \\dot{x} \\partial_{t} a}{a} \\\\\n",
       "    0{}^{y} &= \\ddot{y} + \\frac{2 \\dot{t} \\dot{y} \\partial_{t} a}{a} \\\\\n",
       "    0{}^{z} &= \\ddot{z} + \\frac{2 \\dot{t} \\dot{z} \\partial_{t} a}{a} \n",
       "\\end{align*}$$"
      ],
      "text/plain": [
       "<IPython.core.display.Markdown object>"
      ]
     },
     "metadata": {},
     "output_type": "display_data"
    }
   ],
   "source": [
    "FLRW.geodesic_from_christoffel().list(coords=Cartesian)"
   ]
  },
  {
   "cell_type": "code",
   "execution_count": 173,
   "metadata": {},
   "outputs": [
    {
     "data": {
      "text/markdown": [
       "$$\\begin{align*}\n",
       "    0{}^{x} &= \\ddot{x} - \\dot{x}^{3} \\partial_{t} \\left(a\\right) a - \\dot{x} \\dot{y}^{2} \\partial_{t} \\left(a\\right) a - \\dot{x} \\dot{z}^{2} \\partial_{t} \\left(a\\right) a + \\frac{2 \\dot{x} \\partial_{t} \\left(a\\right)}{a} \\\\\n",
       "    0{}^{y} &= \\ddot{y} - \\dot{x}^{2} \\dot{y} \\partial_{t} \\left(a\\right) a - \\dot{y}^{3} \\partial_{t} \\left(a\\right) a - \\dot{y} \\dot{z}^{2} \\partial_{t} \\left(a\\right) a + \\frac{2 \\dot{y} \\partial_{t} \\left(a\\right)}{a} \\\\\n",
       "    0{}^{z} &= \\ddot{z} - \\dot{x}^{2} \\dot{z} \\partial_{t} \\left(a\\right) a - \\dot{y}^{2} \\dot{z} \\partial_{t} \\left(a\\right) a - \\dot{z}^{3} \\partial_{t} \\left(a\\right) a + \\frac{2 \\dot{z} \\partial_{t} \\left(a\\right)}{a} \n",
       "\\end{align*}$$"
      ],
      "text/plain": [
       "<IPython.core.display.Markdown object>"
      ]
     },
     "metadata": {},
     "output_type": "display_data"
    }
   ],
   "source": [
    "FLRW.geodesic_time_param().list(coords=Cartesian)"
   ]
  },
  {
   "cell_type": "code",
   "execution_count": 175,
   "metadata": {},
   "outputs": [
    {
     "data": {
      "text/latex": [
       "$\\displaystyle - a{\\left(t \\right)} \\frac{d}{d t} a{\\left(t \\right)} \\left(\\frac{d}{d t} x{\\left(t \\right)}\\right)^{3} - a{\\left(t \\right)} \\frac{d}{d t} a{\\left(t \\right)} \\frac{d}{d t} x{\\left(t \\right)} \\left(\\frac{d}{d t} y{\\left(t \\right)}\\right)^{2} - a{\\left(t \\right)} \\frac{d}{d t} a{\\left(t \\right)} \\frac{d}{d t} x{\\left(t \\right)} \\left(\\frac{d}{d t} z{\\left(t \\right)}\\right)^{2} + \\frac{d^{2}}{d t^{2}} x{\\left(t \\right)} + \\frac{2 \\frac{d}{d t} a{\\left(t \\right)} \\frac{d}{d t} x{\\left(t \\right)}}{a{\\left(t \\right)}}$"
      ],
      "text/plain": [
       "-a(t)*Derivative(a(t), t)*Derivative(x(t), t)**3 - a(t)*Derivative(a(t), t)*Derivative(x(t), t)*Derivative(y(t), t)**2 - a(t)*Derivative(a(t), t)*Derivative(x(t), t)*Derivative(z(t), t)**2 + Derivative(x(t), (t, 2)) + 2*Derivative(a(t), t)*Derivative(x(t), t)/a(t)"
      ]
     },
     "execution_count": 175,
     "metadata": {},
     "output_type": "execute_result"
    }
   ],
   "source": [
    "FLRW_eq = FLRW.geodesic_time_param().components(coords=Cartesian, indices=(1,))[1]\n",
    "\n",
    "FLRW_eq"
   ]
  },
  {
   "cell_type": "code",
   "execution_count": 176,
   "metadata": {},
   "outputs": [],
   "source": [
    "param = Cartesian.of_param_dict(t)\n",
    "dot = Cartesian.of_param_dot_dict(t)"
   ]
  },
  {
   "cell_type": "code",
   "execution_count": 177,
   "metadata": {},
   "outputs": [
    {
     "data": {
      "text/latex": [
       "$\\displaystyle - a{\\left(t \\right)} \\frac{d}{d t} a{\\left(t \\right)} \\left(\\frac{d}{d t} x{\\left(t \\right)}\\right)^{3} + \\frac{d^{2}}{d t^{2}} x{\\left(t \\right)} + \\frac{2 \\frac{d}{d t} a{\\left(t \\right)} \\frac{d}{d t} x{\\left(t \\right)}}{a{\\left(t \\right)}}$"
      ],
      "text/plain": [
       "-a(t)*Derivative(a(t), t)*Derivative(x(t), t)**3 + Derivative(x(t), (t, 2)) + 2*Derivative(a(t), t)*Derivative(x(t), t)/a(t)"
      ]
     },
     "execution_count": 177,
     "metadata": {},
     "output_type": "execute_result"
    }
   ],
   "source": [
    "FLRW_eq.subs({dot[y]: 0, dot[z]: 0})"
   ]
  },
  {
   "cell_type": "markdown",
   "metadata": {},
   "source": [
    "Solution not done in notebook for time purposes..."
   ]
  },
  {
   "cell_type": "markdown",
   "metadata": {},
   "source": [
    "# Changing the curve parameter"
   ]
  },
  {
   "cell_type": "code",
   "execution_count": 178,
   "metadata": {},
   "outputs": [
    {
     "data": {
      "text/markdown": [
       "**OGRePy**: Using default coordinate system `Cartesian` and default index configuration ()."
      ],
      "text/plain": [
       "<IPython.core.display.Markdown object>"
      ]
     },
     "metadata": {},
     "output_type": "display_data"
    },
    {
     "data": {
      "text/latex": [
       "$\\displaystyle \\left[\\begin{matrix}- \\left(\\frac{d}{d \\lambda} t{\\left(\\lambda \\right)}\\right)^{2} + \\left(\\frac{d}{d \\lambda} x{\\left(\\lambda \\right)}\\right)^{2} + \\left(\\frac{d}{d \\lambda} y{\\left(\\lambda \\right)}\\right)^{2} + \\left(\\frac{d}{d \\lambda} z{\\left(\\lambda \\right)}\\right)^{2}\\end{matrix}\\right]$"
      ],
      "text/plain": [
       "[-Derivative(t(\\lambda), \\lambda)**2 + Derivative(x(\\lambda), \\lambda)**2 + Derivative(y(\\lambda), \\lambda)**2 + Derivative(z(\\lambda), \\lambda)**2]"
      ]
     },
     "execution_count": 178,
     "metadata": {},
     "output_type": "execute_result"
    }
   ],
   "source": [
    "Minkowski.lagrangian().components()"
   ]
  },
  {
   "cell_type": "code",
   "execution_count": 180,
   "metadata": {},
   "outputs": [],
   "source": [
    "gr.options.curve_parameter = \"tau\""
   ]
  },
  {
   "cell_type": "code",
   "execution_count": 181,
   "metadata": {},
   "outputs": [
    {
     "data": {
      "text/markdown": [
       "**OGRePy**: Using default coordinate system `Cartesian` and default index configuration ()."
      ],
      "text/plain": [
       "<IPython.core.display.Markdown object>"
      ]
     },
     "metadata": {},
     "output_type": "display_data"
    },
    {
     "data": {
      "text/latex": [
       "$\\displaystyle \\left[\\begin{matrix}- \\left(\\frac{d}{d \\tau} t{\\left(\\tau \\right)}\\right)^{2} + \\left(\\frac{d}{d \\tau} x{\\left(\\tau \\right)}\\right)^{2} + \\left(\\frac{d}{d \\tau} y{\\left(\\tau \\right)}\\right)^{2} + \\left(\\frac{d}{d \\tau} z{\\left(\\tau \\right)}\\right)^{2}\\end{matrix}\\right]$"
      ],
      "text/plain": [
       "[-Derivative(t(\\tau), \\tau)**2 + Derivative(x(\\tau), \\tau)**2 + Derivative(y(\\tau), \\tau)**2 + Derivative(z(\\tau), \\tau)**2]"
      ]
     },
     "execution_count": 181,
     "metadata": {},
     "output_type": "execute_result"
    }
   ],
   "source": [
    "Minkowski.lagrangian().components()"
   ]
  },
  {
   "cell_type": "code",
   "execution_count": null,
   "metadata": {},
   "outputs": [],
   "source": []
  }
 ],
 "metadata": {
  "kernelspec": {
   "display_name": "gr-env",
   "language": "python",
   "name": "python3"
  },
  "language_info": {
   "codemirror_mode": {
    "name": "ipython",
    "version": 3
   },
   "file_extension": ".py",
   "mimetype": "text/x-python",
   "name": "python",
   "nbconvert_exporter": "python",
   "pygments_lexer": "ipython3",
   "version": "3.12.7"
  }
 },
 "nbformat": 4,
 "nbformat_minor": 2
}
