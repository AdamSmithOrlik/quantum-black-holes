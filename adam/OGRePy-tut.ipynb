{
 "cells": [
  {
   "cell_type": "markdown",
   "metadata": {},
   "source": [
    "Following the tutorial on the OGRePy github page [here](https://github.com/bshoshany/OGRePy)"
   ]
  },
  {
   "cell_type": "code",
   "execution_count": 1,
   "metadata": {},
   "outputs": [
    {
     "data": {
      "text/markdown": [
       "**OGRePy: An <u>O</u>bject-Oriented <u>G</u>eneral <u>Re</u>lativity Package for <u>Py</u>thon\\\n",
       "By [Barak Shoshany](https://github.com/bshoshany) ([baraksh@gmail.com](mailto:baraksh@gmail.com)) ([baraksh.com](https://baraksh.com/))\\\n",
       "v1.2.0 (2024-09-15)\\\n",
       "GitHub repository: <https://github.com/bshoshany/OGRePy>\\\n",
       "Documentation: <a href=\"/Users/adamsmith/opt/anaconda3/envs/gr-env/lib/python3.12/site-packages/OGRePy/docs/OGRePy_Documentation.ipynb\">.ipynb</a>, <a href=\"/Users/adamsmith/opt/anaconda3/envs/gr-env/lib/python3.12/site-packages/OGRePy/docs/OGRePy_Documentation.pdf\">.pdf</a>, <a href=\"#\" onclick=\"window.open('file:///Users/adamsmith/opt/anaconda3/envs/gr-env/lib/python3.12/site-packages/OGRePy/docs/OGRePy_Documentation.html', '_blank')\">.html</a>**"
      ],
      "text/plain": [
       "<IPython.core.display.Markdown object>"
      ]
     },
     "metadata": {},
     "output_type": "display_data"
    },
    {
     "data": {
      "text/markdown": [
       "**OGRePy**: You have the latest version of the package."
      ],
      "text/plain": [
       "<IPython.core.display.Markdown object>"
      ]
     },
     "metadata": {},
     "output_type": "display_data"
    }
   ],
   "source": [
    "import numpy as np\n",
    "import matplotlib.pyplot as plt\n",
    "\n",
    "import OGRePy as gr"
   ]
  },
  {
   "cell_type": "markdown",
   "metadata": {},
   "source": [
    "# Basics, Metrics, Tensors, Displaying "
   ]
  },
  {
   "cell_type": "code",
   "execution_count": 2,
   "metadata": {},
   "outputs": [
    {
     "data": {
      "text/markdown": [
       "<div style=\"border: 1px solid; margin: auto; padding: 1em; width: 90%\">\n",
       "\n",
       "`Coordinates(*components: s.Symbol | str) -> None`\n",
       "\n",
       "Construct a new coordinate object.\n",
       "#### Parameters:\n",
       "* `components`: One or more strings or SymPy `Symbol` objects specifying the coordinates. Strings should be in the same format as the argument to SymPy's `symbols()`, e.g. `\"t x y z\"`, and it is possible to enter just one string for all the coordinates.\n",
       "\n",
       "</div>"
      ],
      "text/plain": [
       "<IPython.core.display.Markdown object>"
      ]
     },
     "metadata": {},
     "output_type": "display_data"
    }
   ],
   "source": [
    "gr.doc(gr.Coordinates)"
   ]
  },
  {
   "cell_type": "code",
   "execution_count": 3,
   "metadata": {},
   "outputs": [],
   "source": [
    "from OGRePy.abc import t, x, y, z"
   ]
  },
  {
   "cell_type": "code",
   "execution_count": 4,
   "metadata": {},
   "outputs": [],
   "source": [
    "Cartesian = gr.Coordinates(t,x, y, z)"
   ]
  },
  {
   "cell_type": "code",
   "execution_count": 6,
   "metadata": {},
   "outputs": [],
   "source": [
    "from OGRePy.abc import phi, theta\n",
    "\n",
    "r = gr.sym(\"r\", nonnegative=True)\n",
    "\n",
    "Spherical = gr.Coordinates(t, r, theta, phi)"
   ]
  },
  {
   "cell_type": "code",
   "execution_count": 7,
   "metadata": {},
   "outputs": [
    {
     "data": {
      "text/latex": [
       "$\\displaystyle \\left|{t}\\right|$"
      ],
      "text/plain": [
       "Abs(t)"
      ]
     },
     "execution_count": 7,
     "metadata": {},
     "output_type": "execute_result"
    }
   ],
   "source": [
    "gr.s.simplify(gr.s.sqrt(t**2))"
   ]
  },
  {
   "cell_type": "code",
   "execution_count": 8,
   "metadata": {},
   "outputs": [
    {
     "data": {
      "text/latex": [
       "$\\displaystyle r$"
      ],
      "text/plain": [
       "r"
      ]
     },
     "execution_count": 8,
     "metadata": {},
     "output_type": "execute_result"
    }
   ],
   "source": [
    "gr.s.simplify(gr.s.sqrt(r**2))"
   ]
  },
  {
   "cell_type": "code",
   "execution_count": 9,
   "metadata": {},
   "outputs": [
    {
     "data": {
      "text/markdown": [
       "<div style=\"border: 1px solid; margin: auto; padding: 1em; width: 90%\">\n",
       "\n",
       "`Metric(*, coords: Coordinates, components: list[Any] | s.NDimArray | s.Matrix, symbol: str | s.Symbol = g) -> None`\n",
       "\n",
       "Construct a new metric object.\n",
       "#### Parameters:\n",
       "* `coords`: An OGRePy `Coordinates` object specifying the coordinate system of the representation of the initialization components. Will also be designated the default coordinate system of the metric.\n",
       "* `components`: The components with which to initialize the metric. Can be a list, a SymPy `Array` object, or a SymPy `Matrix` object.\n",
       "* `symbol` (optional): A string or a SymPy `Symbol` object designating the symbol to be used when displaying the metric. The string can include any TeX symbols, e.g. `r\"\\hat{T}\"` (note the `r` in front of the string, indicating that the `\\` in the string is not an escape character).\n",
       "#### Exceptions:\n",
       "* `OGRePyError`: If the metric components are not an invertible symmetric matrix.\n",
       "\n",
       "</div>"
      ],
      "text/plain": [
       "<IPython.core.display.Markdown object>"
      ]
     },
     "metadata": {},
     "output_type": "display_data"
    }
   ],
   "source": [
    "gr.doc(gr.Metric)"
   ]
  },
  {
   "cell_type": "code",
   "execution_count": 11,
   "metadata": {},
   "outputs": [],
   "source": [
    "Minkowski = gr.Metric(\n",
    "    coords = Cartesian,\n",
    "    components = gr.diag(-1,1,1,1),\n",
    "    symbol = \"eta\"\n",
    ")"
   ]
  },
  {
   "cell_type": "code",
   "execution_count": 14,
   "metadata": {},
   "outputs": [
    {
     "data": {
      "text/markdown": [
       "$$\\eta{}_{\\mu}{}_{\\nu}\\Bigg|_{\\left(t, x, y, z\\right)} = \\left(\\begin{matrix}-1 & 0 & 0 & 0\\\\0 & 1 & 0 & 0\\\\0 & 0 & 1 & 0\\\\0 & 0 & 0 & 1\\end{matrix}\\right)$$"
      ],
      "text/plain": [
       "<IPython.core.display.Markdown object>"
      ]
     },
     "metadata": {},
     "output_type": "display_data"
    }
   ],
   "source": [
    "Minkowski.show()"
   ]
  },
  {
   "cell_type": "code",
   "execution_count": 15,
   "metadata": {},
   "outputs": [],
   "source": [
    "from OGRePy.abc import M\n",
    "\n",
    "Schwarzschild = gr.Metric(\n",
    "    coords=Spherical,\n",
    "    components=gr.diag(\n",
    "        -(1 - 2 * M / r),\n",
    "        1 / (1 - 2 * M / r),\n",
    "        r**2,\n",
    "        r**2 * gr.s.sin(theta) ** 2,\n",
    "    ),\n",
    ")"
   ]
  },
  {
   "cell_type": "code",
   "execution_count": 16,
   "metadata": {},
   "outputs": [
    {
     "data": {
      "text/markdown": [
       "$$g{}_{\\mu}{}_{\\nu}\\Bigg|_{\\left(t, r, \\theta, \\phi\\right)} = \\left(\\begin{matrix}\\frac{2 M}{r} - 1 & 0 & 0 & 0\\\\0 & \\frac{1}{- \\frac{2 M}{r} + 1} & 0 & 0\\\\0 & 0 & r^{2} & 0\\\\0 & 0 & 0 & r^{2} \\sin^{2}{\\left(\\theta \\right)}\\end{matrix}\\right)$$"
      ],
      "text/plain": [
       "<IPython.core.display.Markdown object>"
      ]
     },
     "metadata": {},
     "output_type": "display_data"
    }
   ],
   "source": [
    "Schwarzschild.show()"
   ]
  },
  {
   "cell_type": "code",
   "execution_count": 17,
   "metadata": {},
   "outputs": [
    {
     "data": {
      "text/markdown": [
       "$$\\left(\\begin{matrix}t & x & y & z\\end{matrix}\\right)$$"
      ],
      "text/plain": [
       "<IPython.core.display.Markdown object>"
      ]
     },
     "metadata": {},
     "output_type": "display_data"
    }
   ],
   "source": [
    "Cartesian.show()"
   ]
  },
  {
   "cell_type": "code",
   "execution_count": 20,
   "metadata": {},
   "outputs": [
    {
     "data": {
      "text/markdown": [
       "$$\\begin{align*}\n",
       "    \\eta{}_{t}{}_{t} = -\\eta{}_{x}{}_{x} = -\\eta{}_{y}{}_{y} = -\\eta{}_{z}{}_{z} &= -1 \n",
       "\\end{align*}$$"
      ],
      "text/plain": [
       "<IPython.core.display.Markdown object>"
      ]
     },
     "metadata": {},
     "output_type": "display_data"
    }
   ],
   "source": [
    "Minkowski.list()"
   ]
  },
  {
   "cell_type": "code",
   "execution_count": 21,
   "metadata": {},
   "outputs": [
    {
     "data": {
      "text/markdown": [
       "$$\\begin{align*}\n",
       "    g{}_{t}{}_{t} &= \\frac{2 M}{r} - 1 \\\\\n",
       "    g{}_{r}{}_{r} &= \\frac{1}{- \\frac{2 M}{r} + 1} \\\\\n",
       "    g{}_{\\theta}{}_{\\theta} &= r^{2} \\\\\n",
       "    g{}_{\\phi}{}_{\\phi} &= r^{2} \\sin^{2}{\\left(\\theta \\right)} \n",
       "\\end{align*}$$"
      ],
      "text/plain": [
       "<IPython.core.display.Markdown object>"
      ]
     },
     "metadata": {},
     "output_type": "display_data"
    }
   ],
   "source": [
    "~Schwarzschild"
   ]
  },
  {
   "cell_type": "code",
   "execution_count": 22,
   "metadata": {},
   "outputs": [
    {
     "data": {
      "text/latex": [
       "$\\displaystyle - \\mathrm{d}t^{2} + \\mathrm{d}x^{2} + \\mathrm{d}y^{2} + \\mathrm{d}z^{2}$"
      ],
      "text/plain": [
       "-\\mathrm{d}t**2 + \\mathrm{d}x**2 + \\mathrm{d}y**2 + \\mathrm{d}z**2"
      ]
     },
     "execution_count": 22,
     "metadata": {},
     "output_type": "execute_result"
    }
   ],
   "source": [
    "Minkowski.line_element()"
   ]
  },
  {
   "cell_type": "code",
   "execution_count": 23,
   "metadata": {},
   "outputs": [
    {
     "data": {
      "text/latex": [
       "$\\displaystyle \\mathrm{d}\\phi^{2} r^{2} \\sin^{2}{\\left(\\theta \\right)} + \\mathrm{d}\\theta^{2} r^{2} + \\frac{\\mathrm{d}r^{2}}{- \\frac{2 M}{r} + 1} + \\mathrm{d}t^{2} \\left(\\frac{2 M}{r} - 1\\right)$"
      ],
      "text/plain": [
       "\\mathrm{d}\\phi**2*r**2*sin(\\theta)**2 + \\mathrm{d}\\theta**2*r**2 + \\mathrm{d}r**2/(-2*M/r + 1) + \\mathrm{d}t**2*(2*M/r - 1)"
      ]
     },
     "execution_count": 23,
     "metadata": {},
     "output_type": "execute_result"
    }
   ],
   "source": [
    "Schwarzschild.line_element()"
   ]
  },
  {
   "cell_type": "code",
   "execution_count": 24,
   "metadata": {},
   "outputs": [],
   "source": [
    "v_t = gr.func(\"v\")(t)\n",
    "f_t_x_y_z = gr.func(\"f\")(t, x, y, z)\n",
    "Alcubierre = gr.Metric(\n",
    "    coords=Cartesian,\n",
    "    components=[\n",
    "        [-1 + f_t_x_y_z**2 * v_t**2, 0, 0, -f_t_x_y_z * v_t],\n",
    "        [0, 1, 0, 0],\n",
    "        [0, 0, 1, 0],\n",
    "        [-f_t_x_y_z * v_t, 0, 0, 1],\n",
    "    ],\n",
    ")"
   ]
  },
  {
   "cell_type": "code",
   "execution_count": 25,
   "metadata": {},
   "outputs": [
    {
     "data": {
      "text/markdown": [
       "$$g{}_{\\mu}{}_{\\nu}\\Bigg|_{\\left(t, x, y, z\\right)} = \\left(\\begin{matrix}f^{2} v^{2} - 1 & 0 & 0 & - f v\\\\0 & 1 & 0 & 0\\\\0 & 0 & 1 & 0\\\\- f v & 0 & 0 & 1\\end{matrix}\\right)$$"
      ],
      "text/plain": [
       "<IPython.core.display.Markdown object>"
      ]
     },
     "metadata": {},
     "output_type": "display_data"
    }
   ],
   "source": [
    "Alcubierre.show()"
   ]
  },
  {
   "cell_type": "code",
   "execution_count": 26,
   "metadata": {},
   "outputs": [
    {
     "data": {
      "text/markdown": [
       "$$\\begin{align*}\n",
       "    g{}_{t}{}_{t} &= f^{2} v^{2} - 1 \\\\\n",
       "    g{}_{t}{}_{z} = g{}_{z}{}_{t} &= - f v \\\\\n",
       "    g{}_{x}{}_{x} = g{}_{y}{}_{y} = g{}_{z}{}_{z} &= 1 \n",
       "\\end{align*}$$"
      ],
      "text/plain": [
       "<IPython.core.display.Markdown object>"
      ]
     },
     "metadata": {},
     "output_type": "display_data"
    }
   ],
   "source": [
    "Alcubierre.list()"
   ]
  },
  {
   "cell_type": "code",
   "execution_count": 27,
   "metadata": {},
   "outputs": [
    {
     "data": {
      "text/latex": [
       "$\\displaystyle \\mathrm{d}t^{2} \\left(f^{2}{\\left(t,x,y,z \\right)} v^{2}{\\left(t \\right)} - 1\\right) - 2 \\mathrm{d}t \\mathrm{d}z f{\\left(t,x,y,z \\right)} v{\\left(t \\right)} + \\mathrm{d}x^{2} + \\mathrm{d}y^{2} + \\mathrm{d}z^{2}$"
      ],
      "text/plain": [
       "\\mathrm{d}t**2*(f(t, x, y, z)**2*v(t)**2 - 1) - 2*\\mathrm{d}t*\\mathrm{d}z*f(t, x, y, z)*v(t) + \\mathrm{d}x**2 + \\mathrm{d}y**2 + \\mathrm{d}z**2"
      ]
     },
     "execution_count": 27,
     "metadata": {},
     "output_type": "execute_result"
    }
   ],
   "source": [
    "Alcubierre.line_element()"
   ]
  },
  {
   "cell_type": "code",
   "execution_count": 28,
   "metadata": {},
   "outputs": [
    {
     "data": {
      "text/latex": [
       "$\\displaystyle \\mathrm{d}t^{2} f^{2}{\\left(t,x,y,z \\right)} v^{2}{\\left(t \\right)} - \\mathrm{d}t^{2} - 2 \\mathrm{d}t \\mathrm{d}z f{\\left(t,x,y,z \\right)} v{\\left(t \\right)} + \\mathrm{d}x^{2} + \\mathrm{d}y^{2} + \\mathrm{d}z^{2}$"
      ],
      "text/plain": [
       "\\mathrm{d}t**2*f(t, x, y, z)**2*v(t)**2 - \\mathrm{d}t**2 - 2*\\mathrm{d}t*\\mathrm{d}z*f(t, x, y, z)*v(t) + \\mathrm{d}x**2 + \\mathrm{d}y**2 + \\mathrm{d}z**2"
      ]
     },
     "execution_count": 28,
     "metadata": {},
     "output_type": "execute_result"
    }
   ],
   "source": [
    "Alcubierre.line_element().expand()"
   ]
  },
  {
   "cell_type": "code",
   "execution_count": 29,
   "metadata": {},
   "outputs": [
    {
     "data": {
      "text/latex": [
       "$\\displaystyle \\left[\\begin{matrix}\\mathrm{d}x^{2} & \\mathrm{d}y^{2} & \\mathrm{d}z^{2} & - \\mathrm{d}t^{2} & \\mathrm{d}t^{2} f^{2}{\\left(t,x,y,z \\right)} v^{2}{\\left(t \\right)} & - 2 \\mathrm{d}t \\mathrm{d}z f{\\left(t,x,y,z \\right)} v{\\left(t \\right)}\\end{matrix}\\right]$"
      ],
      "text/plain": [
       "[\\mathrm{d}x**2, \\mathrm{d}y**2, \\mathrm{d}z**2, -\\mathrm{d}t**2, \\mathrm{d}t**2*f(t, x, y, z)**2*v(t)**2, -2*\\mathrm{d}t*\\mathrm{d}z*f(t, x, y, z)*v(t)]"
      ]
     },
     "execution_count": 29,
     "metadata": {},
     "output_type": "execute_result"
    }
   ],
   "source": [
    "args = Alcubierre.line_element().expand().args\n",
    "gr.s.Array(args)"
   ]
  },
  {
   "cell_type": "code",
   "execution_count": 30,
   "metadata": {},
   "outputs": [
    {
     "data": {
      "text/latex": [
       "$\\displaystyle - \\mathrm{d}t^{2} + \\mathrm{d}x^{2} + \\mathrm{d}y^{2} + \\left(\\mathrm{d}t f{\\left(t,x,y,z \\right)} v{\\left(t \\right)} - \\mathrm{d}z\\right)^{2}$"
      ],
      "text/plain": [
       "-\\mathrm{d}t**2 + \\mathrm{d}x**2 + \\mathrm{d}y**2 + (\\mathrm{d}t*f(t, x, y, z)*v(t) - \\mathrm{d}z)**2"
      ]
     },
     "execution_count": 30,
     "metadata": {},
     "output_type": "execute_result"
    }
   ],
   "source": [
    "args[0] + args[1] + args[3] + gr.s.factor(args[2] + args[4] + args[5])"
   ]
  },
  {
   "cell_type": "code",
   "execution_count": 31,
   "metadata": {},
   "outputs": [
    {
     "data": {
      "text/latex": [
       "$\\displaystyle -1$"
      ],
      "text/plain": [
       "-1"
      ]
     },
     "execution_count": 31,
     "metadata": {},
     "output_type": "execute_result"
    }
   ],
   "source": [
    "Minkowski.volume_element_squared()"
   ]
  },
  {
   "cell_type": "code",
   "execution_count": 32,
   "metadata": {},
   "outputs": [
    {
     "data": {
      "text/latex": [
       "$\\displaystyle - r^{4} \\sin^{2}{\\left(\\theta \\right)}$"
      ],
      "text/plain": [
       "-r**4*sin(\\theta)**2"
      ]
     },
     "execution_count": 32,
     "metadata": {},
     "output_type": "execute_result"
    }
   ],
   "source": [
    "Schwarzschild.volume_element_squared()"
   ]
  },
  {
   "cell_type": "code",
   "execution_count": 33,
   "metadata": {},
   "outputs": [
    {
     "data": {
      "text/latex": [
       "$\\displaystyle -1$"
      ],
      "text/plain": [
       "-1"
      ]
     },
     "execution_count": 33,
     "metadata": {},
     "output_type": "execute_result"
    }
   ],
   "source": [
    "Alcubierre.volume_element_squared()"
   ]
  },
  {
   "cell_type": "code",
   "execution_count": 34,
   "metadata": {},
   "outputs": [
    {
     "data": {
      "text/latex": [
       "$\\displaystyle r^{2} \\left|{\\sin{\\left(\\theta \\right)}}\\right|$"
      ],
      "text/plain": [
       "r**2*Abs(sin(\\theta))"
      ]
     },
     "execution_count": 34,
     "metadata": {},
     "output_type": "execute_result"
    }
   ],
   "source": [
    "gr.s.simplify(gr.s.sqrt(-Schwarzschild.volume_element_squared()))"
   ]
  },
  {
   "cell_type": "code",
   "execution_count": 35,
   "metadata": {},
   "outputs": [
    {
     "data": {
      "text/plain": [
       "['\\\\mu',\n",
       " '\\\\nu',\n",
       " '\\\\rho',\n",
       " '\\\\sigma',\n",
       " '\\\\kappa',\n",
       " '\\\\lambda',\n",
       " '\\\\alpha',\n",
       " '\\\\beta',\n",
       " '\\\\gamma',\n",
       " '\\\\delta',\n",
       " '\\\\epsilon',\n",
       " '\\\\zeta',\n",
       " '\\\\epsilon',\n",
       " '\\\\theta',\n",
       " '\\\\iota',\n",
       " '\\\\xi',\n",
       " '\\\\pi',\n",
       " '\\\\tau',\n",
       " '\\\\phi',\n",
       " '\\\\chi',\n",
       " '\\\\psi',\n",
       " '\\\\omega']"
      ]
     },
     "execution_count": 35,
     "metadata": {},
     "output_type": "execute_result"
    }
   ],
   "source": [
    "gr.options.index_letters"
   ]
  },
  {
   "cell_type": "code",
   "execution_count": 36,
   "metadata": {},
   "outputs": [
    {
     "data": {
      "text/latex": [
       "$\\displaystyle \\mu,\\nu,\\rho,\\sigma,\\kappa,\\lambda,\\alpha,\\beta,\\gamma,\\delta,\\epsilon,\\zeta,\\epsilon,\\theta,\\iota,\\xi,\\pi,\\tau,\\phi,\\chi,\\psi,\\omega$"
      ],
      "text/plain": [
       "<IPython.core.display.Math object>"
      ]
     },
     "execution_count": 36,
     "metadata": {},
     "output_type": "execute_result"
    }
   ],
   "source": [
    "from IPython.display import Math\n",
    "\n",
    "Math(\",\".join(gr.options.index_letters))"
   ]
  },
  {
   "cell_type": "code",
   "execution_count": 37,
   "metadata": {},
   "outputs": [
    {
     "data": {
      "text/markdown": [
       "<div style=\"border: 1px solid; margin: auto; padding: 1em; width: 90%\">\n",
       "\n",
       "`Tensor(*, metric: Metric, indices: IndexConfiguration, coords: Coordinates, components: list[Any] | s.NDimArray | s.Matrix, symbol: str | s.Symbol = \\\\square, simplify: bool = False) -> None`\n",
       "\n",
       "Construct a new tensor object.\n",
       "#### Parameters:\n",
       "* `metric`: An OGRePy `Metric` object specifying the metric which will be used to raise and lower indices for this tensor.\n",
       "* `indices`: A tuple of integers specifying the index configuration of the representation of the initialization components. Each integer in the tuple can be either +1 for an upper index or -1 for a lower index. Will also be designated the default index configuration of the tensor.\n",
       "* `coords`: An OGRePy `Coordinates` object specifying the coordinate system of the representation of the initialization components. Will also be designated the default coordinate system of the tensor.\n",
       "* `components`: The components with which to initialize the tensor. Can be a list, a SymPy `Array` object, or (for rank 2 tensors) a SymPy `Matrix` object.\n",
       "* `symbol` (optional): A string or a SymPy `Symbol` object designating the symbol to be used when displaying the tensor. The string can include any TeX symbols, e.g. `r\"\\hat{T}\"` (note the `r` in front of the string, indicating that the `\\` in the string is not an escape character). If omitted, the placeholder $\\square$ (`r\"\\square\"`) will be used.\n",
       "* `simplify` (optional): Whether to simplify (`True`) or not simplify (`False`, the default) the components before storing them.\n",
       "\n",
       "</div>"
      ],
      "text/plain": [
       "<IPython.core.display.Markdown object>"
      ]
     },
     "metadata": {},
     "output_type": "display_data"
    }
   ],
   "source": [
    "gr.doc(gr.Tensor)"
   ]
  },
  {
   "cell_type": "code",
   "execution_count": 39,
   "metadata": {},
   "outputs": [
    {
     "data": {
      "text/markdown": [
       "$$\\begin{align*}\n",
       "    K &= \\frac{48 M^{2}}{r^{6}} \n",
       "\\end{align*}$$"
      ],
      "text/plain": [
       "<IPython.core.display.Markdown object>"
      ]
     },
     "metadata": {},
     "output_type": "display_data"
    }
   ],
   "source": [
    "SchwarzschildKretschmann = gr.Tensor(\n",
    "    metric=Schwarzschild,\n",
    "    coords=Spherical,\n",
    "    indices=(),\n",
    "    components=[(48 * M**2) / r**6],\n",
    "    symbol=\"K\",\n",
    ")\n",
    "\n",
    "SchwarzschildKretschmann.list()"
   ]
  },
  {
   "cell_type": "code",
   "execution_count": 42,
   "metadata": {},
   "outputs": [
    {
     "data": {
      "text/markdown": [
       "$$u{}^{\\mu}\\Bigg|_{\\left(t, x, y, z\\right)} = \\left(\\begin{matrix}\\frac{1}{\\sqrt{1 - v^{2}}}\\\\\\frac{v}{\\sqrt{1 - v^{2}}}\\\\0\\\\0\\end{matrix}\\right)$$"
      ],
      "text/plain": [
       "<IPython.core.display.Markdown object>"
      ]
     },
     "metadata": {},
     "output_type": "display_data"
    }
   ],
   "source": [
    "from OGRePy.abc import v\n",
    "\n",
    "FourVelocity = gr.Tensor(\n",
    "    metric=Minkowski,\n",
    "    coords=Cartesian,\n",
    "    indices=(1,),\n",
    "    components=gr.s.Array([1, v, 0, 0]) / gr.s.sqrt(1 - v**2),\n",
    "    symbol=\"u\"\n",
    ")\n",
    "\n",
    "FourVelocity.show()"
   ]
  },
  {
   "cell_type": "code",
   "execution_count": 43,
   "metadata": {},
   "outputs": [
    {
     "data": {
      "text/markdown": [
       "$$T{}^{\\mu}{}^{\\nu}\\Bigg|_{\\left(t, x, y, z\\right)} = \\left(\\begin{matrix}\\rho & 0 & 0 & 0\\\\0 & p & 0 & 0\\\\0 & 0 & p & 0\\\\0 & 0 & 0 & p\\end{matrix}\\right)$$"
      ],
      "text/plain": [
       "<IPython.core.display.Markdown object>"
      ]
     },
     "metadata": {},
     "output_type": "display_data"
    }
   ],
   "source": [
    "from OGRePy.abc import p, rho\n",
    "\n",
    "PerfectFluid = gr.Tensor(\n",
    "    metric=Minkowski,\n",
    "    coords=Cartesian,\n",
    "    indices=(1, 1),\n",
    "    components=gr.diag(rho, p, p, p),\n",
    "    symbol=\"T\",\n",
    ")\n",
    "\n",
    "PerfectFluid.show()"
   ]
  },
  {
   "cell_type": "markdown",
   "metadata": {},
   "source": [
    "# Operations on Tensors"
   ]
  },
  {
   "cell_type": "code",
   "execution_count": 44,
   "metadata": {},
   "outputs": [
    {
     "data": {
      "text/markdown": [
       "$$u{}^{\\mu}\\Bigg|_{\\left(t, x, y, z\\right)} = \\left(\\begin{matrix}\\frac{1}{\\sqrt{1 - v^{2}}}\\\\\\frac{v}{\\sqrt{1 - v^{2}}}\\\\0\\\\0\\end{matrix}\\right)$$"
      ],
      "text/plain": [
       "<OGRePy._core.Tensor at 0x10e58fdd0>"
      ]
     },
     "execution_count": 44,
     "metadata": {},
     "output_type": "execute_result"
    }
   ],
   "source": [
    "FourVelocity"
   ]
  },
  {
   "cell_type": "code",
   "execution_count": 47,
   "metadata": {},
   "outputs": [
    {
     "data": {
      "text/markdown": [
       "$$u{}_{\\mu}\\Bigg|_{\\left(t, x, y, z\\right)} = \\left(\\begin{matrix}- \\frac{1}{\\sqrt{1 - v^{2}}}\\\\\\frac{v}{\\sqrt{1 - v^{2}}}\\\\0\\\\0\\end{matrix}\\right)$$"
      ],
      "text/plain": [
       "<IPython.core.display.Markdown object>"
      ]
     },
     "metadata": {},
     "output_type": "display_data"
    }
   ],
   "source": [
    "# raising and lowering indicies \n",
    "\n",
    "# lowering the four velocity index \n",
    "FourVelocity.show(indices=(-1,))"
   ]
  },
  {
   "cell_type": "code",
   "execution_count": 49,
   "metadata": {},
   "outputs": [
    {
     "data": {
      "text/markdown": [
       "$$\\begin{align*}\n",
       "    T{}^{t}{}^{t} &= \\rho \\\\\n",
       "    T{}^{x}{}^{x} = T{}^{y}{}^{y} = T{}^{z}{}^{z} &= p \n",
       "\\end{align*}$$"
      ],
      "text/plain": [
       "<IPython.core.display.Markdown object>"
      ]
     },
     "metadata": {},
     "output_type": "display_data"
    }
   ],
   "source": [
    "PerfectFluid.list()"
   ]
  },
  {
   "cell_type": "code",
   "execution_count": 52,
   "metadata": {},
   "outputs": [
    {
     "data": {
      "text/markdown": [
       "$$\\begin{align*}\n",
       "    T{}^{t}{}_{t} &= - \\rho \\\\\n",
       "    T{}^{x}{}_{x} = T{}^{y}{}_{y} = T{}^{z}{}_{z} &= p \n",
       "\\end{align*}$$"
      ],
      "text/plain": [
       "<IPython.core.display.Markdown object>"
      ]
     },
     "metadata": {},
     "output_type": "display_data"
    }
   ],
   "source": [
    "PerfectFluid.list(indices=(1, -1))"
   ]
  },
  {
   "cell_type": "code",
   "execution_count": 53,
   "metadata": {},
   "outputs": [
    {
     "data": {
      "text/markdown": [
       "$$g{}^{\\mu}{}^{\\nu}\\Bigg|_{\\left(t, r, \\theta, \\phi\\right)} = \\left(\\begin{matrix}- \\frac{r}{- 2 M + r} & 0 & 0 & 0\\\\0 & \\frac{- 2 M + r}{r} & 0 & 0\\\\0 & 0 & \\frac{1}{r^{2}} & 0\\\\0 & 0 & 0 & \\frac{1}{r^{2} \\sin^{2}{\\left(\\theta \\right)}}\\end{matrix}\\right)$$"
      ],
      "text/plain": [
       "<IPython.core.display.Markdown object>"
      ]
     },
     "metadata": {},
     "output_type": "display_data"
    }
   ],
   "source": [
    "Schwarzschild.show(indices=(1, 1))"
   ]
  },
  {
   "cell_type": "code",
   "execution_count": 55,
   "metadata": {},
   "outputs": [
    {
     "data": {
      "text/markdown": [
       "$$g{}^{\\mu}{}_{\\nu}\\Bigg|_{\\left(t, r, \\theta, \\phi\\right)} = \\left(\\begin{matrix}1 & 0 & 0 & 0\\\\0 & 1 & 0 & 0\\\\0 & 0 & 1 & 0\\\\0 & 0 & 0 & 1\\end{matrix}\\right)$$"
      ],
      "text/plain": [
       "<IPython.core.display.Markdown object>"
      ]
     },
     "metadata": {},
     "output_type": "display_data"
    }
   ],
   "source": [
    "Schwarzschild.show(indices=(1, -1))"
   ]
  },
  {
   "cell_type": "code",
   "execution_count": 56,
   "metadata": {},
   "outputs": [],
   "source": [
    "Cartesian.set_coord_transformation(\n",
    "    target=Spherical,\n",
    "    rules={\n",
    "        x: r * gr.s.sin(theta) * gr.s.cos(phi),\n",
    "        y: r * gr.s.sin(theta) * gr.s.sin(phi),\n",
    "        z: r * gr.s.cos(theta),\n",
    "    },\n",
    ")\n",
    "\n",
    "Spherical.set_coord_transformation(\n",
    "    target=Cartesian,\n",
    "    rules={\n",
    "        r: gr.s.sqrt(x**2 + y**2 + z**2),\n",
    "        theta: gr.s.acos(z / gr.s.sqrt(x**2 + y**2 + z**2)),\n",
    "        phi: gr.s.atan2(y, x),\n",
    "    },\n",
    ")"
   ]
  },
  {
   "cell_type": "code",
   "execution_count": 57,
   "metadata": {},
   "outputs": [
    {
     "data": {
      "text/markdown": [
       "$$\\eta{}_{\\mu}{}_{\\nu}\\Bigg|_{\\left(t, r, \\theta, \\phi\\right)} = \\left(\\begin{matrix}-1 & 0 & 0 & 0\\\\0 & 1 & 0 & 0\\\\0 & 0 & r^{2} & 0\\\\0 & 0 & 0 & r^{2} \\sin^{2}{\\left(\\theta \\right)}\\end{matrix}\\right)$$"
      ],
      "text/plain": [
       "<IPython.core.display.Markdown object>"
      ]
     },
     "metadata": {},
     "output_type": "display_data"
    }
   ],
   "source": [
    "Minkowski.show(coords=Spherical)"
   ]
  },
  {
   "cell_type": "code",
   "execution_count": 58,
   "metadata": {},
   "outputs": [
    {
     "data": {
      "text/markdown": [
       "$$T{}^{\\mu}{}^{\\nu}\\Bigg|_{\\left(t, r, \\theta, \\phi\\right)} = \\left(\\begin{matrix}\\rho & 0 & 0 & 0\\\\0 & p & 0 & 0\\\\0 & 0 & \\frac{p}{r^{2}} & 0\\\\0 & 0 & 0 & \\frac{p}{r^{2} \\sin^{2}{\\left(\\theta \\right)}}\\end{matrix}\\right)$$"
      ],
      "text/plain": [
       "<IPython.core.display.Markdown object>"
      ]
     },
     "metadata": {},
     "output_type": "display_data"
    }
   ],
   "source": [
    "PerfectFluid.show(coords=Spherical, indices=(1, 1))"
   ]
  },
  {
   "cell_type": "code",
   "execution_count": 59,
   "metadata": {},
   "outputs": [
    {
     "data": {
      "text/markdown": [
       "$$\\begin{align*}\n",
       "    K &= \\frac{48 M^{2}}{\\left(x^{2} + y^{2} + z^{2}\\right)^{3}} \n",
       "\\end{align*}$$"
      ],
      "text/plain": [
       "<IPython.core.display.Markdown object>"
      ]
     },
     "metadata": {},
     "output_type": "display_data"
    }
   ],
   "source": [
    "SchwarzschildKretschmann.list(coords=Cartesian)"
   ]
  },
  {
   "cell_type": "code",
   "execution_count": 61,
   "metadata": {},
   "outputs": [
    {
     "data": {
      "text/markdown": [
       "$$d\\Bigg|_{\\left(t, x, y, z\\right)} = \\sqrt{x^{2} + y^{2} + z^{2}}$$"
      ],
      "text/plain": [
       "<IPython.core.display.Markdown object>"
      ]
     },
     "metadata": {},
     "output_type": "display_data"
    }
   ],
   "source": [
    "SpatialDistance = gr.Tensor(\n",
    "    metric=Minkowski,\n",
    "    coords=Cartesian,\n",
    "    indices=(),\n",
    "    components=[gr.s.sqrt(x**2 + y**2 + z**2)],\n",
    "    symbol=\"d\",\n",
    ")\n",
    "\n",
    "SpatialDistance.show()"
   ]
  },
  {
   "cell_type": "code",
   "execution_count": 62,
   "metadata": {},
   "outputs": [
    {
     "data": {
      "text/markdown": [
       "$$d\\Bigg|_{\\left(t, r, \\theta, \\phi\\right)} = r$$"
      ],
      "text/plain": [
       "<IPython.core.display.Markdown object>"
      ]
     },
     "metadata": {},
     "output_type": "display_data"
    }
   ],
   "source": [
    "SpatialDistance.show(coords=Spherical)"
   ]
  },
  {
   "cell_type": "code",
   "execution_count": 63,
   "metadata": {},
   "outputs": [
    {
     "data": {
      "text/markdown": [
       "$$K\\Bigg|_{\\left(t, r, \\theta, \\phi\\right)} = \\frac{3}{62500}$$"
      ],
      "text/plain": [
       "<IPython.core.display.Markdown object>"
      ]
     },
     "metadata": {},
     "output_type": "display_data"
    }
   ],
   "source": [
    "SchwarzschildKretschmann.show(replace={M: 1, r: 10})"
   ]
  },
  {
   "cell_type": "code",
   "execution_count": 64,
   "metadata": {},
   "outputs": [
    {
     "data": {
      "text/markdown": [
       "$$\\begin{align*}\n",
       "    T{}^{t}{}^{t} = T{}^{x}{}^{x} = T{}^{y}{}^{y} = T{}^{z}{}^{z} &= \\rho \n",
       "\\end{align*}$$"
      ],
      "text/plain": [
       "<IPython.core.display.Markdown object>"
      ]
     },
     "metadata": {},
     "output_type": "display_data"
    }
   ],
   "source": [
    "PerfectFluid.list(replace={p: rho})"
   ]
  },
  {
   "cell_type": "code",
   "execution_count": 65,
   "metadata": {},
   "outputs": [
    {
     "data": {
      "text/markdown": [
       "$$\\begin{align*}\n",
       "    T{}^{t}{}^{t} = T{}^{x}{}^{x} = T{}^{y}{}^{y} = T{}^{z}{}^{z} &= \\rho \n",
       "\\end{align*}$$"
      ],
      "text/plain": [
       "<IPython.core.display.Markdown object>"
      ]
     },
     "metadata": {},
     "output_type": "display_data"
    }
   ],
   "source": [
    "PerfectFluid.list(coords=Cartesian, indices=(1, 1), replace={p: rho})"
   ]
  },
  {
   "cell_type": "markdown",
   "metadata": {},
   "source": [
    "# Tensor Information "
   ]
  },
  {
   "cell_type": "code",
   "execution_count": 66,
   "metadata": {},
   "outputs": [
    {
     "data": {
      "text/markdown": [
       "* **Name**: `Minkowski`\n",
       "* **Class**: `Metric`\n",
       "* **Symbol**: $\\eta{}_{\\mu}{}_{\\nu}$\n",
       "* **Rank**: 2\n",
       "* **Dimensions**: 4\n",
       "* **Default Coordinates**: `Cartesian`\n",
       "* **Default Indices**: (-1, -1)\n",
       "* **Associated Metric For**: `FourVelocity`, `PerfectFluid`, `SpatialDistance`\n"
      ],
      "text/plain": [
       "<IPython.core.display.Markdown object>"
      ]
     },
     "metadata": {},
     "output_type": "display_data"
    }
   ],
   "source": [
    "Minkowski.info()"
   ]
  },
  {
   "cell_type": "code",
   "execution_count": 67,
   "metadata": {},
   "outputs": [
    {
     "data": {
      "text/markdown": [
       "* **Name**: `PerfectFluid`\n",
       "* **Class**: `Tensor`\n",
       "* **Symbol**: $T{}^{\\mu}{}^{\\nu}$\n",
       "* **Rank**: 2\n",
       "* **Dimensions**: 4\n",
       "* **Default Coordinates**: `Cartesian`\n",
       "* **Default Indices**: (1, 1)\n",
       "* **Metric**: `Minkowski`\n"
      ],
      "text/plain": [
       "<IPython.core.display.Markdown object>"
      ]
     },
     "metadata": {},
     "output_type": "display_data"
    }
   ],
   "source": [
    "+PerfectFluid"
   ]
  },
  {
   "cell_type": "code",
   "execution_count": 68,
   "metadata": {},
   "outputs": [
    {
     "data": {
      "text/markdown": [
       "* **Name**: `Cartesian`\n",
       "* **Class**: Coordinates\n",
       "* **Dimensions**: 4\n",
       "* **Default Coordinates For**: `Minkowski`, `Alcubierre`, `FourVelocity`, `PerfectFluid`, `SpatialDistance`\n"
      ],
      "text/plain": [
       "<IPython.core.display.Markdown object>"
      ]
     },
     "metadata": {},
     "output_type": "display_data"
    }
   ],
   "source": [
    "+Cartesian"
   ]
  },
  {
   "cell_type": "code",
   "execution_count": 69,
   "metadata": {},
   "outputs": [
    {
     "data": {
      "text/plain": [
       "'T[0][1]'"
      ]
     },
     "execution_count": 69,
     "metadata": {},
     "output_type": "execute_result"
    }
   ],
   "source": [
    "PerfectFluid.symbol"
   ]
  },
  {
   "cell_type": "code",
   "execution_count": 70,
   "metadata": {},
   "outputs": [
    {
     "data": {
      "text/latex": [
       "$\\displaystyle T{}^{\\mu}{}^{\\nu}$"
      ],
      "text/plain": [
       "<IPython.core.display.Math object>"
      ]
     },
     "execution_count": 70,
     "metadata": {},
     "output_type": "execute_result"
    }
   ],
   "source": [
    "Math(PerfectFluid.tex_symbol())"
   ]
  },
  {
   "cell_type": "code",
   "execution_count": 71,
   "metadata": {},
   "outputs": [
    {
     "data": {
      "text/plain": [
       "(1, 1)"
      ]
     },
     "execution_count": 71,
     "metadata": {},
     "output_type": "execute_result"
    }
   ],
   "source": [
    "PerfectFluid.default_indices"
   ]
  },
  {
   "cell_type": "code",
   "execution_count": 72,
   "metadata": {},
   "outputs": [
    {
     "data": {
      "text/markdown": [
       "$$\\left(\\begin{matrix}t & x & y & z\\end{matrix}\\right)$$"
      ],
      "text/plain": [
       "<OGRePy._core.Coordinates at 0x10dc38e50>"
      ]
     },
     "execution_count": 72,
     "metadata": {},
     "output_type": "execute_result"
    }
   ],
   "source": [
    "PerfectFluid.default_coords"
   ]
  },
  {
   "cell_type": "code",
   "execution_count": 73,
   "metadata": {},
   "outputs": [
    {
     "data": {
      "text/markdown": [
       "$$\\eta{}_{\\mu}{}_{\\nu}\\Bigg|_{\\left(t, x, y, z\\right)} = \\left(\\begin{matrix}-1 & 0 & 0 & 0\\\\0 & 1 & 0 & 0\\\\0 & 0 & 1 & 0\\\\0 & 0 & 0 & 1\\end{matrix}\\right)$$"
      ],
      "text/plain": [
       "<OGRePy._core.Metric at 0x10dabb750>"
      ]
     },
     "execution_count": 73,
     "metadata": {},
     "output_type": "execute_result"
    }
   ],
   "source": [
    "PerfectFluid.metric()"
   ]
  },
  {
   "cell_type": "code",
   "execution_count": 74,
   "metadata": {},
   "outputs": [
    {
     "data": {
      "text/plain": [
       "'Cartesian'"
      ]
     },
     "execution_count": 74,
     "metadata": {},
     "output_type": "execute_result"
    }
   ],
   "source": [
    "str(PerfectFluid.default_coords)"
   ]
  },
  {
   "cell_type": "code",
   "execution_count": 75,
   "metadata": {},
   "outputs": [
    {
     "data": {
      "text/markdown": [
       "9 tensor objects created: 2 coordinates, 3 metrics, 4 tensors.\n",
       "\n",
       "Coordinate systems:\n",
       "1. `Cartesian` (id: `0x10dc38e50`), default for: ``Minkowski``, ``Alcubierre``, ``FourVelocity``, ``PerfectFluid``, ``SpatialDistance``\n",
       "2. `Spherical` (id: `0x10e0f8cc0`), default for: ``Schwarzschild``, ``SchwarzschildKretschmann``\n",
       "\n",
       "Metrics and associated tensors:\n",
       "1. `Minkowski` (symbol: $\\eta{}_{\\mu}{}_{\\nu}$) (id: `0x10dabb750`), used by: ``FourVelocity``, ``PerfectFluid``, ``SpatialDistance``\n",
       "2. `Schwarzschild` (symbol: $g{}_{\\mu}{}_{\\nu}$) (id: `0x10e163540`), used by: ``SchwarzschildKretschmann``\n",
       "3. `Alcubierre` (symbol: $g{}_{\\mu}{}_{\\nu}$) (id: `0x10e163490`)\n",
       "\n",
       "Tensors:\n",
       "1. `SchwarzschildKretschmann` (symbol: $K$) (id: `0x10e58d0d0`)\n",
       "2. `FourVelocity` (symbol: $u{}^{\\mu}$) (id: `0x10e58fdd0`)\n",
       "3. `PerfectFluid` (symbol: $T{}^{\\mu}{}^{\\nu}$) (id: `0x10e558450`)\n",
       "4. `SpatialDistance` (symbol: $d$) (id: `0x10e65fc40`)\n"
      ],
      "text/plain": [
       "<IPython.core.display.Markdown object>"
      ]
     },
     "metadata": {},
     "output_type": "display_data"
    }
   ],
   "source": [
    "gr.info()"
   ]
  },
  {
   "cell_type": "code",
   "execution_count": 80,
   "metadata": {},
   "outputs": [
    {
     "data": {
      "text/latex": [
       "$\\displaystyle - \\frac{r}{- 2 M + r}$"
      ],
      "text/plain": [
       "-r/(-2*M + r)"
      ]
     },
     "execution_count": 80,
     "metadata": {},
     "output_type": "execute_result"
    }
   ],
   "source": [
    "InverseSchwarzschild = Schwarzschild.components(coords=Spherical, indices=(1, 1))\n",
    "\n",
    "InverseSchwarzschild[0, 0]"
   ]
  },
  {
   "cell_type": "code",
   "execution_count": 81,
   "metadata": {},
   "outputs": [
    {
     "data": {
      "text/markdown": [
       "**OGRePy**: Using default coordinate system `Spherical` and default index configuration (-1, -1)."
      ],
      "text/plain": [
       "<IPython.core.display.Markdown object>"
      ]
     },
     "metadata": {},
     "output_type": "display_data"
    },
    {
     "data": {
      "text/latex": [
       "$\\displaystyle \\left[\\begin{matrix}\\frac{2 M}{r} - 1 & 0 & 0 & 0\\\\0 & \\frac{1}{- \\frac{2 M}{r} + 1} & 0 & 0\\\\0 & 0 & r^{2} & 0\\\\0 & 0 & 0 & r^{2} \\sin^{2}{\\left(\\theta \\right)}\\end{matrix}\\right]$"
      ],
      "text/plain": [
       "[[2*M/r - 1, 0, 0, 0], [0, 1/(-2*M/r + 1), 0, 0], [0, 0, r**2, 0], [0, 0, 0, r**2*sin(\\theta)**2]]"
      ]
     },
     "execution_count": 81,
     "metadata": {},
     "output_type": "execute_result"
    }
   ],
   "source": [
    "Schwarzschild.components()"
   ]
  },
  {
   "cell_type": "code",
   "execution_count": 82,
   "metadata": {},
   "outputs": [
    {
     "data": {
      "text/markdown": [
       "**OGRePy**: Using default coordinate system `Spherical` and default index configuration (-1, -1)."
      ],
      "text/plain": [
       "<IPython.core.display.Markdown object>"
      ]
     },
     "metadata": {},
     "output_type": "display_data"
    },
    {
     "data": {
      "text/latex": [
       "$\\displaystyle \\left[\\begin{matrix}\\frac{2 M}{r} - 1 & 0 & 0 & 0\\\\0 & \\frac{1}{- \\frac{2 M}{r} + 1} & 0 & 0\\\\0 & 0 & r^{2} & 0\\\\0 & 0 & 0 & r^{2}\\end{matrix}\\right]$"
      ],
      "text/plain": [
       "[[2*M/r - 1, 0, 0, 0], [0, 1/(-2*M/r + 1), 0, 0], [0, 0, r**2, 0], [0, 0, 0, r**2]]"
      ]
     },
     "execution_count": 82,
     "metadata": {},
     "output_type": "execute_result"
    }
   ],
   "source": [
    "Schwarzschild.components().subs({theta: gr.s.pi / 2})"
   ]
  },
  {
   "cell_type": "code",
   "execution_count": 83,
   "metadata": {},
   "outputs": [
    {
     "data": {
      "text/latex": [
       "$\\displaystyle \\left[\\begin{matrix}t & r & \\theta & \\phi\\end{matrix}\\right]$"
      ],
      "text/plain": [
       "[t, r, \\theta, \\phi]"
      ]
     },
     "execution_count": 83,
     "metadata": {},
     "output_type": "execute_result"
    }
   ],
   "source": [
    "Spherical.components()"
   ]
  },
  {
   "cell_type": "markdown",
   "metadata": {},
   "source": [
    "# Comparing Tensors"
   ]
  },
  {
   "cell_type": "code",
   "execution_count": 84,
   "metadata": {},
   "outputs": [
    {
     "data": {
      "text/plain": [
       "True"
      ]
     },
     "execution_count": 84,
     "metadata": {},
     "output_type": "execute_result"
    }
   ],
   "source": [
    "Minkowski2 = gr.Metric(\n",
    "    coords=Cartesian,\n",
    "    components=gr.diag(-1, 1, 1, 1),\n",
    "    symbol=\"eta\",\n",
    ")\n",
    "\n",
    "PerfectFluid2 = gr.Tensor(\n",
    "    metric=Minkowski2,\n",
    "    coords=Cartesian,\n",
    "    indices=(1, 1),\n",
    "    components=gr.diag(rho, p, p, p),\n",
    "    symbol=\"T\",\n",
    ")\n",
    "\n",
    "gr.compare(PerfectFluid, PerfectFluid2)"
   ]
  },
  {
   "cell_type": "code",
   "execution_count": 85,
   "metadata": {},
   "outputs": [
    {
     "data": {
      "text/plain": [
       "False"
      ]
     },
     "execution_count": 85,
     "metadata": {},
     "output_type": "execute_result"
    }
   ],
   "source": [
    "PerfectFluid == PerfectFluid2"
   ]
  },
  {
   "cell_type": "code",
   "execution_count": 86,
   "metadata": {},
   "outputs": [
    {
     "data": {
      "text/plain": [
       "False"
      ]
     },
     "execution_count": 86,
     "metadata": {},
     "output_type": "execute_result"
    }
   ],
   "source": [
    "PerfectFluid is PerfectFluid2"
   ]
  },
  {
   "cell_type": "markdown",
   "metadata": {},
   "source": [
    "# Tensor Calculations"
   ]
  },
  {
   "cell_type": "markdown",
   "metadata": {},
   "source": [
    "## Addition "
   ]
  },
  {
   "cell_type": "code",
   "execution_count": 87,
   "metadata": {},
   "outputs": [],
   "source": [
    "from OGRePy.abc import mu, nu\n",
    "\n",
    "result = Minkowski(mu, nu) + PerfectFluid(mu, nu)"
   ]
  },
  {
   "cell_type": "code",
   "execution_count": 88,
   "metadata": {},
   "outputs": [
    {
     "data": {
      "text/markdown": [
       "$$S{}_{\\mu}{}_{\\nu}\\Bigg|_{\\left(t, x, y, z\\right)} = \\left(\\begin{matrix}\\rho - 1 & 0 & 0 & 0\\\\0 & p + 1 & 0 & 0\\\\0 & 0 & p + 1 & 0\\\\0 & 0 & 0 & p + 1\\end{matrix}\\right)$$"
      ],
      "text/plain": [
       "<OGRePy._core.Tensor at 0x10e25c2c0>"
      ]
     },
     "execution_count": 88,
     "metadata": {},
     "output_type": "execute_result"
    }
   ],
   "source": [
    "result.symbol = \"S\"\n",
    "result"
   ]
  },
  {
   "cell_type": "code",
   "execution_count": 90,
   "metadata": {},
   "outputs": [
    {
     "data": {
      "text/markdown": [
       "$$N{}_{\\mu}{}_{\\nu}\\Bigg|_{\\left(t, x, y, z\\right)} = \\left(\\begin{matrix}0 & 0 & 0 & 1\\\\0 & 0 & 0 & 0\\\\0 & 0 & 0 & 0\\\\0 & 0 & 0 & 0\\end{matrix}\\right)$$"
      ],
      "text/plain": [
       "<OGRePy._core.Tensor at 0x10ea14540>"
      ]
     },
     "execution_count": 90,
     "metadata": {},
     "output_type": "execute_result"
    }
   ],
   "source": [
    "NonSymmetric = gr.Tensor(\n",
    "    metric=Minkowski,\n",
    "    coords=Cartesian,\n",
    "    indices=(-1, -1),\n",
    "    components=[[0, 0, 0, 1], [0, 0, 0, 0], [0, 0, 0, 0], [0, 0, 0, 0]],\n",
    "    symbol=\"N\",\n",
    ")\n",
    "\n",
    "NonSymmetric"
   ]
  },
  {
   "cell_type": "code",
   "execution_count": 91,
   "metadata": {},
   "outputs": [
    {
     "data": {
      "text/markdown": [
       "$$\\eta{}_{\\mu}{}_{\\nu} + N{}_{\\mu}{}_{\\nu}\\Bigg|_{\\left(t, x, y, z\\right)} = \\left(\\begin{matrix}-1 & 0 & 0 & 1\\\\0 & 1 & 0 & 0\\\\0 & 0 & 1 & 0\\\\0 & 0 & 0 & 1\\end{matrix}\\right)$$"
      ],
      "text/plain": [
       "<OGRePy._core.Tensor at 0x10ea17dd0>"
      ]
     },
     "execution_count": 91,
     "metadata": {},
     "output_type": "execute_result"
    }
   ],
   "source": [
    "Minkowski(mu, nu) + NonSymmetric(mu, nu)"
   ]
  },
  {
   "cell_type": "code",
   "execution_count": 92,
   "metadata": {},
   "outputs": [
    {
     "data": {
      "text/markdown": [
       "$$\\eta{}_{\\mu}{}_{\\nu} + N{}_{\\nu}{}_{\\mu}\\Bigg|_{\\left(t, x, y, z\\right)} = \\left(\\begin{matrix}-1 & 0 & 0 & 0\\\\0 & 1 & 0 & 0\\\\0 & 0 & 1 & 0\\\\1 & 0 & 0 & 1\\end{matrix}\\right)$$"
      ],
      "text/plain": [
       "<OGRePy._core.Tensor at 0x10e99c220>"
      ]
     },
     "execution_count": 92,
     "metadata": {},
     "output_type": "execute_result"
    }
   ],
   "source": [
    "# flipping the indices\n",
    "Minkowski(mu, nu) + NonSymmetric(nu, mu)"
   ]
  },
  {
   "cell_type": "code",
   "execution_count": 93,
   "metadata": {},
   "outputs": [
    {
     "data": {
      "text/markdown": [
       "$$\\eta{}_{\\mu}{}_{\\nu} + T{}_{\\mu}{}_{\\nu} + N{}_{\\mu}{}_{\\nu} + N{}_{\\nu}{}_{\\mu}\\Bigg|_{\\left(t, x, y, z\\right)} = \\left(\\begin{matrix}\\rho - 1 & 0 & 0 & 1\\\\0 & p + 1 & 0 & 0\\\\0 & 0 & p + 1 & 0\\\\1 & 0 & 0 & p + 1\\end{matrix}\\right)$$"
      ],
      "text/plain": [
       "<OGRePy._core.Tensor at 0x10ea17ec0>"
      ]
     },
     "execution_count": 93,
     "metadata": {},
     "output_type": "execute_result"
    }
   ],
   "source": [
    "Minkowski(mu, nu) + PerfectFluid(mu, nu) + NonSymmetric(mu, nu) + NonSymmetric(nu, mu)"
   ]
  },
  {
   "cell_type": "code",
   "execution_count": 94,
   "metadata": {},
   "outputs": [
    {
     "data": {
      "text/markdown": [
       "$$\\eta{}_{\\mu}{}_{\\nu} + T{}_{\\mu}{}_{\\nu} + N{}_{\\mu}{}_{\\nu} + N{}_{\\nu}{}_{\\mu}\\Bigg|_{\\left(t, x, y, z\\right)} = \\left(\\begin{matrix}\\rho - 1 & 0 & 0 & 1\\\\0 & p + 1 & 0 & 0\\\\0 & 0 & p + 1 & 0\\\\1 & 0 & 0 & p + 1\\end{matrix}\\right)$$"
      ],
      "text/plain": [
       "<OGRePy._core.Tensor at 0x10ea4b600>"
      ]
     },
     "execution_count": 94,
     "metadata": {},
     "output_type": "execute_result"
    }
   ],
   "source": [
    "Minkowski(mu, nu) + PerfectFluid(\"mu nu\") + NonSymmetric(\"mu\", nu) + NonSymmetric(\"nu\", \"mu\")"
   ]
  },
  {
   "cell_type": "code",
   "execution_count": 95,
   "metadata": {},
   "outputs": [
    {
     "data": {
      "text/markdown": [
       "$$N{}_{\\mu}{}_{\\nu}\\Bigg|_{\\left(t, x, y, z\\right)} = \\left(\\begin{matrix}0 & 0 & 0 & 1\\\\0 & 0 & 0 & 0\\\\0 & 0 & 0 & 0\\\\0 & 0 & 0 & 0\\end{matrix}\\right)$$"
      ],
      "text/plain": [
       "<OGRePy._core.Tensor at 0x10ea14540>"
      ]
     },
     "execution_count": 95,
     "metadata": {},
     "output_type": "execute_result"
    }
   ],
   "source": [
    "NonSymmetric"
   ]
  },
  {
   "cell_type": "code",
   "execution_count": 96,
   "metadata": {},
   "outputs": [
    {
     "data": {
      "text/markdown": [
       "$$N{}_{\\alpha}{}_{\\beta}\\Bigg|_{\\left(t, x, y, z\\right)} = \\left(\\begin{matrix}0 & 0 & 0 & 1\\\\0 & 0 & 0 & 0\\\\0 & 0 & 0 & 0\\\\0 & 0 & 0 & 0\\end{matrix}\\right)$$"
      ],
      "text/plain": [
       "<OGRePy._core.Tensor at 0x10ea4aa20>"
      ]
     },
     "execution_count": 96,
     "metadata": {},
     "output_type": "execute_result"
    }
   ],
   "source": [
    "NonSymmetric(\"alpha beta\")"
   ]
  },
  {
   "cell_type": "code",
   "execution_count": 97,
   "metadata": {},
   "outputs": [
    {
     "data": {
      "text/markdown": [
       "$$N{}_{a}{}_{b}\\Bigg|_{\\left(t, x, y, z\\right)} = \\left(\\begin{matrix}0 & 0 & 0 & 1\\\\0 & 0 & 0 & 0\\\\0 & 0 & 0 & 0\\\\0 & 0 & 0 & 0\\end{matrix}\\right)$$"
      ],
      "text/plain": [
       "<OGRePy._core.Tensor at 0x10ea4b7e0>"
      ]
     },
     "execution_count": 97,
     "metadata": {},
     "output_type": "execute_result"
    }
   ],
   "source": [
    "NonSymmetric[\"ab\"]"
   ]
  },
  {
   "cell_type": "markdown",
   "metadata": {},
   "source": [
    "# Multiplication by Scalars"
   ]
  },
  {
   "cell_type": "code",
   "execution_count": 98,
   "metadata": {},
   "outputs": [
    {
     "data": {
      "text/markdown": [
       "$$2 \\eta{}_{\\mu}{}_{\\nu}\\Bigg|_{\\left(t, x, y, z\\right)} = \\left(\\begin{matrix}-2 & 0 & 0 & 0\\\\0 & 2 & 0 & 0\\\\0 & 0 & 2 & 0\\\\0 & 0 & 0 & 2\\end{matrix}\\right)$$"
      ],
      "text/plain": [
       "<OGRePy._core.Tensor at 0x10ea178d0>"
      ]
     },
     "execution_count": 98,
     "metadata": {},
     "output_type": "execute_result"
    }
   ],
   "source": [
    "2 * Minkowski(mu, nu)"
   ]
  },
  {
   "cell_type": "code",
   "execution_count": 99,
   "metadata": {},
   "outputs": [
    {
     "data": {
      "text/markdown": [
       "$$2  t \\eta{}_{\\mu}{}_{\\nu} - 3  x T{}_{\\mu}{}_{\\nu} + 4  y N{}_{\\mu}{}_{\\nu} - 5  z N{}_{\\nu}{}_{\\mu}\\Bigg|_{\\left(t, x, y, z\\right)} = \\left(\\begin{matrix}- 3 \\rho x - 2 t & 0 & 0 & 4 y\\\\0 & - 3 p x + 2 t & 0 & 0\\\\0 & 0 & - 3 p x + 2 t & 0\\\\- 5 z & 0 & 0 & - 3 p x + 2 t\\end{matrix}\\right)$$"
      ],
      "text/plain": [
       "<OGRePy._core.Tensor at 0x10ea119e0>"
      ]
     },
     "execution_count": 99,
     "metadata": {},
     "output_type": "execute_result"
    }
   ],
   "source": [
    "2 * t * Minkowski(mu, nu) - 3 * x * PerfectFluid(mu, nu) + 4 * y * NonSymmetric(mu, nu) - 5 * z * NonSymmetric(nu, mu)"
   ]
  },
  {
   "cell_type": "markdown",
   "metadata": {},
   "source": [
    "# Traces and Contractions"
   ]
  },
  {
   "cell_type": "code",
   "execution_count": 100,
   "metadata": {},
   "outputs": [
    {
     "data": {
      "text/markdown": [
       "$$T{}^{\\mu}{}^{\\nu}\\Bigg|_{\\left(t, x, y, z\\right)} = \\left(\\begin{matrix}\\frac{- \\rho - p v^{2}}{v^{2} - 1} & - \\frac{v \\left(\\rho + p\\right)}{v^{2} - 1} & 0 & 0\\\\- \\frac{v \\left(\\rho + p\\right)}{v^{2} - 1} & \\frac{- \\rho v^{2} - p}{v^{2} - 1} & 0 & 0\\\\0 & 0 & p & 0\\\\0 & 0 & 0 & p\\end{matrix}\\right)$$"
      ],
      "text/plain": [
       "<OGRePy._core.Tensor at 0x10e5b8770>"
      ]
     },
     "execution_count": 100,
     "metadata": {},
     "output_type": "execute_result"
    }
   ],
   "source": [
    "PerfectFluidFromVelocity = (rho + p) * FourVelocity(mu) @ FourVelocity(nu) + p * Minkowski(mu, nu)\n",
    "PerfectFluidFromVelocity.symbol = \"T\"\n",
    "PerfectFluidFromVelocity"
   ]
  },
  {
   "cell_type": "code",
   "execution_count": null,
   "metadata": {},
   "outputs": [
    {
     "data": {
      "text/markdown": [
       "$$u{}^{\\mu} u{}^{\\nu}\\Bigg|_{\\left(t, x, y, z\\right)} = \\left(\\begin{matrix}- \\frac{1}{v^{2} - 1} & - \\frac{v}{v^{2} - 1} & 0 & 0\\\\- \\frac{v}{v^{2} - 1} & - \\frac{v^{2}}{v^{2} - 1} & 0 & 0\\\\0 & 0 & 0 & 0\\\\0 & 0 & 0 & 0\\end{matrix}\\right)$$"
      ],
      "text/plain": [
       "<OGRePy._core.Tensor at 0x10ea11940>"
      ]
     },
     "execution_count": 101,
     "metadata": {},
     "output_type": "execute_result"
    }
   ],
   "source": [
    "# this is an outer product \n",
    "FourVelocity(mu) @ FourVelocity(nu)"
   ]
  },
  {
   "cell_type": "code",
   "execution_count": 102,
   "metadata": {},
   "outputs": [
    {
     "data": {
      "text/markdown": [
       "$$T{}^{\\mu}{}^{\\nu}\\Bigg|_{\\left(t, x, y, z\\right)} = \\left(\\begin{matrix}\\rho & 0 & 0 & 0\\\\0 & p & 0 & 0\\\\0 & 0 & p & 0\\\\0 & 0 & 0 & p\\end{matrix}\\right)$$"
      ],
      "text/plain": [
       "<IPython.core.display.Markdown object>"
      ]
     },
     "metadata": {},
     "output_type": "display_data"
    }
   ],
   "source": [
    "PerfectFluidFromVelocity.show(replace={v: 0})"
   ]
  },
  {
   "cell_type": "code",
   "execution_count": 103,
   "metadata": {},
   "outputs": [
    {
     "data": {
      "text/markdown": [
       "$$d \\eta{}_{\\mu}{}_{\\nu}\\Bigg|_{\\left(t, r, \\theta, \\phi\\right)} = \\left(\\begin{matrix}- r & 0 & 0 & 0\\\\0 & r & 0 & 0\\\\0 & 0 & r^{3} & 0\\\\0 & 0 & 0 & r^{3} \\sin^{2}{\\left(\\theta \\right)}\\end{matrix}\\right)$$"
      ],
      "text/plain": [
       "<IPython.core.display.Markdown object>"
      ]
     },
     "metadata": {},
     "output_type": "display_data"
    }
   ],
   "source": [
    "(SpatialDistance() @ Minkowski(mu, nu)).show(coords=Spherical)"
   ]
  },
  {
   "cell_type": "code",
   "execution_count": 104,
   "metadata": {},
   "outputs": [
    {
     "data": {
      "text/markdown": [
       "$$d d\\Bigg|_{\\left(t, x, y, z\\right)} = x^{2} + y^{2} + z^{2}$$"
      ],
      "text/plain": [
       "<OGRePy._core.Tensor at 0x10e94ade0>"
      ]
     },
     "execution_count": 104,
     "metadata": {},
     "output_type": "execute_result"
    }
   ],
   "source": [
    "SpatialDistance() @ SpatialDistance()"
   ]
  },
  {
   "cell_type": "code",
   "execution_count": 105,
   "metadata": {},
   "outputs": [
    {
     "data": {
      "text/markdown": [
       "$$u{}_{\\mu} u{}^{\\mu}\\Bigg|_{\\left(t, x, y, z\\right)} = -1$$"
      ],
      "text/plain": [
       "<OGRePy._core.Tensor at 0x10ea0b740>"
      ]
     },
     "execution_count": 105,
     "metadata": {},
     "output_type": "execute_result"
    }
   ],
   "source": [
    "FourVelocity(mu) @ FourVelocity(mu)"
   ]
  },
  {
   "cell_type": "code",
   "execution_count": 106,
   "metadata": {},
   "outputs": [
    {
     "data": {
      "text/markdown": [
       "$$u{}_{\\mu} T{}^{\\mu}{}_{\\nu} N{}^{\\nu}{}_{\\rho}\\Bigg|_{\\left(t, x, y, z\\right)} = \\left(\\begin{matrix}0\\\\0\\\\0\\\\- \\frac{\\rho}{\\sqrt{1 - v^{2}}}\\end{matrix}\\right)$$"
      ],
      "text/plain": [
       "<OGRePy._core.Tensor at 0x10ea0b1a0>"
      ]
     },
     "execution_count": 106,
     "metadata": {},
     "output_type": "execute_result"
    }
   ],
   "source": [
    "FourVelocity(mu) @ PerfectFluidFromVelocity(mu, nu) @ NonSymmetric(nu, rho)"
   ]
  },
  {
   "cell_type": "code",
   "execution_count": 107,
   "metadata": {},
   "outputs": [
    {
     "data": {
      "text/markdown": [
       "$$\\eta{}_{\\mu}{}^{\\mu}\\Bigg|_{\\left(t, x, y, z\\right)} = 4$$"
      ],
      "text/plain": [
       "<OGRePy._core.Tensor at 0x10e9ef560>"
      ]
     },
     "execution_count": 107,
     "metadata": {},
     "output_type": "execute_result"
    }
   ],
   "source": [
    "Minkowski(mu, mu)"
   ]
  },
  {
   "cell_type": "code",
   "execution_count": 108,
   "metadata": {},
   "outputs": [
    {
     "data": {
      "text/markdown": [
       "$$T{}_{\\mu}{}^{\\mu}\\Bigg|_{\\left(t, x, y, z\\right)} = - \\rho + 3 p$$"
      ],
      "text/plain": [
       "<OGRePy._core.Tensor at 0x10ea094e0>"
      ]
     },
     "execution_count": 108,
     "metadata": {},
     "output_type": "execute_result"
    }
   ],
   "source": [
    "PerfectFluid(\"mu mu\")"
   ]
  },
  {
   "cell_type": "markdown",
   "metadata": {},
   "source": [
    "# Derivatives and Curvature Tensors"
   ]
  },
  {
   "cell_type": "code",
   "execution_count": 110,
   "metadata": {},
   "outputs": [
    {
     "data": {
      "text/markdown": [
       "$$K\\Bigg|_{\\left(t, r, \\theta, \\phi\\right)} = \\frac{48 M^{2}}{r^{6}}$$"
      ],
      "text/plain": [
       "<OGRePy._core.Tensor at 0x10e9ee430>"
      ]
     },
     "execution_count": 110,
     "metadata": {},
     "output_type": "execute_result"
    }
   ],
   "source": [
    "SchwarzschildKretschmann()"
   ]
  },
  {
   "cell_type": "markdown",
   "metadata": {},
   "source": [
    "## gradient"
   ]
  },
  {
   "cell_type": "code",
   "execution_count": 109,
   "metadata": {},
   "outputs": [
    {
     "data": {
      "text/markdown": [
       "$$\\partial{}_{\\mu} K\\Bigg|_{\\left(t, r, \\theta, \\phi\\right)} = \\left(\\begin{matrix}0\\\\- \\frac{288 M^{2}}{r^{7}}\\\\0\\\\0\\end{matrix}\\right)$$"
      ],
      "text/plain": [
       "<OGRePy._core.Tensor at 0x10e9eed40>"
      ]
     },
     "execution_count": 109,
     "metadata": {},
     "output_type": "execute_result"
    }
   ],
   "source": [
    "gr.PartialD(mu) @ SchwarzschildKretschmann()"
   ]
  },
  {
   "cell_type": "code",
   "execution_count": 111,
   "metadata": {},
   "outputs": [
    {
     "data": {
      "text/markdown": [
       "$$\\partial{}_{\\mu} g{}_{\\alpha}{}_{\\beta}\\Bigg|_{\\left(t, r, \\theta, \\phi\\right)} = \\left(\\begin{matrix}\\left(\\begin{matrix}0 & 0 & 0 & 0\\\\0 & 0 & 0 & 0\\\\0 & 0 & 0 & 0\\\\0 & 0 & 0 & 0\\end{matrix}\\right) & \\left(\\begin{matrix}- \\frac{2 M}{r^{2}} & 0 & 0 & 0\\\\0 & - \\frac{2 M}{r^{2} \\left(- \\frac{2 M}{r} + 1\\right)^{2}} & 0 & 0\\\\0 & 0 & 2 r & 0\\\\0 & 0 & 0 & 2 r \\sin^{2}{\\left(\\theta \\right)}\\end{matrix}\\right) & \\left(\\begin{matrix}0 & 0 & 0 & 0\\\\0 & 0 & 0 & 0\\\\0 & 0 & 0 & 0\\\\0 & 0 & 0 & 2 r^{2} \\sin{\\left(\\theta \\right)} \\cos{\\left(\\theta \\right)}\\end{matrix}\\right) & \\left(\\begin{matrix}0 & 0 & 0 & 0\\\\0 & 0 & 0 & 0\\\\0 & 0 & 0 & 0\\\\0 & 0 & 0 & 0\\end{matrix}\\right)\\end{matrix}\\right)$$"
      ],
      "text/plain": [
       "<OGRePy._core.Tensor at 0x10e9ee6b0>"
      ]
     },
     "execution_count": 111,
     "metadata": {},
     "output_type": "execute_result"
    }
   ],
   "source": [
    "gr.PartialD(mu) @ Schwarzschild(\"alpha beta\")"
   ]
  },
  {
   "cell_type": "code",
   "execution_count": 113,
   "metadata": {},
   "outputs": [
    {
     "data": {
      "text/markdown": [
       "$$\\begin{align*}\n",
       "    \\partial{}_{r} g{}_{t}{}_{t} &= - \\frac{2 M}{r^{2}} \\\\\n",
       "    \\partial{}_{r} g{}_{r}{}_{r} &= - \\frac{2 M}{r^{2} \\left(- \\frac{2 M}{r} + 1\\right)^{2}} \\\\\n",
       "    \\partial{}_{r} g{}_{\\theta}{}_{\\theta} &= 2 r \\\\\n",
       "    \\partial{}_{r} g{}_{\\phi}{}_{\\phi} &= 2 r \\sin^{2}{\\left(\\theta \\right)} \\\\\n",
       "    \\partial{}_{\\theta} g{}_{\\phi}{}_{\\phi} &= 2 r^{2} \\sin{\\left(\\theta \\right)} \\cos{\\left(\\theta \\right)} \n",
       "\\end{align*}$$"
      ],
      "text/plain": [
       "<IPython.core.display.Markdown object>"
      ]
     },
     "metadata": {},
     "output_type": "display_data"
    }
   ],
   "source": [
    "~(gr.PartialD(mu) @ Schwarzschild(\"alpha beta\"))"
   ]
  },
  {
   "cell_type": "markdown",
   "metadata": {},
   "source": [
    "## divergence"
   ]
  },
  {
   "cell_type": "code",
   "execution_count": 115,
   "metadata": {},
   "outputs": [
    {
     "data": {
      "text/markdown": [
       "$$x{}^{\\mu}\\Bigg|_{\\left(t, x, y, z\\right)} = \\left(\\begin{matrix}t\\\\x\\\\y\\\\z\\end{matrix}\\right)$$"
      ],
      "text/plain": [
       "<OGRePy._core.Tensor at 0x10eaab3d0>"
      ]
     },
     "execution_count": 115,
     "metadata": {},
     "output_type": "execute_result"
    }
   ],
   "source": [
    "Position = gr.Tensor(\n",
    "    metric=Minkowski,\n",
    "    coords=Cartesian,\n",
    "    indices=(1,),\n",
    "    components=[t, x, y, z],\n",
    "    symbol=\"x\",\n",
    ")\n",
    "Position"
   ]
  },
  {
   "cell_type": "code",
   "execution_count": 117,
   "metadata": {},
   "outputs": [
    {
     "data": {
      "text/markdown": [
       "$$\\partial{}_{\\mu} x{}^{\\nu}\\Bigg|_{\\left(t, x, y, z\\right)} = \\left(\\begin{matrix}1 & 0 & 0 & 0\\\\0 & 1 & 0 & 0\\\\0 & 0 & 1 & 0\\\\0 & 0 & 0 & 1\\end{matrix}\\right)$$"
      ],
      "text/plain": [
       "<OGRePy._core.Tensor at 0x10eae9ad0>"
      ]
     },
     "execution_count": 117,
     "metadata": {},
     "output_type": "execute_result"
    }
   ],
   "source": [
    "# gradient, different indicies\n",
    "gr.PartialD(mu) @ Position(nu)"
   ]
  },
  {
   "cell_type": "code",
   "execution_count": 118,
   "metadata": {},
   "outputs": [
    {
     "data": {
      "text/markdown": [
       "$$\\partial{}_{\\mu} x{}^{\\mu}\\Bigg|_{\\left(t, x, y, z\\right)} = 4$$"
      ],
      "text/plain": [
       "<OGRePy._core.Tensor at 0x10eaea4d0>"
      ]
     },
     "execution_count": 118,
     "metadata": {},
     "output_type": "execute_result"
    }
   ],
   "source": [
    "gr.PartialD(mu) @ Position(mu)"
   ]
  },
  {
   "cell_type": "markdown",
   "metadata": {},
   "source": [
    "WARNING: When applying partial derivatives to tensors, the result generally does not transform like a tensor under a coordinate transformation. For this reason, in general relativity we normally use the covariant derivative instead of a partial derivative. However, there are three important exceptions, where partial derivatives must be used: in the covariant derivative itself, the Levi-Civita connection, and the Riemann tensor, all of which will be discussed below."
   ]
  },
  {
   "cell_type": "markdown",
   "metadata": {},
   "source": [
    "# The Chistoffel Symbols"
   ]
  },
  {
   "cell_type": "code",
   "execution_count": null,
   "metadata": {},
   "outputs": [],
   "source": []
  }
 ],
 "metadata": {
  "kernelspec": {
   "display_name": "gr-env",
   "language": "python",
   "name": "python3"
  },
  "language_info": {
   "codemirror_mode": {
    "name": "ipython",
    "version": 3
   },
   "file_extension": ".py",
   "mimetype": "text/x-python",
   "name": "python",
   "nbconvert_exporter": "python",
   "pygments_lexer": "ipython3",
   "version": "3.12.7"
  }
 },
 "nbformat": 4,
 "nbformat_minor": 2
}
