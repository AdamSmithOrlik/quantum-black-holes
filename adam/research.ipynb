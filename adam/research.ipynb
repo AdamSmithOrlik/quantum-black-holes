{
 "cells": [
  {
   "cell_type": "code",
   "execution_count": 1,
   "metadata": {},
   "outputs": [
    {
     "data": {
      "text/markdown": [
       "**OGRePy: An <u>O</u>bject-Oriented <u>G</u>eneral <u>Re</u>lativity Package for <u>Py</u>thon\\\n",
       "By [Barak Shoshany](https://github.com/bshoshany) ([baraksh@gmail.com](mailto:baraksh@gmail.com)) ([baraksh.com](https://baraksh.com/))\\\n",
       "v1.2.0 (2024-09-15)\\\n",
       "GitHub repository: <https://github.com/bshoshany/OGRePy>\\\n",
       "Documentation: <a href=\"/Users/adamsmith/opt/anaconda3/envs/gr-env/lib/python3.12/site-packages/OGRePy/docs/OGRePy_Documentation.ipynb\">.ipynb</a>, <a href=\"/Users/adamsmith/opt/anaconda3/envs/gr-env/lib/python3.12/site-packages/OGRePy/docs/OGRePy_Documentation.pdf\">.pdf</a>, <a href=\"#\" onclick=\"window.open('file:///Users/adamsmith/opt/anaconda3/envs/gr-env/lib/python3.12/site-packages/OGRePy/docs/OGRePy_Documentation.html', '_blank')\">.html</a>**"
      ],
      "text/plain": [
       "<IPython.core.display.Markdown object>"
      ]
     },
     "metadata": {},
     "output_type": "display_data"
    }
   ],
   "source": [
    "import numpy as np\n",
    "import matplotlib.pyplot as plt\n",
    "\n",
    "import OGRePy as gr\n",
    "# import sympy as sp"
   ]
  },
  {
   "cell_type": "markdown",
   "metadata": {},
   "source": [
    "1. The effective potential, analytically and plots it vs r\n",
    "\n",
    "2. The maxima/minima if the effective potential for both null and timelike cases; then use that to compute these extrema for the Schwarzschild metric\n",
    "\n",
    "3. The orbits by (in most cases only numerical solutions can be found)\n",
    "\n",
    "    3a) Finding dphi/dr from Eq. (10) \n",
    "\n",
    "    3b) solving it to find r(phi) or phi(r) and plotting it using polar plot method to get the orbits\n",
    "    \n",
    "    3c) repeat the above method but now solve (4) and (5) for r(t) and phi(t) and plot them using the method of parametric plot (the common parameter of the two functions is t of course)"
   ]
  },
  {
   "cell_type": "markdown",
   "metadata": {},
   "source": [
    "# Defining the General Metric"
   ]
  },
  {
   "cell_type": "code",
   "execution_count": 2,
   "metadata": {},
   "outputs": [
    {
     "data": {
      "text/markdown": [
       "**OGRePy**: You have the latest version of the package."
      ],
      "text/plain": [
       "<IPython.core.display.Markdown object>"
      ]
     },
     "metadata": {},
     "output_type": "display_data"
    },
    {
     "data": {
      "text/markdown": [
       "$$g{}_{\\mu}{}_{\\nu}\\Bigg|_{\\left(t, r, \\theta, \\phi\\right)} = \\left(\\begin{matrix}- f & 0 & 0 & 0\\\\0 & g & 0 & 0\\\\0 & 0 & h & 0\\\\0 & 0 & 0 & h \\sin^{2}{\\left(\\theta \\right)}\\end{matrix}\\right)$$"
      ],
      "text/plain": [
       "<IPython.core.display.Markdown object>"
      ]
     },
     "metadata": {},
     "output_type": "display_data"
    }
   ],
   "source": [
    "from OGRePy.abc import t, phi, theta\n",
    "\n",
    "# define a nonnegative r\n",
    "r = gr.sym(\"r\", nonnegative=True)\n",
    "\n",
    "# Define the coordinate system\n",
    "Spherical = gr.Coordinates(t, r, theta, phi)\n",
    "\n",
    "# Define the metric functions \n",
    "f = gr.func(\"f\")(r)\n",
    "g = gr.func(\"g\")(r)\n",
    "h = gr.func(\"h\")(r)\n",
    "\n",
    "# define the metric\n",
    "metric = gr.Metric(\n",
    "    coords=Spherical, \n",
    "    components=gr.diag(\n",
    "        -f, \n",
    "        g, \n",
    "        h, \n",
    "        h * gr.s.sin(theta)**2\n",
    "    )\n",
    ")\n",
    "\n",
    "metric.show()"
   ]
  },
  {
   "cell_type": "code",
   "execution_count": 3,
   "metadata": {},
   "outputs": [
    {
     "data": {
      "text/markdown": [
       "$$\\begin{align*}\n",
       "    g{}_{t}{}_{t} &= - f \\\\\n",
       "    g{}_{r}{}_{r} &= g \\\\\n",
       "    g{}_{\\theta}{}_{\\theta} &= h \\\\\n",
       "    g{}_{\\phi}{}_{\\phi} &= h \\sin^{2}{\\left(\\theta \\right)} \n",
       "\\end{align*}$$"
      ],
      "text/plain": [
       "<IPython.core.display.Markdown object>"
      ]
     },
     "metadata": {},
     "output_type": "display_data"
    }
   ],
   "source": [
    "~metric"
   ]
  },
  {
   "cell_type": "code",
   "execution_count": 4,
   "metadata": {},
   "outputs": [
    {
     "data": {
      "text/latex": [
       "$\\displaystyle \\mathrm{d}\\phi^{2} h{\\left(r \\right)} \\sin^{2}{\\left(\\theta \\right)} + \\mathrm{d}\\theta^{2} h{\\left(r \\right)} + \\mathrm{d}r^{2} g{\\left(r \\right)} - \\mathrm{d}t^{2} f{\\left(r \\right)}$"
      ],
      "text/plain": [
       "\\mathrm{d}\\phi**2*h(r)*sin(\\theta)**2 + \\mathrm{d}\\theta**2*h(r) + \\mathrm{d}r**2*g(r) - \\mathrm{d}t**2*f(r)"
      ]
     },
     "execution_count": 4,
     "metadata": {},
     "output_type": "execute_result"
    }
   ],
   "source": [
    "metric.line_element()"
   ]
  },
  {
   "cell_type": "markdown",
   "metadata": {},
   "source": [
    "# The Effective Potential"
   ]
  },
  {
   "cell_type": "code",
   "execution_count": 5,
   "metadata": {},
   "outputs": [
    {
     "data": {
      "text/latex": [
       "$\\displaystyle \\left(- \\frac{L^{2}}{h{\\left(r \\right)}} + \\sigma\\right) f{\\left(r \\right)}$"
      ],
      "text/plain": [
       "(-L**2/h(r) + \\sigma)*f(r)"
      ]
     },
     "execution_count": 5,
     "metadata": {},
     "output_type": "execute_result"
    }
   ],
   "source": [
    "sigma = gr.sym(\"sigma\")\n",
    "L = gr.sym(\"L\")\n",
    "\n",
    "Veff = f * ( sigma - L**2 / h)\n",
    "\n",
    "Veff"
   ]
  },
  {
   "cell_type": "code",
   "execution_count": 6,
   "metadata": {},
   "outputs": [
    {
     "data": {
      "image/png": "[encoded data removed]",
      "text/plain": [
       "<Figure size 600x400 with 1 Axes>"
      ]
     },
     "metadata": {},
     "output_type": "display_data"
    }
   ],
   "source": [
    "# Plotting the effective potential for the Swartzchild metric \n",
    "M = 1\n",
    "f = 1 - 2*M/r\n",
    "h = r**2\n",
    "\n",
    "Veff = f * ( sigma - L**2 / h)\n",
    "\n",
    "Veff_func = gr.s.lambdify((r, sigma, L), Veff, \"numpy\") \n",
    "\n",
    "# params \n",
    "sigma_val = 1 # time-like geodesics\n",
    "L_val = 2\n",
    "r_val = np.linspace(2.1, 10, 100)\n",
    "\n",
    "Veff_vals = Veff_func(r_val, sigma_val, L_val)\n",
    "\n",
    "plt.figure(figsize=(6, 4))\n",
    "plt.plot(r_val, Veff_vals)\n",
    "plt.xlabel(\"r\")\n",
    "plt.ylabel(\"Veff\")\n",
    "plt.title(\"Effective potential for Schwarzschild metric time-like geodesics\")\n",
    "plt.show()\n"
   ]
  },
  {
   "cell_type": "code",
   "execution_count": 7,
   "metadata": {},
   "outputs": [
    {
     "data": {
      "image/png": "[encoded data removed]",
      "text/plain": [
       "<Figure size 600x400 with 1 Axes>"
      ]
     },
     "metadata": {},
     "output_type": "display_data"
    }
   ],
   "source": [
    "# Plotting the effective potential for the Swartzchild metric \n",
    "M = 1\n",
    "f = 1 - 2*M/r\n",
    "h = r**2\n",
    "\n",
    "Veff = f * ( sigma - L**2 / h)\n",
    "\n",
    "Veff_func = gr.s.lambdify((r, sigma, L), Veff, \"numpy\") \n",
    "\n",
    "# params \n",
    "sigma_val = 0 # null-like geodesics\n",
    "L_val = 2\n",
    "r_val = np.linspace(2.1, 10, 100)\n",
    "\n",
    "Veff_vals = Veff_func(r_val, sigma_val, L_val)\n",
    "\n",
    "plt.figure(figsize=(6, 4))\n",
    "plt.plot(r_val, Veff_vals)\n",
    "plt.xlabel(\"r\")\n",
    "plt.ylabel(\"Veff\")\n",
    "plt.title(\"Effective potential for Schwarzschild metric null-like geodesics\")\n",
    "plt.show()"
   ]
  },
  {
   "cell_type": "markdown",
   "metadata": {},
   "source": [
    "# Extrema for Schwartzchild metric"
   ]
  },
  {
   "cell_type": "code",
   "execution_count": 8,
   "metadata": {},
   "outputs": [
    {
     "data": {
      "text/latex": [
       "$\\displaystyle \\left(1 - \\frac{2}{r}\\right) \\left(- \\frac{L^{2}}{r^{2}} + \\sigma\\right)$"
      ],
      "text/plain": [
       "(1 - 2/r)*(-L**2/r**2 + \\sigma)"
      ]
     },
     "execution_count": 8,
     "metadata": {},
     "output_type": "execute_result"
    }
   ],
   "source": [
    "Veff"
   ]
  },
  {
   "cell_type": "code",
   "execution_count": 9,
   "metadata": {},
   "outputs": [
    {
     "name": "stdout",
     "output_type": "stream",
     "text": [
      "2*L**2*(r - 3)/r**4\n",
      "Extrema:  [3]\n"
     ]
    }
   ],
   "source": [
    "# first for null geodesics\n",
    "sigma = gr.sym(\"sigma\")\n",
    "L = gr.sym(\"L\")\n",
    "\n",
    "Veff = f * ( sigma - L**2 / h)\n",
    "\n",
    "dVeff_dr = gr.s.diff(Veff, r).subs(sigma, 0)\n",
    "\n",
    "print(dVeff_dr.simplify())\n",
    "\n",
    "extrema = gr.s.solve(dVeff_dr, r)\n",
    "\n",
    "print('Extrema: ', extrema)"
   ]
  },
  {
   "cell_type": "code",
   "execution_count": 10,
   "metadata": {},
   "outputs": [
    {
     "name": "stdout",
     "output_type": "stream",
     "text": [
      "2*(L**2*r - 3*L**2 + r**2)/r**4\n",
      "Extrema:  [L*(-L - sqrt(L**2 + 12))/2, L*(-L + sqrt(L**2 + 12))/2]\n"
     ]
    }
   ],
   "source": [
    "# time-like geodesics\n",
    "sigma = gr.sym(\"sigma\")\n",
    "L = gr.sym(\"L\")\n",
    "\n",
    "Veff = f * ( sigma - L**2 / h)\n",
    "\n",
    "dVeff_dr = gr.s.diff(Veff, r).subs(sigma, 1)\n",
    "\n",
    "print(dVeff_dr.simplify())\n",
    "\n",
    "extrema = gr.s.solve(dVeff_dr, r)\n",
    "\n",
    "print('Extrema: ', extrema)"
   ]
  },
  {
   "cell_type": "code",
   "execution_count": null,
   "metadata": {},
   "outputs": [],
   "source": []
  }
 ],
 "metadata": {
  "kernelspec": {
   "display_name": "gr-env",
   "language": "python",
   "name": "python3"
  },
  "language_info": {
   "codemirror_mode": {
    "name": "ipython",
    "version": 3
   },
   "file_extension": ".py",
   "mimetype": "text/x-python",
   "name": "python",
   "nbconvert_exporter": "python",
   "pygments_lexer": "ipython3",
   "version": "3.12.7"
  }
 },
 "nbformat": 4,
 "nbformat_minor": 2
}
