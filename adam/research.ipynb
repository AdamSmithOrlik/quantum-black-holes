{
 "cells": [
  {
   "cell_type": "code",
   "execution_count": 55,
   "metadata": {},
   "outputs": [],
   "source": [
    "import numpy as np\n",
    "import matplotlib.pyplot as plt\n",
    "\n",
    "import OGRePy as gr\n",
    "# import sympy as sp\n",
    "from scipy.integrate import solve_ivp"
   ]
  },
  {
   "cell_type": "markdown",
   "metadata": {},
   "source": [
    "1. The effective potential, analytically and plots it vs r\n",
    "\n",
    "2. The maxima/minima if the effective potential for both null and timelike cases; then use that to compute these extrema for the Schwarzschild metric\n",
    "\n",
    "3. The orbits by (in most cases only numerical solutions can be found)\n",
    "\n",
    "    3a) Finding dphi/dr from Eq. (10) \n",
    "\n",
    "    3b) solving it to find r(phi) or phi(r) and plotting it using polar plot method to get the orbits\n",
    "    \n",
    "    3c) repeat the above method but now solve (4) and (5) for r(t) and phi(t) and plot them using the method of parametric plot (the common parameter of the two functions is t of course)"
   ]
  },
  {
   "cell_type": "markdown",
   "metadata": {},
   "source": [
    "# Defining the General Metric"
   ]
  },
  {
   "cell_type": "code",
   "execution_count": 12,
   "metadata": {},
   "outputs": [
    {
     "data": {
      "text/markdown": [
       "$$g{}_{\\mu}{}_{\\nu}\\Bigg|_{\\left(t, r, \\theta, \\phi\\right)} = \\left(\\begin{matrix}- f & 0 & 0 & 0\\\\0 & g & 0 & 0\\\\0 & 0 & h & 0\\\\0 & 0 & 0 & h \\sin^{2}{\\left(\\theta \\right)}\\end{matrix}\\right)$$"
      ],
      "text/plain": [
       "<IPython.core.display.Markdown object>"
      ]
     },
     "metadata": {},
     "output_type": "display_data"
    }
   ],
   "source": [
    "from OGRePy.abc import t, phi, theta\n",
    "\n",
    "# define a nonnegative r\n",
    "r = gr.sym(\"r\", nonnegative=True)\n",
    "\n",
    "# Define the coordinate system\n",
    "Spherical = gr.Coordinates(t, r, theta, phi)\n",
    "\n",
    "# Define the metric functions \n",
    "f = gr.func(\"f\")(r)\n",
    "g = gr.func(\"g\")(r)\n",
    "h = gr.func(\"h\")(r)\n",
    "\n",
    "# define the metric\n",
    "metric = gr.Metric(\n",
    "    coords=Spherical, \n",
    "    components=gr.diag(\n",
    "        -f, \n",
    "        g, \n",
    "        h, \n",
    "        h * gr.s.sin(theta)**2\n",
    "    )\n",
    ")\n",
    "\n",
    "metric.show()"
   ]
  },
  {
   "cell_type": "code",
   "execution_count": 13,
   "metadata": {},
   "outputs": [
    {
     "data": {
      "text/markdown": [
       "$$\\begin{align*}\n",
       "    g{}_{t}{}_{t} &= - f \\\\\n",
       "    g{}_{r}{}_{r} &= g \\\\\n",
       "    g{}_{\\theta}{}_{\\theta} &= h \\\\\n",
       "    g{}_{\\phi}{}_{\\phi} &= h \\sin^{2}{\\left(\\theta \\right)} \n",
       "\\end{align*}$$"
      ],
      "text/plain": [
       "<IPython.core.display.Markdown object>"
      ]
     },
     "metadata": {},
     "output_type": "display_data"
    }
   ],
   "source": [
    "~metric"
   ]
  },
  {
   "cell_type": "code",
   "execution_count": 14,
   "metadata": {},
   "outputs": [
    {
     "data": {
      "text/latex": [
       "$\\displaystyle \\mathrm{d}\\phi^{2} h{\\left(r \\right)} \\sin^{2}{\\left(\\theta \\right)} + \\mathrm{d}\\theta^{2} h{\\left(r \\right)} + \\mathrm{d}r^{2} g{\\left(r \\right)} - \\mathrm{d}t^{2} f{\\left(r \\right)}$"
      ],
      "text/plain": [
       "\\mathrm{d}\\phi**2*h(r)*sin(\\theta)**2 + \\mathrm{d}\\theta**2*h(r) + \\mathrm{d}r**2*g(r) - \\mathrm{d}t**2*f(r)"
      ]
     },
     "execution_count": 14,
     "metadata": {},
     "output_type": "execute_result"
    }
   ],
   "source": [
    "metric.line_element()"
   ]
  },
  {
   "cell_type": "markdown",
   "metadata": {},
   "source": [
    "# The Effective Potential"
   ]
  },
  {
   "cell_type": "code",
   "execution_count": 15,
   "metadata": {},
   "outputs": [
    {
     "data": {
      "text/latex": [
       "$\\displaystyle \\left(- \\frac{L^{2}}{h{\\left(r \\right)}} + \\sigma\\right) f{\\left(r \\right)}$"
      ],
      "text/plain": [
       "(-L**2/h(r) + \\sigma)*f(r)"
      ]
     },
     "execution_count": 15,
     "metadata": {},
     "output_type": "execute_result"
    }
   ],
   "source": [
    "sigma = gr.sym(\"sigma\")\n",
    "L = gr.sym(\"L\")\n",
    "\n",
    "Veff = f * ( sigma - L**2 / h)\n",
    "\n",
    "Veff"
   ]
  },
  {
   "cell_type": "code",
   "execution_count": 16,
   "metadata": {},
   "outputs": [
    {
     "data": {
      "image/png": "[encoded data removed]",
      "text/plain": [
       "<Figure size 600x400 with 1 Axes>"
      ]
     },
     "metadata": {},
     "output_type": "display_data"
    }
   ],
   "source": [
    "# Plotting the effective potential for the Swartzchild metric \n",
    "M = 1\n",
    "f = 1 - 2*M/r\n",
    "h = r**2\n",
    "\n",
    "Veff = f * ( sigma - (L**2 / h))\n",
    "\n",
    "Veff_func = gr.s.lambdify((r, sigma, L), Veff, \"numpy\") \n",
    "\n",
    "# params \n",
    "sigma_val = -1 # time-like geodesics\n",
    "L_val = 2\n",
    "r_val = np.geomspace(2.1, 10, 100)\n",
    "\n",
    "Veff_vals = -Veff_func(r_val, sigma_val, L_val)\n",
    "\n",
    "plt.figure(figsize=(6, 4))\n",
    "plt.plot(r_val, Veff_vals)\n",
    "plt.xlabel(\"r\")\n",
    "plt.ylabel(\"Veff\")\n",
    "plt.title(\"Effective potential for Schwarzschild metric time-like geodesics\")\n",
    "plt.show()\n"
   ]
  },
  {
   "cell_type": "code",
   "execution_count": 17,
   "metadata": {},
   "outputs": [
    {
     "data": {
      "image/png": "[encoded data removed]",
      "text/plain": [
       "<Figure size 600x400 with 1 Axes>"
      ]
     },
     "metadata": {},
     "output_type": "display_data"
    }
   ],
   "source": [
    "# Plotting the effective potential for the Swartzchild metric \n",
    "M = 1\n",
    "f = 1 - 2*M/r\n",
    "h = r**2\n",
    "\n",
    "Veff = f * ( sigma - ( L**2 / h ))\n",
    "\n",
    "Veff_func = gr.s.lambdify((r, sigma, L), Veff, \"numpy\") \n",
    "\n",
    "# params \n",
    "sigma_val = 0 # null-like geodesics\n",
    "L_val = 2\n",
    "r_val = np.linspace(2.1, 10, 100)\n",
    "\n",
    "Veff_vals = -Veff_func(r_val, sigma_val, L_val)\n",
    "\n",
    "plt.figure(figsize=(6, 4))\n",
    "plt.plot(r_val, Veff_vals)\n",
    "plt.xlabel(\"r\")\n",
    "plt.ylabel(\"Veff\")\n",
    "plt.title(\"Effective potential for Schwarzschild metric null-like geodesics\")\n",
    "plt.show()"
   ]
  },
  {
   "cell_type": "markdown",
   "metadata": {},
   "source": [
    "# Extrema for Schwartzchild metric"
   ]
  },
  {
   "cell_type": "code",
   "execution_count": 8,
   "metadata": {},
   "outputs": [
    {
     "data": {
      "text/latex": [
       "$\\displaystyle \\left(1 - \\frac{2}{r}\\right) \\left(- \\frac{L^{2}}{r^{2}} + \\sigma\\right)$"
      ],
      "text/plain": [
       "(1 - 2/r)*(-L**2/r**2 + \\sigma)"
      ]
     },
     "execution_count": 8,
     "metadata": {},
     "output_type": "execute_result"
    }
   ],
   "source": [
    "Veff"
   ]
  },
  {
   "cell_type": "code",
   "execution_count": 9,
   "metadata": {},
   "outputs": [
    {
     "name": "stdout",
     "output_type": "stream",
     "text": [
      "2*L**2*(3 - r)/r**4\n",
      "Extrema:  [3]\n"
     ]
    }
   ],
   "source": [
    "# first for null geodesics\n",
    "sigma = gr.sym(\"sigma\")\n",
    "L = gr.sym(\"L\")\n",
    "\n",
    "Veff = -f * ( sigma - L**2 / h)\n",
    "\n",
    "dVeff_dr = gr.s.diff(Veff, r).subs(sigma, 0)\n",
    "\n",
    "print(dVeff_dr.simplify())\n",
    "\n",
    "extrema = gr.s.solve(dVeff_dr, r)\n",
    "\n",
    "print('Extrema: ', extrema)"
   ]
  },
  {
   "cell_type": "code",
   "execution_count": 10,
   "metadata": {},
   "outputs": [
    {
     "name": "stdout",
     "output_type": "stream",
     "text": [
      "2*(-L**2*r + 3*L**2 - r**2)/r**4\n",
      "Extrema:  [L*(-L - sqrt(L**2 + 12))/2, L*(-L + sqrt(L**2 + 12))/2]\n"
     ]
    }
   ],
   "source": [
    "# time-like geodesics\n",
    "sigma = gr.sym(\"sigma\")\n",
    "L = gr.sym(\"L\")\n",
    "\n",
    "Veff = -f * ( sigma - L**2 / h)\n",
    "\n",
    "dVeff_dr = gr.s.diff(Veff, r).subs(sigma, 1)\n",
    "\n",
    "print(dVeff_dr.simplify())\n",
    "\n",
    "extrema = gr.s.solve(dVeff_dr, r)\n",
    "\n",
    "print('Extrema: ', extrema)"
   ]
  },
  {
   "cell_type": "markdown",
   "metadata": {},
   "source": [
    "# Orbits"
   ]
  },
  {
   "cell_type": "code",
   "execution_count": 28,
   "metadata": {},
   "outputs": [
    {
     "data": {
      "text/markdown": [
       "$$g{}_{\\mu}{}_{\\nu}\\Bigg|_{\\left(t, r, \\theta, \\phi\\right)} = \\left(\\begin{matrix}- f & 0 & 0 & 0\\\\0 & g & 0 & 0\\\\0 & 0 & h & 0\\\\0 & 0 & 0 & h \\sin^{2}{\\left(\\theta \\right)}\\end{matrix}\\right)$$"
      ],
      "text/plain": [
       "<IPython.core.display.Markdown object>"
      ]
     },
     "metadata": {},
     "output_type": "display_data"
    }
   ],
   "source": [
    "# define a nonnegative r\n",
    "r = gr.sym(\"r\", nonnegative=True)\n",
    "\n",
    "# Define the coordinate system\n",
    "Spherical = gr.Coordinates(t, r, theta, phi)\n",
    "\n",
    "# Define the metric functions \n",
    "f = gr.func(\"f\")(r)\n",
    "g = gr.func(\"g\")(r)\n",
    "h = gr.func(\"h\")(r)\n",
    "\n",
    "# define the metric\n",
    "metric = gr.Metric(\n",
    "    coords=Spherical, \n",
    "    components=gr.diag(\n",
    "        -f, \n",
    "        g, \n",
    "        h, \n",
    "        h * gr.s.sin(theta)**2\n",
    "    )\n",
    ")\n",
    "\n",
    "metric.show()"
   ]
  },
  {
   "cell_type": "code",
   "execution_count": 34,
   "metadata": {},
   "outputs": [
    {
     "data": {
      "text/markdown": [
       "$$\\begin{align*}\n",
       "    L &= \\dot{\\phi}^{2} h \\sin^{2}{\\left(\\theta \\right)} + \\dot{\\theta}^{2} h + \\dot{r}^{2} g - \\dot{t}^{2} f \n",
       "\\end{align*}$$"
      ],
      "text/plain": [
       "<IPython.core.display.Markdown object>"
      ]
     },
     "metadata": {},
     "output_type": "display_data"
    }
   ],
   "source": [
    "# Get the Langrangian from the metric \n",
    "metric.lagrangian().list()"
   ]
  },
  {
   "cell_type": "code",
   "execution_count": 23,
   "metadata": {},
   "outputs": [
    {
     "data": {
      "text/markdown": [
       "$$0{}^{\\mu}\\Bigg|_{\\left(t, r, \\theta, \\phi\\right)} = \\left(\\begin{matrix}- \\partial_{\\lambda} \\left(- \\dot{t} f\\right)\\\\\\frac{\\dot{\\phi}^{2} \\partial_{r} h \\sin^{2}{\\left(\\theta \\right)}}{2} + \\frac{\\dot{\\theta}^{2} \\partial_{r} h}{2} + \\frac{\\dot{r}^{2} \\partial_{r} g}{2} - \\frac{\\dot{t}^{2} \\partial_{r} f}{2} - \\partial_{\\lambda} \\left(\\dot{r} g\\right)\\\\\\frac{\\dot{\\phi}^{2} h \\sin{\\left(2 \\theta \\right)}}{2} - \\partial_{\\lambda} \\left(\\dot{\\theta} h\\right)\\\\- \\partial_{\\lambda} \\left(\\dot{\\phi} h \\sin^{2}{\\left(\\theta \\right)}\\right)\\end{matrix}\\right)$$"
      ],
      "text/plain": [
       "<OGRePy._core.GeodesicFromLagrangian at 0x1155ff8f0>"
      ]
     },
     "execution_count": 23,
     "metadata": {},
     "output_type": "execute_result"
    }
   ],
   "source": [
    "metric.geodesic_from_lagrangian()"
   ]
  },
  {
   "cell_type": "code",
   "execution_count": 24,
   "metadata": {},
   "outputs": [
    {
     "data": {
      "text/markdown": [
       "$$\\begin{align*}\n",
       "    0{}^{t} &= \\ddot{t} f + \\dot{r} \\dot{t} \\partial_{r} f \\\\\n",
       "    0{}^{r} &= - \\ddot{r} g + \\frac{\\dot{\\phi}^{2} \\partial_{r} h \\sin^{2}{\\left(\\theta \\right)}}{2} + \\frac{\\dot{\\theta}^{2} \\partial_{r} h}{2} - \\frac{\\dot{r}^{2} \\partial_{r} g}{2} - \\frac{\\dot{t}^{2} \\partial_{r} f}{2} \\\\\n",
       "    0{}^{\\theta} &= - \\ddot{\\theta} h + \\frac{\\dot{\\phi}^{2} h \\sin{\\left(2 \\theta \\right)}}{2} - \\dot{\\theta} \\dot{r} \\partial_{r} h \\\\\n",
       "    0{}^{\\phi} &= - \\ddot{\\phi} h \\sin^{2}{\\left(\\theta \\right)} - 2 \\dot{\\phi} \\dot{\\theta} h \\sin{\\left(\\theta \\right)} \\cos{\\left(\\theta \\right)} - \\dot{\\phi} \\dot{r} \\partial_{r} h \\sin^{2}{\\left(\\theta \\right)} \n",
       "\\end{align*}$$"
      ],
      "text/plain": [
       "<IPython.core.display.Markdown object>"
      ]
     },
     "metadata": {},
     "output_type": "display_data"
    }
   ],
   "source": [
    "metric.geodesic_from_lagrangian().list(function=lambda x: x.doit())"
   ]
  },
  {
   "cell_type": "code",
   "execution_count": 25,
   "metadata": {},
   "outputs": [
    {
     "data": {
      "text/markdown": [
       "**OGRePy**: Using default coordinate system `Spherical` and default index configuration (1,)."
      ],
      "text/plain": [
       "<IPython.core.display.Markdown object>"
      ]
     },
     "metadata": {},
     "output_type": "display_data"
    },
    {
     "data": {
      "text/latex": [
       "$\\displaystyle \\left[\\begin{matrix}f{\\left(r{\\left(\\lambda \\right)} \\right)} \\frac{d^{2}}{d \\lambda^{2}} t{\\left(\\lambda \\right)} + \\frac{d}{d r{\\left(\\lambda \\right)}} f{\\left(r{\\left(\\lambda \\right)} \\right)} \\frac{d}{d \\lambda} r{\\left(\\lambda \\right)} \\frac{d}{d \\lambda} t{\\left(\\lambda \\right)} & - g{\\left(r{\\left(\\lambda \\right)} \\right)} \\frac{d^{2}}{d \\lambda^{2}} r{\\left(\\lambda \\right)} + \\frac{\\sin^{2}{\\left(\\theta{\\left(\\lambda \\right)} \\right)} \\left(\\frac{d}{d \\lambda} \\phi{\\left(\\lambda \\right)}\\right)^{2} \\frac{d}{d r{\\left(\\lambda \\right)}} h{\\left(r{\\left(\\lambda \\right)} \\right)}}{2} + \\frac{\\left(\\frac{d}{d \\lambda} \\theta{\\left(\\lambda \\right)}\\right)^{2} \\frac{d}{d r{\\left(\\lambda \\right)}} h{\\left(r{\\left(\\lambda \\right)} \\right)}}{2} - \\frac{\\frac{d}{d r{\\left(\\lambda \\right)}} f{\\left(r{\\left(\\lambda \\right)} \\right)} \\left(\\frac{d}{d \\lambda} t{\\left(\\lambda \\right)}\\right)^{2}}{2} - \\frac{\\frac{d}{d r{\\left(\\lambda \\right)}} g{\\left(r{\\left(\\lambda \\right)} \\right)} \\left(\\frac{d}{d \\lambda} r{\\left(\\lambda \\right)}\\right)^{2}}{2} & \\frac{h{\\left(r{\\left(\\lambda \\right)} \\right)} \\sin{\\left(2 \\theta{\\left(\\lambda \\right)} \\right)} \\left(\\frac{d}{d \\lambda} \\phi{\\left(\\lambda \\right)}\\right)^{2}}{2} - h{\\left(r{\\left(\\lambda \\right)} \\right)} \\frac{d^{2}}{d \\lambda^{2}} \\theta{\\left(\\lambda \\right)} - \\frac{d}{d \\lambda} \\theta{\\left(\\lambda \\right)} \\frac{d}{d r{\\left(\\lambda \\right)}} h{\\left(r{\\left(\\lambda \\right)} \\right)} \\frac{d}{d \\lambda} r{\\left(\\lambda \\right)} & - h{\\left(r{\\left(\\lambda \\right)} \\right)} \\sin^{2}{\\left(\\theta{\\left(\\lambda \\right)} \\right)} \\frac{d^{2}}{d \\lambda^{2}} \\phi{\\left(\\lambda \\right)} - 2 h{\\left(r{\\left(\\lambda \\right)} \\right)} \\sin{\\left(\\theta{\\left(\\lambda \\right)} \\right)} \\cos{\\left(\\theta{\\left(\\lambda \\right)} \\right)} \\frac{d}{d \\lambda} \\phi{\\left(\\lambda \\right)} \\frac{d}{d \\lambda} \\theta{\\left(\\lambda \\right)} - \\sin^{2}{\\left(\\theta{\\left(\\lambda \\right)} \\right)} \\frac{d}{d \\lambda} \\phi{\\left(\\lambda \\right)} \\frac{d}{d r{\\left(\\lambda \\right)}} h{\\left(r{\\left(\\lambda \\right)} \\right)} \\frac{d}{d \\lambda} r{\\left(\\lambda \\right)}\\end{matrix}\\right]$"
      ],
      "text/plain": [
       "[f(r(\\lambda))*Derivative(t(\\lambda), (\\lambda, 2)) + Derivative(f(r(\\lambda)), r(\\lambda))*Derivative(r(\\lambda), \\lambda)*Derivative(t(\\lambda), \\lambda), -g(r(\\lambda))*Derivative(r(\\lambda), (\\lambda, 2)) + sin(\\theta(\\lambda))**2*Derivative(\\phi(\\lambda), \\lambda)**2*Derivative(h(r(\\lambda)), r(\\lambda))/2 + Derivative(\\theta(\\lambda), \\lambda)**2*Derivative(h(r(\\lambda)), r(\\lambda))/2 - Derivative(f(r(\\lambda)), r(\\lambda))*Derivative(t(\\lambda), \\lambda)**2/2 - Derivative(g(r(\\lambda)), r(\\lambda))*Derivative(r(\\lambda), \\lambda)**2/2, h(r(\\lambda))*sin(2*\\theta(\\lambda))*Derivative(\\phi(\\lambda), \\lambda)**2/2 - h(r(\\lambda))*Derivative(\\theta(\\lambda), (\\lambda, 2)) - Derivative(\\theta(\\lambda), \\lambda)*Derivative(h(r(\\lambda)), r(\\lambda))*Derivative(r(\\lambda), \\lambda), -h(r(\\lambda))*sin(\\theta(\\lambda))**2*Derivative(\\phi(\\lambda), (\\lambda, 2)) - 2*h(r(\\lambda))*sin(\\theta(\\lambda))*cos(\\theta(\\lambda))*Derivative(\\phi(\\lambda), \\lambda)*Derivative(\\theta(\\lambda), \\lambda) - sin(\\theta(\\lambda))**2*Derivative(\\phi(\\lambda), \\lambda)*Derivative(h(r(\\lambda)), r(\\lambda))*Derivative(r(\\lambda), \\lambda)]"
      ]
     },
     "execution_count": 25,
     "metadata": {},
     "output_type": "execute_result"
    }
   ],
   "source": [
    "metric.geodesic_from_lagrangian().components().doit()"
   ]
  },
  {
   "cell_type": "code",
   "execution_count": 26,
   "metadata": {},
   "outputs": [
    {
     "data": {
      "text/markdown": [
       "**OGRePy**: Using default coordinate system `Spherical` and default index configuration (1,)."
      ],
      "text/plain": [
       "<IPython.core.display.Markdown object>"
      ]
     },
     "metadata": {},
     "output_type": "display_data"
    },
    {
     "ename": "ValueError",
     "evalue": "\nNumber of equations and number of functions do not match",
     "output_type": "error",
     "traceback": [
      "\u001b[0;31m---------------------------------------------------------------------------\u001b[0m",
      "\u001b[0;31mValueError\u001b[0m                                Traceback (most recent call last)",
      "Cell \u001b[0;32mIn[26], line 1\u001b[0m\n\u001b[0;32m----> 1\u001b[0m gr\u001b[38;5;241m.\u001b[39ms\u001b[38;5;241m.\u001b[39mArray(\u001b[43mgr\u001b[49m\u001b[38;5;241;43m.\u001b[39;49m\u001b[43ms\u001b[49m\u001b[38;5;241;43m.\u001b[39;49m\u001b[43mdsolve\u001b[49m\u001b[43m(\u001b[49m\u001b[43mmetric\u001b[49m\u001b[38;5;241;43m.\u001b[39;49m\u001b[43mgeodesic_from_lagrangian\u001b[49m\u001b[43m(\u001b[49m\u001b[43m)\u001b[49m\u001b[38;5;241;43m.\u001b[39;49m\u001b[43mcomponents\u001b[49m\u001b[43m(\u001b[49m\u001b[43m)\u001b[49m\u001b[38;5;241;43m.\u001b[39;49m\u001b[43mdoit\u001b[49m\u001b[43m(\u001b[49m\u001b[43m)\u001b[49m\u001b[43m)\u001b[49m)\n",
      "File \u001b[0;32m~/opt/anaconda3/envs/gr-env/lib/python3.12/site-packages/sympy/solvers/ode/ode.py:559\u001b[0m, in \u001b[0;36mdsolve\u001b[0;34m(eq, func, hint, simplify, ics, xi, eta, x0, n, **kwargs)\u001b[0m\n\u001b[1;32m    553\u001b[0m \u001b[38;5;66;03m# This may have to be changed in future\u001b[39;00m\n\u001b[1;32m    554\u001b[0m \u001b[38;5;66;03m# when we have weakly and strongly\u001b[39;00m\n\u001b[1;32m    555\u001b[0m \u001b[38;5;66;03m# connected components. This have to\u001b[39;00m\n\u001b[1;32m    556\u001b[0m \u001b[38;5;66;03m# changed to show the systems that haven't\u001b[39;00m\n\u001b[1;32m    557\u001b[0m \u001b[38;5;66;03m# been solved.\u001b[39;00m\n\u001b[1;32m    558\u001b[0m \u001b[38;5;28;01mtry\u001b[39;00m:\n\u001b[0;32m--> 559\u001b[0m     sol \u001b[38;5;241m=\u001b[39m \u001b[43mdsolve_system\u001b[49m\u001b[43m(\u001b[49m\u001b[43meq\u001b[49m\u001b[43m,\u001b[49m\u001b[43m \u001b[49m\u001b[43mfuncs\u001b[49m\u001b[38;5;241;43m=\u001b[39;49m\u001b[43mfunc\u001b[49m\u001b[43m,\u001b[49m\u001b[43m \u001b[49m\u001b[43mics\u001b[49m\u001b[38;5;241;43m=\u001b[39;49m\u001b[43mics\u001b[49m\u001b[43m,\u001b[49m\u001b[43m \u001b[49m\u001b[43mdoit\u001b[49m\u001b[38;5;241;43m=\u001b[39;49m\u001b[38;5;28;43;01mTrue\u001b[39;49;00m\u001b[43m)\u001b[49m\n\u001b[1;32m    560\u001b[0m     \u001b[38;5;28;01mreturn\u001b[39;00m sol[\u001b[38;5;241m0\u001b[39m] \u001b[38;5;28;01mif\u001b[39;00m \u001b[38;5;28mlen\u001b[39m(sol) \u001b[38;5;241m==\u001b[39m \u001b[38;5;241m1\u001b[39m \u001b[38;5;28;01melse\u001b[39;00m sol\n\u001b[1;32m    561\u001b[0m \u001b[38;5;28;01mexcept\u001b[39;00m \u001b[38;5;167;01mNotImplementedError\u001b[39;00m:\n",
      "File \u001b[0;32m~/opt/anaconda3/envs/gr-env/lib/python3.12/site-packages/sympy/solvers/ode/systems.py:2087\u001b[0m, in \u001b[0;36mdsolve_system\u001b[0;34m(eqs, funcs, t, ics, doit, simplify)\u001b[0m\n\u001b[1;32m   2081\u001b[0m     \u001b[38;5;28;01mraise\u001b[39;00m \u001b[38;5;167;01mValueError\u001b[39;00m(filldedent(\u001b[38;5;124m'''\u001b[39m\n\u001b[1;32m   2082\u001b[0m \u001b[38;5;124m        dsolve_system can solve a system of ODEs with only one independent\u001b[39m\n\u001b[1;32m   2083\u001b[0m \u001b[38;5;124m        variable.\u001b[39m\n\u001b[1;32m   2084\u001b[0m \u001b[38;5;124m    \u001b[39m\u001b[38;5;124m'''\u001b[39m))\n\u001b[1;32m   2086\u001b[0m \u001b[38;5;28;01mif\u001b[39;00m \u001b[38;5;28mlen\u001b[39m(eqs) \u001b[38;5;241m!=\u001b[39m \u001b[38;5;28mlen\u001b[39m(funcs):\n\u001b[0;32m-> 2087\u001b[0m     \u001b[38;5;28;01mraise\u001b[39;00m \u001b[38;5;167;01mValueError\u001b[39;00m(filldedent(\u001b[38;5;124m'''\u001b[39m\n\u001b[1;32m   2088\u001b[0m \u001b[38;5;124m        Number of equations and number of functions do not match\u001b[39m\n\u001b[1;32m   2089\u001b[0m \u001b[38;5;124m    \u001b[39m\u001b[38;5;124m'''\u001b[39m))\n\u001b[1;32m   2091\u001b[0m \u001b[38;5;28;01mif\u001b[39;00m t \u001b[38;5;129;01mis\u001b[39;00m \u001b[38;5;129;01mnot\u001b[39;00m \u001b[38;5;28;01mNone\u001b[39;00m \u001b[38;5;129;01mand\u001b[39;00m \u001b[38;5;129;01mnot\u001b[39;00m \u001b[38;5;28misinstance\u001b[39m(t, Symbol):\n\u001b[1;32m   2092\u001b[0m     \u001b[38;5;28;01mraise\u001b[39;00m \u001b[38;5;167;01mValueError\u001b[39;00m(filldedent(\u001b[38;5;124m'''\u001b[39m\n\u001b[1;32m   2093\u001b[0m \u001b[38;5;124m        The independent variable must be of type Symbol\u001b[39m\n\u001b[1;32m   2094\u001b[0m \u001b[38;5;124m    \u001b[39m\u001b[38;5;124m'''\u001b[39m))\n",
      "\u001b[0;31mValueError\u001b[0m: \nNumber of equations and number of functions do not match"
     ]
    }
   ],
   "source": [
    "gr.s.Array(gr.s.dsolve(metric.geodesic_from_lagrangian().components().doit()))"
   ]
  },
  {
   "cell_type": "code",
   "execution_count": 30,
   "metadata": {},
   "outputs": [
    {
     "data": {
      "text/latex": [
       "$\\displaystyle \\left(- \\frac{L^{2}}{h{\\left(r \\right)}} + \\sigma\\right) f{\\left(r \\right)}$"
      ],
      "text/plain": [
       "(-L**2/h(r) + \\sigma)*f(r)"
      ]
     },
     "execution_count": 30,
     "metadata": {},
     "output_type": "execute_result"
    }
   ],
   "source": [
    "Veff = f * ( sigma - ( L**2 / h ))\n",
    "\n",
    "Veff"
   ]
  },
  {
   "cell_type": "code",
   "execution_count": 68,
   "metadata": {},
   "outputs": [
    {
     "data": {
      "image/png": "[encoded data removed]",
      "text/plain": [
       "<Figure size 800x800 with 1 Axes>"
      ]
     },
     "metadata": {},
     "output_type": "display_data"
    }
   ],
   "source": [
    "# Equations of motion for the Schwarzschild metric\n",
    "M = 1 # in natural units\n",
    "# params \n",
    "E_val = 1\n",
    "L_val = 1\n",
    "sigma_val = 0\n",
    "\n",
    "Rs = 2*M # in natural units\n",
    "f = 1 - Rs / r  \n",
    "g = 1 / f\n",
    "h = r**2\n",
    "\n",
    "# equations of motion\n",
    "tdot = E_val / f\n",
    "phidot = L_val / h \n",
    "rdot_sq = (1/g) * ( (1/f)*E_val**2 - (sigma_val - L_val**2 / h) )\n",
    "\n",
    "rdot = gr.s.sqrt(rdot_sq)\n",
    "\n",
    "# orbit equation\n",
    "drdphi = rdot / phidot\n",
    "\n",
    "drdphi_func = gr.s.lambdify(r, drdphi, \"numpy\")\n",
    "\n",
    "# Define the numerical function for solving the orbit\n",
    "def orbit_eq(phi, r):\n",
    "    return drdphi_func(r)\n",
    "\n",
    "# Initial conditions\n",
    "r0 = 10  # Initial radius\n",
    "phi_span = (0, 10)\n",
    "phi_vals = np.linspace(0,  10, 500)\n",
    "\n",
    "# Solve numerically\n",
    "sol = solve_ivp(orbit_eq, phi_span, [r0], t_eval=phi_vals, method=\"RK45\")\n",
    "\n",
    "# Convert to Cartesian coordinates\n",
    "r_vals = sol.y[0]\n",
    "phi_vals = sol.t\n",
    "x_vals = r_vals * np.cos(phi_vals)\n",
    "y_vals = r_vals * np.sin(phi_vals)\n",
    "\n",
    "# Plot the orbit\n",
    "plt.figure(figsize=(8, 8))\n",
    "plt.plot(x_vals, y_vals, label=\"Orbit\")\n",
    "plt.scatter(0, 0, color=\"black\", marker=\"o\", label=\"Black Hole (Rs = 2M)\")\n",
    "plt.xlabel(\"x (Schwarzschild units)\")\n",
    "plt.ylabel(\"y (Schwarzschild units)\")\n",
    "plt.title(\"Orbit in Schwarzschild Spacetime\")\n",
    "plt.legend()\n",
    "plt.grid()\n",
    "plt.axis(\"equal\")\n",
    "plt.show()"
   ]
  },
  {
   "cell_type": "code",
   "execution_count": null,
   "metadata": {},
   "outputs": [],
   "source": []
  }
 ],
 "metadata": {
  "kernelspec": {
   "display_name": "gr-env",
   "language": "python",
   "name": "python3"
  },
  "language_info": {
   "codemirror_mode": {
    "name": "ipython",
    "version": 3
   },
   "file_extension": ".py",
   "mimetype": "text/x-python",
   "name": "python",
   "nbconvert_exporter": "python",
   "pygments_lexer": "ipython3",
   "version": "3.12.7"
  }
 },
 "nbformat": 4,
 "nbformat_minor": 2
}
