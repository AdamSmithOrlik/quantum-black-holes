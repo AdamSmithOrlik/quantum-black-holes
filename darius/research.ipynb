{
 "cells": [
  {
   "cell_type": "code",
   "execution_count": 2,
   "metadata": {},
   "outputs": [
    {
     "ename": "ModuleNotFoundError",
     "evalue": "No module named 'OGRePy'",
     "output_type": "error",
     "traceback": [
      "\u001b[1;31m---------------------------------------------------------------------------\u001b[0m",
      "\u001b[1;31mModuleNotFoundError\u001b[0m                       Traceback (most recent call last)",
      "\u001b[1;32m~\\AppData\\Local\\Temp/ipykernel_9448/712097928.py\u001b[0m in \u001b[0;36m<module>\u001b[1;34m\u001b[0m\n\u001b[0;32m      8\u001b[0m \u001b[1;33m\u001b[0m\u001b[0m\n\u001b[0;32m      9\u001b[0m \u001b[1;33m\u001b[0m\u001b[0m\n\u001b[1;32m---> 10\u001b[1;33m \u001b[1;32mimport\u001b[0m \u001b[0mOGRePy\u001b[0m \u001b[1;32mas\u001b[0m \u001b[0mT\u001b[0m\u001b[1;33m\u001b[0m\u001b[1;33m\u001b[0m\u001b[0m\n\u001b[0m\u001b[0;32m     11\u001b[0m \u001b[1;33m\u001b[0m\u001b[0m\n\u001b[0;32m     12\u001b[0m \u001b[1;33m\u001b[0m\u001b[0m\n",
      "\u001b[1;31mModuleNotFoundError\u001b[0m: No module named 'OGRePy'"
     ]
    }
   ],
   "source": [
    "\n",
    "import numpy as np\n",
    "import matplotlib.pyplot as plt\n",
    "import pandas as pd\n",
    "import sympy as sp\n",
    "\n",
    "\n",
    "from scipy.integrate import solve_ivp\n",
    "\n",
    "\n",
    "import OGRePy as T\n",
    "\n",
    "\n",
    "M = 1.0 #BH mass\n",
    "sigma = 0 #null geodesic\n",
    "E = 1.0 #particle energy\n",
    "L = 1.0 #angular momentum of particle\n",
    "\n",
    "#metric functions\n",
    "def f(r, M):\n",
    "    return 1 - 2 * M / r\n",
    "\n",
    "def g(r, M):\n",
    "    return (1 - 2 * M / r)**(-1)\n",
    "\n",
    "def h(r):\n",
    "    return r ** 2\n",
    "\n",
    "\n",
    "def V_eff(r, L, simga=0):\n",
    "    return f(r,M) * (sigma - (L**2*h(r)**(-1)))\n",
    "\n",
    "\n",
    "r_s = 2*M # Schwarzschild radius\n",
    "\n",
    "r_list = np.linspace(r_s, 10*r_s, 10000)\n",
    "\n",
    "# Calculate the effective potential\n",
    "V_eff_list = [V_eff(r, L) for r in r_list]\n",
    "\n",
    "# Plot the effective potential\n",
    "plt.plot(r_list, V_eff_list)\n",
    "plt.xlabel('radius')\n",
    "plt.ylabel(r'$V_{\\rm eff}$')\n",
    "plt.title('eff potential')\n",
    "plt.show()\n",
    "\n",
    "\n",
    "print(\"The maximum value Veff is:\", max(V_eff_list))\n",
    "print(\"The minimum value Veff is:\", min(V_eff_list))\n",
    "\n",
    "sigma=1\n",
    "V_eff_list = [V_eff(r, L) for r in r_list]\n",
    "print(\"(timelike) The maximum value Veff is:\", max(V_eff_list))\n",
    "print(\"(timelike) The minimum value Veff is:\", min(V_eff_list))"
   ]
  },
  {
   "cell_type": "code",
   "execution_count": null,
   "metadata": {},
   "outputs": [],
   "source": []
  }
 ],
 "metadata": {
  "kernelspec": {
   "display_name": "Python 3 (ipykernel)",
   "language": "python",
   "name": "python3"
  },
  "language_info": {
   "codemirror_mode": {
    "name": "ipython",
    "version": 3
   },
   "file_extension": ".py",
   "mimetype": "text/x-python",
   "name": "python",
   "nbconvert_exporter": "python",
   "pygments_lexer": "ipython3",
   "version": "3.9.7"
  }
 },
 "nbformat": 4,
 "nbformat_minor": 2
}
