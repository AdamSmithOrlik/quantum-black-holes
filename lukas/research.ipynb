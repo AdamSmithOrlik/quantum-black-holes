{
 "cells": [
  {
   "cell_type": "markdown",
   "metadata": {},
   "source": [
    "**Imports:**"
   ]
  },
  {
   "cell_type": "code",
   "execution_count": 23,
   "metadata": {},
   "outputs": [],
   "source": [
    "import numpy as np\n",
    "import scipy.constants as sc\n",
    "import matplotlib.pyplot as plt"
   ]
  },
  {
   "cell_type": "markdown",
   "metadata": {},
   "source": [
    "**Define f, g and h:**"
   ]
  },
  {
   "cell_type": "code",
   "execution_count": 138,
   "metadata": {},
   "outputs": [],
   "source": [
    "M=1\n",
    "\n",
    "def functions(r,Q_b=0,Q_c=0):\n",
    "    R_s=2*M\n",
    "    f=(1+Q_b/r**2)*(1+Q_c*R_s**2/(4*r**8))**(-1/4)*(1-R_s/np.sqrt(r**2+Q_b))\n",
    "    g=(1+Q_c*R_s**2/(4*r**8))**(1/4)*(1-R_s/np.sqrt(r**2+Q_b))**(-1)\n",
    "    h=r**2*(1+Q_c*R_s**2/(4*r**8))**(1/4)\n",
    "    return f, g, h"
   ]
  },
  {
   "cell_type": "code",
   "execution_count": 164,
   "metadata": {},
   "outputs": [],
   "source": [
    "def V_eff(r,   L,sigma=0,Q_b=0,Q_c=0 ,f=lambda r,Q_b,Q_c: functions(r,Q_b,Q_c)[0], h=lambda r,Q_b,Q_c: functions(r,Q_b,Q_c)[2]):\n",
    "    V= f(r,Q_b,Q_c)*(sigma-L**2/(h(r,Q_b,Q_c)))\n",
    "    return V\n",
    "\n",
    "def Q(gamma,L_0):\n",
    "    Q_b=gamma**2*L_0**2\n",
    "    Q_c=gamma**2*L_0**6\n",
    "    return Q_b, Q_c"
   ]
  },
  {
   "cell_type": "code",
   "execution_count": null,
   "metadata": {},
   "outputs": [
    {
     "name": "stdout",
     "output_type": "stream",
     "text": [
      "[0. 9.]\n"
     ]
    },
    {
     "ename": "ValueError",
     "evalue": "operands could not be broadcast together with shapes (2,) (1000,) ",
     "output_type": "error",
     "traceback": [
      "\u001b[1;31m---------------------------------------------------------------------------\u001b[0m",
      "\u001b[1;31mValueError\u001b[0m                                Traceback (most recent call last)",
      "Cell \u001b[1;32mIn[169], line 6\u001b[0m\n\u001b[0;32m      4\u001b[0m Q_list\u001b[38;5;241m=\u001b[39mQ(np\u001b[38;5;241m.\u001b[39mlinspace(\u001b[38;5;241m0\u001b[39m,\u001b[38;5;241m1\u001b[39m,\u001b[38;5;241m2\u001b[39m),L)\n\u001b[0;32m      5\u001b[0m \u001b[38;5;28mprint\u001b[39m(Q_list[\u001b[38;5;241m0\u001b[39m])\n\u001b[1;32m----> 6\u001b[0m V_eff_list\u001b[38;5;241m=\u001b[39m\u001b[43mV_eff\u001b[49m\u001b[43m(\u001b[49m\u001b[43mr_list\u001b[49m\u001b[43m,\u001b[49m\u001b[43mL\u001b[49m\u001b[43m,\u001b[49m\u001b[43mQ_b\u001b[49m\u001b[38;5;241;43m=\u001b[39;49m\u001b[43mQ_list\u001b[49m\u001b[43m[\u001b[49m\u001b[38;5;241;43m0\u001b[39;49m\u001b[43m]\u001b[49m\u001b[43m,\u001b[49m\u001b[43mQ_c\u001b[49m\u001b[38;5;241;43m=\u001b[39;49m\u001b[43mQ_list\u001b[49m\u001b[43m[\u001b[49m\u001b[38;5;241;43m1\u001b[39;49m\u001b[43m]\u001b[49m\u001b[43m)\u001b[49m\n\u001b[0;32m      9\u001b[0m fig,ax\u001b[38;5;241m=\u001b[39mplt\u001b[38;5;241m.\u001b[39msubplots()\n\u001b[0;32m     11\u001b[0m \u001b[38;5;66;03m#ax.plot(r_list,V_eff_list)\u001b[39;00m\n\u001b[0;32m     12\u001b[0m \u001b[38;5;66;03m#ax.legend()\u001b[39;00m\n",
      "Cell \u001b[1;32mIn[164], line 2\u001b[0m, in \u001b[0;36mV_eff\u001b[1;34m(r, L, sigma, Q_b, Q_c, f, h)\u001b[0m\n\u001b[0;32m      1\u001b[0m \u001b[38;5;28;01mdef\u001b[39;00m \u001b[38;5;21mV_eff\u001b[39m(r,   L,sigma\u001b[38;5;241m=\u001b[39m\u001b[38;5;241m0\u001b[39m,Q_b\u001b[38;5;241m=\u001b[39m\u001b[38;5;241m0\u001b[39m,Q_c\u001b[38;5;241m=\u001b[39m\u001b[38;5;241m0\u001b[39m ,f\u001b[38;5;241m=\u001b[39m\u001b[38;5;28;01mlambda\u001b[39;00m r,Q_b,Q_c: functions(r,Q_b,Q_c)[\u001b[38;5;241m0\u001b[39m], h\u001b[38;5;241m=\u001b[39m\u001b[38;5;28;01mlambda\u001b[39;00m r,Q_b,Q_c: functions(r,Q_b,Q_c)[\u001b[38;5;241m2\u001b[39m]):\n\u001b[1;32m----> 2\u001b[0m     V\u001b[38;5;241m=\u001b[39m \u001b[43mf\u001b[49m\u001b[43m(\u001b[49m\u001b[43mr\u001b[49m\u001b[43m,\u001b[49m\u001b[43mQ_b\u001b[49m\u001b[43m,\u001b[49m\u001b[43mQ_c\u001b[49m\u001b[43m)\u001b[49m\u001b[38;5;241m*\u001b[39m(sigma\u001b[38;5;241m-\u001b[39mL\u001b[38;5;241m*\u001b[39m\u001b[38;5;241m*\u001b[39m\u001b[38;5;241m2\u001b[39m\u001b[38;5;241m/\u001b[39m(h(r,Q_b,Q_c)))\n\u001b[0;32m      3\u001b[0m     \u001b[38;5;28;01mreturn\u001b[39;00m V\n",
      "Cell \u001b[1;32mIn[164], line 1\u001b[0m, in \u001b[0;36m<lambda>\u001b[1;34m(r, Q_b, Q_c)\u001b[0m\n\u001b[1;32m----> 1\u001b[0m \u001b[38;5;28;01mdef\u001b[39;00m \u001b[38;5;21mV_eff\u001b[39m(r,   L,sigma\u001b[38;5;241m=\u001b[39m\u001b[38;5;241m0\u001b[39m,Q_b\u001b[38;5;241m=\u001b[39m\u001b[38;5;241m0\u001b[39m,Q_c\u001b[38;5;241m=\u001b[39m\u001b[38;5;241m0\u001b[39m ,f\u001b[38;5;241m=\u001b[39m\u001b[38;5;28;01mlambda\u001b[39;00m r,Q_b,Q_c: \u001b[43mfunctions\u001b[49m\u001b[43m(\u001b[49m\u001b[43mr\u001b[49m\u001b[43m,\u001b[49m\u001b[43mQ_b\u001b[49m\u001b[43m,\u001b[49m\u001b[43mQ_c\u001b[49m\u001b[43m)\u001b[49m[\u001b[38;5;241m0\u001b[39m], h\u001b[38;5;241m=\u001b[39m\u001b[38;5;28;01mlambda\u001b[39;00m r,Q_b,Q_c: functions(r,Q_b,Q_c)[\u001b[38;5;241m2\u001b[39m]):\n\u001b[0;32m      2\u001b[0m     V\u001b[38;5;241m=\u001b[39m f(r,Q_b,Q_c)\u001b[38;5;241m*\u001b[39m(sigma\u001b[38;5;241m-\u001b[39mL\u001b[38;5;241m*\u001b[39m\u001b[38;5;241m*\u001b[39m\u001b[38;5;241m2\u001b[39m\u001b[38;5;241m/\u001b[39m(h(r,Q_b,Q_c)))\n\u001b[0;32m      3\u001b[0m     \u001b[38;5;28;01mreturn\u001b[39;00m V\n",
      "Cell \u001b[1;32mIn[138], line 5\u001b[0m, in \u001b[0;36mfunctions\u001b[1;34m(r, Q_b, Q_c)\u001b[0m\n\u001b[0;32m      3\u001b[0m \u001b[38;5;28;01mdef\u001b[39;00m \u001b[38;5;21mfunctions\u001b[39m(r,Q_b\u001b[38;5;241m=\u001b[39m\u001b[38;5;241m0\u001b[39m,Q_c\u001b[38;5;241m=\u001b[39m\u001b[38;5;241m0\u001b[39m):\n\u001b[0;32m      4\u001b[0m     R_s\u001b[38;5;241m=\u001b[39m\u001b[38;5;241m2\u001b[39m\u001b[38;5;241m*\u001b[39mM\n\u001b[1;32m----> 5\u001b[0m     f\u001b[38;5;241m=\u001b[39m(\u001b[38;5;241m1\u001b[39m\u001b[38;5;241m+\u001b[39m\u001b[43mQ_b\u001b[49m\u001b[38;5;241;43m/\u001b[39;49m\u001b[43mr\u001b[49m\u001b[38;5;241;43m*\u001b[39;49m\u001b[38;5;241;43m*\u001b[39;49m\u001b[38;5;241;43m2\u001b[39;49m)\u001b[38;5;241m*\u001b[39m(\u001b[38;5;241m1\u001b[39m\u001b[38;5;241m+\u001b[39mQ_c\u001b[38;5;241m*\u001b[39mR_s\u001b[38;5;241m*\u001b[39m\u001b[38;5;241m*\u001b[39m\u001b[38;5;241m2\u001b[39m\u001b[38;5;241m/\u001b[39m(\u001b[38;5;241m4\u001b[39m\u001b[38;5;241m*\u001b[39mr\u001b[38;5;241m*\u001b[39m\u001b[38;5;241m*\u001b[39m\u001b[38;5;241m8\u001b[39m))\u001b[38;5;241m*\u001b[39m\u001b[38;5;241m*\u001b[39m(\u001b[38;5;241m-\u001b[39m\u001b[38;5;241m1\u001b[39m\u001b[38;5;241m/\u001b[39m\u001b[38;5;241m4\u001b[39m)\u001b[38;5;241m*\u001b[39m(\u001b[38;5;241m1\u001b[39m\u001b[38;5;241m-\u001b[39mR_s\u001b[38;5;241m/\u001b[39mnp\u001b[38;5;241m.\u001b[39msqrt(r\u001b[38;5;241m*\u001b[39m\u001b[38;5;241m*\u001b[39m\u001b[38;5;241m2\u001b[39m\u001b[38;5;241m+\u001b[39mQ_b))\n\u001b[0;32m      6\u001b[0m     g\u001b[38;5;241m=\u001b[39m(\u001b[38;5;241m1\u001b[39m\u001b[38;5;241m+\u001b[39mQ_c\u001b[38;5;241m*\u001b[39mR_s\u001b[38;5;241m*\u001b[39m\u001b[38;5;241m*\u001b[39m\u001b[38;5;241m2\u001b[39m\u001b[38;5;241m/\u001b[39m(\u001b[38;5;241m4\u001b[39m\u001b[38;5;241m*\u001b[39mr\u001b[38;5;241m*\u001b[39m\u001b[38;5;241m*\u001b[39m\u001b[38;5;241m8\u001b[39m))\u001b[38;5;241m*\u001b[39m\u001b[38;5;241m*\u001b[39m(\u001b[38;5;241m1\u001b[39m\u001b[38;5;241m/\u001b[39m\u001b[38;5;241m4\u001b[39m)\u001b[38;5;241m*\u001b[39m(\u001b[38;5;241m1\u001b[39m\u001b[38;5;241m-\u001b[39mR_s\u001b[38;5;241m/\u001b[39mnp\u001b[38;5;241m.\u001b[39msqrt(r\u001b[38;5;241m*\u001b[39m\u001b[38;5;241m*\u001b[39m\u001b[38;5;241m2\u001b[39m\u001b[38;5;241m+\u001b[39mQ_b))\u001b[38;5;241m*\u001b[39m\u001b[38;5;241m*\u001b[39m(\u001b[38;5;241m-\u001b[39m\u001b[38;5;241m1\u001b[39m)\n\u001b[0;32m      7\u001b[0m     h\u001b[38;5;241m=\u001b[39mr\u001b[38;5;241m*\u001b[39m\u001b[38;5;241m*\u001b[39m\u001b[38;5;241m2\u001b[39m\u001b[38;5;241m*\u001b[39m(\u001b[38;5;241m1\u001b[39m\u001b[38;5;241m+\u001b[39mQ_c\u001b[38;5;241m*\u001b[39mR_s\u001b[38;5;241m*\u001b[39m\u001b[38;5;241m*\u001b[39m\u001b[38;5;241m2\u001b[39m\u001b[38;5;241m/\u001b[39m(\u001b[38;5;241m4\u001b[39m\u001b[38;5;241m*\u001b[39mr\u001b[38;5;241m*\u001b[39m\u001b[38;5;241m*\u001b[39m\u001b[38;5;241m8\u001b[39m))\u001b[38;5;241m*\u001b[39m\u001b[38;5;241m*\u001b[39m(\u001b[38;5;241m1\u001b[39m\u001b[38;5;241m/\u001b[39m\u001b[38;5;241m4\u001b[39m)\n",
      "\u001b[1;31mValueError\u001b[0m: operands could not be broadcast together with shapes (2,) (1000,) "
     ]
    }
   ],
   "source": [
    "L=3\n",
    "\n",
    "r_list=np.linspace(2*M,10*2*M,1000)\n",
    "Q_list=Q(np.linspace(0,1,2),L)\n",
    "\n",
    "fig,ax=plt.subplots()\n",
    "\n",
    "for i in range(len(Q_list)):\n",
    "    ax.plot(r_list, V_eff(r_list,L,Q_b=Q_list[0][i]))\n",
    "\n",
    "\n",
    "#ax.plot(r_list,V_eff_list)\n",
    "#ax.legend()"
   ]
  },
  {
   "cell_type": "code",
   "execution_count": null,
   "metadata": {},
   "outputs": [],
   "source": []
  },
  {
   "cell_type": "code",
   "execution_count": null,
   "metadata": {},
   "outputs": [],
   "source": []
  }
 ],
 "metadata": {
  "kernelspec": {
   "display_name": "Python 3",
   "language": "python",
   "name": "python3"
  },
  "language_info": {
   "codemirror_mode": {
    "name": "ipython",
    "version": 3
   },
   "file_extension": ".py",
   "mimetype": "text/x-python",
   "name": "python",
   "nbconvert_exporter": "python",
   "pygments_lexer": "ipython3",
   "version": "3.13.0"
  }
 },
 "nbformat": 4,
 "nbformat_minor": 2
}
