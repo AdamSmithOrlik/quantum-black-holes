{
 "cells": [
  {
   "cell_type": "markdown",
   "metadata": {},
   "source": [
    "# Imports"
   ]
  },
  {
   "cell_type": "code",
   "execution_count": 6,
   "metadata": {},
   "outputs": [],
   "source": [
    "import numpy as np\n",
    "import pandas as pd\n",
    "import matplotlib.pyplot as plt\n",
    "\n",
    "# sympy \n",
    "import sympy as sp \n",
    "\n",
    "# einsteinpy \n",
    "import einsteinpy as ep"
   ]
  },
  {
   "cell_type": "markdown",
   "metadata": {},
   "source": [
    "# Quick Intro to sympy"
   ]
  },
  {
   "cell_type": "code",
   "execution_count": 8,
   "metadata": {},
   "outputs": [],
   "source": [
    "from sympy import diff, sin, exp"
   ]
  },
  {
   "cell_type": "code",
   "execution_count": 13,
   "metadata": {},
   "outputs": [
    {
     "name": "stdout",
     "output_type": "stream",
     "text": [
      "x**2 + exp(x) + sin(x)\n",
      "2*x + exp(x) + cos(x)\n",
      "cos(1) + 2 + E\n",
      "5.25858413432718\n"
     ]
    }
   ],
   "source": [
    "# define symbols\n",
    "x, y = sp.symbols('x y')\n",
    "\n",
    "# define function\n",
    "f = x**2 + sin(x) + exp(x)\n",
    "\n",
    "# print expression\n",
    "print(f)\n",
    "\n",
    "# differentiate\n",
    "f_prime = diff(f, x)\n",
    "\n",
    "# print derivative\n",
    "print(f_prime)\n",
    "\n",
    "# evaluate derivative at x = 1\n",
    "ans = f_prime.subs(x, 1)\n",
    "\n",
    "# print answer\n",
    "print(ans)\n",
    "\n",
    "# simplify answer into a float\n",
    "ans = ans.evalf()\n",
    "print(ans)"
   ]
  },
  {
   "cell_type": "code",
   "execution_count": 15,
   "metadata": {},
   "outputs": [
    {
     "name": "stdout",
     "output_type": "stream",
     "text": [
      "x**3/3 + exp(x) - cos(x)\n"
     ]
    },
    {
     "name": "stdout",
     "output_type": "stream",
     "text": [
      "-cos(1) + 1/3 + E\n",
      "2.51131285592424\n"
     ]
    }
   ],
   "source": [
    "# integration\n",
    "f_int = sp.integrate(f, x)\n",
    "\n",
    "# print integral\n",
    "print(f_int)\n",
    "\n",
    "# definite intrgral\n",
    "f_int_def = sp.integrate(f, (x, 0, 1))\n",
    "\n",
    "# print definite integral\n",
    "print(f_int_def)\n",
    "\n",
    "# simplify answer into a float\n",
    "f_int_def = f_int_def.evalf()\n",
    "print(f_int_def)"
   ]
  },
  {
   "cell_type": "code",
   "execution_count": 17,
   "metadata": {},
   "outputs": [
    {
     "name": "stdout",
     "output_type": "stream",
     "text": [
      "[-2, 2]\n",
      "{x: 1, y: 0}\n"
     ]
    }
   ],
   "source": [
    "# solve equation\n",
    "eq = sp.Eq(x**2 - 4, 0)\n",
    "sol = sp.solve(eq, x)\n",
    "\n",
    "# print solution\n",
    "print(sol)\n",
    "\n",
    "# solve system of equations\n",
    "eq1 = sp.Eq(x + y, 1)\n",
    "eq2 = sp.Eq(x - y, 1)\n",
    "sol = sp.solve((eq1, eq2), (x, y))\n",
    "\n",
    "# print solution\n",
    "print(sol)"
   ]
  },
  {
   "cell_type": "code",
   "execution_count": 19,
   "metadata": {},
   "outputs": [
    {
     "name": "stdout",
     "output_type": "stream",
     "text": [
      "Matrix addition:  Matrix([[6, 8], [10, 12]])\n",
      "Matirx multiplicaiton:  Matrix([[19, 22], [43, 50]])\n",
      "Matrix transpose:  Matrix([[1, 3], [2, 4]])\n",
      "Matrix inverse:  Matrix([[-2, 1], [3/2, -1/2]])\n",
      "Matrix determinant:  -2\n",
      "Matrix eigenvalues:  {5/2 - sqrt(33)/2: 1, 5/2 + sqrt(33)/2: 1}\n",
      "Matrix eigenvectors:  [(5/2 - sqrt(33)/2, 1, [Matrix([\n",
      "[-sqrt(33)/6 - 1/2],\n",
      "[                1]])]), (5/2 + sqrt(33)/2, 1, [Matrix([\n",
      "[-1/2 + sqrt(33)/6],\n",
      "[                1]])])]\n",
      "Matrix diagonalization:  (Matrix([\n",
      "[-sqrt(33)/6 - 1/2, -1/2 + sqrt(33)/6],\n",
      "[                1,                 1]]), Matrix([\n",
      "[5/2 - sqrt(33)/2,                0],\n",
      "[               0, 5/2 + sqrt(33)/2]]))\n",
      "Matrix trace:  5\n",
      "Matrix norm:  sqrt(30)\n",
      "Matrix rank:  2\n",
      "Matrix nullspace:  []\n",
      "Matrix row reduced echelon form:  (Matrix([\n",
      "[1, 0],\n",
      "[0, 1]]), (0, 1))\n"
     ]
    }
   ],
   "source": [
    "# matrices in sympy\n",
    "A = sp.Matrix([[1, 2], [3, 4]])\n",
    "B = sp.Matrix([[5, 6], [7, 8]])\n",
    "\n",
    "# matrix addition\n",
    "C = A + B\n",
    "print(\"Matrix addition: \", C)\n",
    "\n",
    "# matrix multiplication\n",
    "C = A * B\n",
    "print(\"Matirx multiplicaiton: \", C)\n",
    "\n",
    "# matrix transpose\n",
    "C = A.T\n",
    "print(\"Matrix transpose: \", C)\n",
    "\n",
    "# matrix inverse\n",
    "C = A.inv()\n",
    "print(\"Matrix inverse: \", C)\n",
    "\n",
    "# matrix determinant\n",
    "C = A.det()\n",
    "print(\"Matrix determinant: \", C)\n",
    "\n",
    "# matrix eigenvalues\n",
    "C = A.eigenvals()\n",
    "print(\"Matrix eigenvalues: \", C)\n",
    "\n",
    "# matrix eigenvectors\n",
    "C = A.eigenvects()\n",
    "print(\"Matrix eigenvectors: \", C)\n",
    "\n",
    "# matrix diagonalization\n",
    "C = A.diagonalize()\n",
    "print(\"Matrix diagonalization: \", C)\n",
    "\n",
    "# matrix trace\n",
    "C = A.trace()\n",
    "print(\"Matrix trace: \", C)\n",
    "\n",
    "# matrix norm\n",
    "C = A.norm()\n",
    "print(\"Matrix norm: \", C)\n",
    "\n",
    "# matrix rank\n",
    "C = A.rank()\n",
    "print(\"Matrix rank: \", C)\n",
    "\n",
    "# matrix nullspace\n",
    "C = A.nullspace()\n",
    "print(\"Matrix nullspace: \", C)\n",
    "\n",
    "# matrix row reduced echelon form\n",
    "C = A.rref()\n",
    "print(\"Matrix row reduced echelon form: \", C)\n"
   ]
  },
  {
   "cell_type": "code",
   "execution_count": 22,
   "metadata": {},
   "outputs": [
    {
     "data": {
      "text/latex": [
       "$\\displaystyle \\left[\\begin{matrix}1 & 2\\\\3 & 4\\end{matrix}\\right]$"
      ],
      "text/plain": [
       "Matrix([\n",
       "[1, 2],\n",
       "[3, 4]])"
      ]
     },
     "execution_count": 22,
     "metadata": {},
     "output_type": "execute_result"
    }
   ],
   "source": [
    "A"
   ]
  },
  {
   "cell_type": "code",
   "execution_count": 24,
   "metadata": {},
   "outputs": [
    {
     "data": {
      "text/latex": [
       "$\\displaystyle \\left[\\begin{matrix}5 & 6\\\\7 & 8\\end{matrix}\\right]$"
      ],
      "text/plain": [
       "Matrix([\n",
       "[5, 6],\n",
       "[7, 8]])"
      ]
     },
     "execution_count": 24,
     "metadata": {},
     "output_type": "execute_result"
    }
   ],
   "source": [
    "B"
   ]
  },
  {
   "cell_type": "code",
   "execution_count": 25,
   "metadata": {},
   "outputs": [
    {
     "data": {
      "text/plain": [
       "(2, 2)"
      ]
     },
     "execution_count": 25,
     "metadata": {},
     "output_type": "execute_result"
    }
   ],
   "source": [
    "A.shape"
   ]
  },
  {
   "cell_type": "code",
   "execution_count": 26,
   "metadata": {},
   "outputs": [
    {
     "data": {
      "text/latex": [
       "$\\displaystyle \\left[\\begin{matrix}1 & 2\\end{matrix}\\right]$"
      ],
      "text/plain": [
       "Matrix([[1, 2]])"
      ]
     },
     "execution_count": 26,
     "metadata": {},
     "output_type": "execute_result"
    }
   ],
   "source": [
    "A.row(0)"
   ]
  },
  {
   "cell_type": "code",
   "execution_count": 28,
   "metadata": {},
   "outputs": [
    {
     "data": {
      "text/latex": [
       "$\\displaystyle f{\\left(x \\right)} + \\frac{d^{2}}{d x^{2}} f{\\left(x \\right)} = \\sin{\\left(x \\right)}$"
      ],
      "text/plain": [
       "Eq(f(x) + Derivative(f(x), (x, 2)), sin(x))"
      ]
     },
     "execution_count": 28,
     "metadata": {},
     "output_type": "execute_result"
    }
   ],
   "source": [
    "# solving differential equations\n",
    "f = sp.Function('f')\n",
    "\n",
    "# define differential equation\n",
    "deqn = sp.Eq(f(x).diff(x, x) + f(x), sp.sin(x))\n",
    "\n",
    "# print differential equation\n",
    "deqn"
   ]
  },
  {
   "cell_type": "code",
   "execution_count": 29,
   "metadata": {},
   "outputs": [
    {
     "data": {
      "text/latex": [
       "$\\displaystyle f{\\left(x \\right)} = C_{2} \\sin{\\left(x \\right)} + \\left(C_{1} - \\frac{x}{2}\\right) \\cos{\\left(x \\right)}$"
      ],
      "text/plain": [
       "Eq(f(x), C2*sin(x) + (C1 - x/2)*cos(x))"
      ]
     },
     "execution_count": 29,
     "metadata": {},
     "output_type": "execute_result"
    }
   ],
   "source": [
    "# solve differential equation\n",
    "sol = sp.dsolve(deqn, f(x))\n",
    "\n",
    "# print solution\n",
    "sol"
   ]
  },
  {
   "cell_type": "code",
   "execution_count": null,
   "metadata": {},
   "outputs": [
    {
     "data": {
      "text/latex": [
       "$\\displaystyle f{\\left(x \\right)} = - \\frac{x \\cos{\\left(x \\right)}}{2} + \\frac{3 \\sin{\\left(x \\right)}}{2}$"
      ],
      "text/plain": [
       "Eq(f(x), -x*cos(x)/2 + 3*sin(x)/2)"
      ]
     },
     "execution_count": 30,
     "metadata": {},
     "output_type": "execute_result"
    }
   ],
   "source": [
    "# solve differential equation with initial conditions\n",
    "sol = sp.dsolve(deqn, f(x), ics={f(0): 0, f(x).diff(x).subs(x, 0): 1}) # f(0) = 0, f'(0) = 1\n",
    "\n",
    "# print solution\n",
    "sol"
   ]
  },
  {
   "cell_type": "code",
   "execution_count": 31,
   "metadata": {},
   "outputs": [
    {
     "data": {
      "image/png": "[encoded data removed]",
      "text/plain": [
       "<Figure size 640x480 with 1 Axes>"
      ]
     },
     "metadata": {},
     "output_type": "display_data"
    }
   ],
   "source": [
    "# plot the function and the solution\n",
    "x_vals = np.linspace(0, 10, 100)\n",
    "y_vals = np.sin(x_vals)\n",
    "y_sol = [sol.rhs.subs(x, val).evalf() for val in x_vals]\n",
    "\n",
    "plt.plot(x_vals, y_vals, label='sin(x)')\n",
    "plt.plot(x_vals, y_sol, label='solution')\n",
    "plt.legend()\n",
    "plt.show()"
   ]
  },
  {
   "cell_type": "code",
   "execution_count": null,
   "metadata": {},
   "outputs": [],
   "source": []
  }
 ],
 "metadata": {
  "kernelspec": {
   "display_name": "physenv",
   "language": "python",
   "name": "python3"
  },
  "language_info": {
   "codemirror_mode": {
    "name": "ipython",
    "version": 3
   },
   "file_extension": ".py",
   "mimetype": "text/x-python",
   "name": "python",
   "nbconvert_exporter": "python",
   "pygments_lexer": "ipython3",
   "version": "3.12.5"
  }
 },
 "nbformat": 4,
 "nbformat_minor": 2
}
